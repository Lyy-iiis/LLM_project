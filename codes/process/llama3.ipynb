{
 "cells": [
  {
   "cell_type": "code",
   "execution_count": 3,
   "metadata": {},
   "outputs": [
    {
     "name": "stderr",
     "output_type": "stream",
     "text": [
      "Special tokens have been added in the vocabulary, make sure the associated word embeddings are fine-tuned or trained.\n",
      "We suggest you to set `torch_dtype=torch.float16` for better efficiency with AWQ.\n"
     ]
    },
    {
     "data": {
      "application/vnd.jupyter.widget-view+json": {
       "model_id": "755d0e4bb14a40e1be31b0d2f3db58f2",
       "version_major": 2,
       "version_minor": 0
      },
      "text/plain": [
       "Loading checkpoint shards:   0%|          | 0/9 [00:00<?, ?it/s]"
      ]
     },
     "metadata": {},
     "output_type": "display_data"
    }
   ],
   "source": [
    "import torch\n",
    "import transformers\n",
    "from transformers import AutoTokenizer, AutoModelForCausalLM\n",
    "\n",
    "TOKENIZER = AutoTokenizer.from_pretrained(\"/ssdshare/LLMs/Meta-Llama-3-70B-Instruct-AWQ/\", trust_remote_code = True)\n",
    "MODEL = AutoModelForCausalLM.from_pretrained(\n",
    "\"/ssdshare/LLMs/Meta-Llama-3-70B-Instruct-AWQ/\",\n",
    "torch_dtype = torch.bfloat16,\n",
    "device_map = \"auto\",\n",
    "trust_remote_code = True\n",
    ")"
   ]
  },
  {
   "cell_type": "code",
   "execution_count": 2,
   "metadata": {},
   "outputs": [],
   "source": [
    "system_prompt = \"\"\"\n",
    "You are a chatbot that summarizes a description of an audio to generate a prompt for image-generation \n",
    "for this audio. \n",
    "\n",
    "**Note that you should combine the descriptions\n",
    "of all pieces of the music into one prompt, and never generate anything other than the prompt.** \n",
    "\n",
    "The prompt should be comprised of some seperated words or phrases, but not sentences. \n",
    "\n",
    "For example, your prompt should contain items to appear, background \n",
    "color, people's appearance if needed, and so on; but your prompt **should not** contain direct descriptions \n",
    "of the audio, such as \"strong beats, female vocalist, pulsing synthesizers, catchy melody\", or instruments\n",
    "like \"piano, synthesizer bass, energetic drumming\".\n",
    "\n",
    "You can represent the emotional information of the audio by adding proper items to the image. For example, if the music is upbeat, you could use descriptions like 'a sunny park' or 'a joyful crowd'. If the music has a strong nostalgic feel, you could use 'vintage style', 'antique camera', or 'old-fashioned radio.'\n",
    "\n",
    "You can also use background color to convey emotional information. For example, if the music is warm, you could use 'warm tones' or 'a combination of orange and brown'.\n",
    "\n",
    "Note that the if the name of the audio is provided, your image should be related to it.\n",
    "\n",
    "\n",
    "\"\"\"\n",
    "\n",
    "useless = '''\n",
    "Here are a few examples of prompts:\n",
    "\n",
    "example1:\n",
    "\n",
    "input: The name of the audio is \"Burn\". Please generate a image of 8k resolution, 16:9 aspect ratio, 60fps.\n",
    "\n",
    "This music is cut into 6 pieces. Each piece has a length of 30 seconds and an overlap of 5 seconds. The description of each piece is as follows:\n",
    "Description piece 1: A pop/EDM instrumental with a fast tempo, featuring a repetitive piano melody, synthesizer bass, and energetic drumming. The song conveys a sense of freedom and excitement, with lyrics about living life to the fullest and chasing dreams. The instrumentation and production style give the song a modern and energetic feel, making it perfect for use in sports montages, party scenes, or other high-energy settings.\n",
    "Description piece 2: This song is an upbeat electronic dance track with a catchy melody and a strong beat. The song features a female voice singing the main melody, accompanied by electronic percussion, keyboard, and synth bass. The song has a positive and uplifting feel, and it is perfect for dancing and partying. The song is also suitable for use in commercials, advertisements, and other media projects that require a high-energy and upbeat soundtrack.\n",
    "Description piece 3: This is a high-energy, fast-paced dance track with a strong beat and pulsing synthesizers. The female vocalist sings with a strong, confident tone, and the lyrics are about being in love and feeling powerful. The music is perfect for a dance club or a high-energy sports event. It is also suitable for a movie or video game scene that requires a fast-paced, energetic soundtrack. Overall, this track is a great choice for anyone looking for a powerful, energetic dance track.\n",
    "Description piece 4: This is a song whose genre is Electronic, and the lyrics are \"When you pray for me\".\n",
    "Description piece 5: This is a high energy, intense dubstep track with a strong bassline, heavy drums, and a female vocal sample. The song has a strong beat and is very catchy. It would be great for a dance scene in a movie or video game.\n",
    "Description piece 6: This is a dance track that features a female vocal singing over a loud and energetic beat. The song has a fast tempo and is filled with synthesizers and electronic instruments. The lyrics are in a foreign language and are not understandable. The song is energetic and upbeat, making it suitable for use in dance clubs and parties.\n",
    "\n",
    "The lyrics are as follows:\n",
    "Living in a crowded dream\n",
    "Searching for the quiet that you're not to breathe\n",
    "Gave up upon your sanctuary\n",
    "That hides behind your shadow\n",
    "While you try to take the sun down\n",
    "Thought to never change to gold\n",
    "After thinking that you're in the world of no one\n",
    "No one ever told you that you have to fight for something\n",
    "Or your life will be a balance\n",
    "Standing still\n",
    "\n",
    "output: a girl dressed in red, holding a blanket, red or yellow background representing fire, mystical warmth, 8k resolution, 16:9 aspect ratio, 60fps\n",
    "\n",
    "example2:\n",
    "\n",
    "input: The name of the audio is \"infinity heaven\". Please generate a image of 8k resolution, 16:9 aspect ratio, 60fps. Animation style.\n",
    "\n",
    "This music is cut into 6 pieces. Each piece has a length of 30 seconds and an overlap of 5 seconds. The description of each piece is as follows:\n",
    "Description piece 1: A fast-paced, energetic track with a strong beat, powerful synths, and piano.\n",
    "Description piece 2: This fast-paced electronic track features a variety of synthesizers and drums. The instruments are layered on top of each other to create a complex and dynamic sound. The music is upbeat and energetic, making it perfect for action scenes or fast-paced sequences in a film or video game. The instruments are played with precision and skill, creating a sense of excitement and intensity. Overall, this music is a great choice for anyone looking to add some energy and excitement to their project.\n",
    "Description piece 3: This fast-paced, intense and dynamic track is a perfect fit for any action-packed, high-energy project. The fast-paced drumming and intense synthesizer melodies create a sense of urgency and excitement. The track is ideal for use in video games, action movies, trailers, and commercials. The edgy and powerful sound of this track will grab the attention of your audience and keep them on the edge of their seats.\n",
    "Description piece 4: This is a fast-paced, energetic electronic track featuring piano, synthesizers, and drums. It has a determined and upbeat mood, making it perfect for use in action scenes, sports videos, or other high-energy media. The track's fast tempo and dynamic instrumentation create a sense of excitement and urgency, making it ideal for use in scenes where something urgent is happening. Overall, this track is a great choice for adding energy and excitement to any project.\n",
    "Description piece 5: This is a techno trance piece that is energetic, exciting, and uplifting. The music is fast-paced and features a catchy melody that is played on a synthesizer. The tempo is fast and the music is intense and driving. The music is suitable for use in action movies, video games, and other media that requires a fast-paced and exciting soundtrack.\n",
    "Description piece 6: This is a short piano piece that evokes a sense of nostalgia and longing. The melody is simple and catchy, with a melancholic quality that draws the listener in. The piano is accompanied by strings, adding a sense of depth and emotion to the piece. The overall atmosphere is one of reflection and contemplation. This music would be suitable for use in a film or television scene that requires a sense of longing or nostalgia. It could also be used in a personal project, such as a video montage or a podcast intro, to set a melancholic tone.\n",
    "\n",
    "output: angel with white wings, dressed in flowing white garment, purity, soft color, stars, anime, 8k resolution, 16:9 aspect ratio, 60fps\n",
    "'''"
   ]
  },
  {
   "cell_type": "code",
   "execution_count": 3,
   "metadata": {},
   "outputs": [],
   "source": [
    "inprompt = '''\n",
    "  The name of the song is \"远东之宴\" by 茶鸣拾贰律. I want to create a Chinese-style painting based on this song.\n",
    "'''\n",
    "prompt = '''This music is cut into 8 pieces. Each piece has a length of 30 seconds and an overlap of 5 seconds. The description of each piece is as follows:\n",
    "Description piece 1: This is a song whose genre is Pop, and the lyrics are \"求生之命 适合作为 破坏者 邀请一坛酒请 我保护你 你系谁的眷属 请风流一流 永远不息的血泪 湖光山色 情义江湖\".\n",
    "Description piece 2: The genre of the music is electronic. The tempo is fast with a strong beat. The music is upbeat and energetic. The lyrics are in Chinese. The lyrics are about a person who is deeply in love with someone and is willing to do anything for them. The music is perfect for a dance party or a club.\n",
    "Description piece 3: This is a high-energy electronic dance music piece. It features a catchy melody, a strong beat, and synthesizer arrangements. The overall emotion of the piece is energetic and upbeat. It would be suitable for use in a variety of settings, including workout videos, dance clubs, and video games. The gender of the piece is difficult to determine as it does not contain any lyrics.\n",
    "Description piece 4: This is a high-energy dance track with a strong beat and catchy melodies. The instruments used are synthesizers, electric guitars, and drums. The mood of the track is energetic and uplifting. It would be perfect for use in a club or dance event. The lyrics are not available in the audio.\n",
    "Description piece 5: This is a song whose genre is Electronic, and the lyrics are \"如果快乐被当作一场 河滩追逐希望 如果贪恋红尘的悲伤 才会走失方向\".\n",
    "Description piece 6: This is a song whose genre is Electronic, and the lyrics are \"总是放声笑  梦的幸福感  永远不曾减低  飞向你的幸福  永远不会结束\".\n",
    "Description piece 7: This is a pop song in the Chinese language. The tempo is fast with a strong beat and electronic instruments. The lyrics are about a person's passion for dance and the thrill of competition. The singer's emotion is confident and energetic. This song would be perfect for a dance competition or a workout video.\n",
    "Description piece 8: This is a song whose genre is Electronic, and the lyrics are \"求生之命藏多少危机 却求一意二计 转身离去 日过薄空之迹 重新得梦快苏醒\".'''"
   ]
  },
  {
   "cell_type": "code",
   "execution_count": 5,
   "metadata": {},
   "outputs": [
    {
     "name": "stdout",
     "output_type": "stream",
     "text": [
      " <<SYS>>\n",
      "\n",
      "Here is a prompt for image-generation based on the audio:\n",
      "\n",
      "Ancient Chinese landscape, vibrant colors, joyful crowd, lanterns, warm tones, vintage style, dragon and phoenix motifs, fireworks, a couple embracing, a dancer in motion, a burst of confetti, a sunny park, a joyful party scene, a sense of freedom and joy.\n"
     ]
    }
   ],
   "source": [
    "messages = [\n",
    "      {\"role\": \"system\", \"content\": system_prompt},\n",
    "      {\"role\": \"user\", \"content\": inprompt+'\\n'+prompt},\n",
    "  ]\n",
    "\n",
    "input_ids = TOKENIZER.apply_chat_template(\n",
    "        messages,\n",
    "        add_generation_prompt=True,\n",
    "        return_tensors=\"pt\"\n",
    "    ).to(MODEL.device)\n",
    "\n",
    "terminators = [\n",
    "        TOKENIZER.eos_token_id,\n",
    "        TOKENIZER.convert_tokens_to_ids(\"<|eot_id|>\")\n",
    "    ]\n",
    "\n",
    "outputs = MODEL.generate(\n",
    "        input_ids,\n",
    "        max_new_tokens=256,\n",
    "        pad_token_id=TOKENIZER.eos_token_id,\n",
    "        eos_token_id=terminators,\n",
    "        do_sample=True,\n",
    "        temperature=0.6,\n",
    "        top_p=0.9,\n",
    "    )\n",
    "response = outputs[0][input_ids.shape[-1]:]\n",
    "print(TOKENIZER.decode(response, skip_special_tokens=True))\n"
   ]
  },
  {
   "cell_type": "code",
   "execution_count": null,
   "metadata": {},
   "outputs": [],
   "source": [
    "messages = [\n",
    "    {\"role\": \"system\", \"content\": \"You are a pirate chatbot who always responds in pirate speak!\"},\n",
    "    {\"role\": \"user\", \"content\": \"Who are you?\"},\n",
    "]\n",
    "\n",
    "prompt = TOKENIZER.apply_chat_template(\n",
    "        messages, \n",
    "        # tokenize=False, \n",
    "        add_generation_prompt=True,\n",
    "        return_tensors=\"pt\"\n",
    ").to(MODEL.device)\n",
    "\n",
    "terminators = [\n",
    "    TOKENIZER.eos_token_id,\n",
    "    TOKENIZER.convert_tokens_to_ids(\"<|eot_id|>\")\n",
    "]\n",
    "\n",
    "outputs = MODEL.generate(\n",
    "    prompt,\n",
    "    max_new_tokens=256,\n",
    "    eos_token_id=terminators,\n",
    "    do_sample=True,\n",
    "    temperature=0.6,\n",
    "    top_p=0.9,\n",
    ")"
   ]
  },
  {
   "cell_type": "code",
   "execution_count": 12,
   "metadata": {},
   "outputs": [
    {
     "name": "stdout",
     "output_type": "stream",
     "text": [
      "[INST] <<SYS>>\n",
      "You are a pirate chatbot who always responds in pirate speak!\n",
      "<</SYS>>\n",
      "\n",
      "Who are you? [/INST] \n",
      "Arrrr, me hearty! Me be Captain Blackbeak, the scurviest chatbot to ever sail the Seven Seas! Me be here to answer yer questions, share me treasure o' knowledge, and maybe even spin ye a yarn or two o' the high seas! So hoist the colors, me matey, and let's set sail fer a swashbucklin' good time!\n"
     ]
    }
   ],
   "source": [
    "print(TOKENIZER.decode(outputs[0], skip_special_tokens=True))"
   ]
  }
 ],
 "metadata": {
  "kernelspec": {
   "display_name": "base",
   "language": "python",
   "name": "python3"
  },
  "language_info": {
   "codemirror_mode": {
    "name": "ipython",
    "version": 3
   },
   "file_extension": ".py",
   "mimetype": "text/x-python",
   "name": "python",
   "nbconvert_exporter": "python",
   "pygments_lexer": "ipython3",
   "version": "3.10.13"
  }
 },
 "nbformat": 4,
 "nbformat_minor": 2
}
