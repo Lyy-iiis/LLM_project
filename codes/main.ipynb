{
 "cells": [
  {
   "cell_type": "markdown",
   "metadata": {},
   "source": [
    "We should call `.py` so that cuda memory will be automatically released after each part.\n",
    "\n",
    "This notebook is used to organize the codes"
   ]
  },
  {
   "cell_type": "markdown",
   "metadata": {},
   "source": [
    "## Setup"
   ]
  },
  {
   "cell_type": "markdown",
   "metadata": {},
   "source": [
    "### What you need to do\n",
    "\n",
    "- Throw audio files into `data/` directory\n",
    "\n",
    "- Correctly set `input_list`\n",
    "\n",
    "- Create a `.env` file in the `process/` directory if using `glm-4`"
   ]
  },
  {
   "cell_type": "code",
   "execution_count": 1,
   "metadata": {},
   "outputs": [],
   "source": [
    "import os"
   ]
  },
  {
   "cell_type": "code",
   "execution_count": 2,
   "metadata": {},
   "outputs": [],
   "source": [
    "DATA_PATH = os.getcwd() + '/data/'\n",
    "MODEL_PATH = '/ssdshare/LLMs/'\n",
    "LLM_MODEL = \"glm-4\"\n",
    "GENRATE_MODEL = \"playground-v2.5-1024px-aesthetic\"\n",
    "\n",
    "if not os.path.exists(DATA_PATH + '.tmp/'):\n",
    "  os.makedirs(DATA_PATH + '.tmp/')"
   ]
  },
  {
   "cell_type": "code",
   "execution_count": 22,
   "metadata": {},
   "outputs": [],
   "source": [
    "input_list = [\n",
    "  'HyuN - Infinity Heaven.wav',\n",
    "  'NceS - Burn.mp3'\n",
    "]\n",
    "prompts = [r'''\n",
    "  The name of this song is Infinity Heaven. I want an angel in white standing in the middle of a field of flowers. I want it to be anime.\n",
    "''',\n",
    "r'''\n",
    "  The name of this song is Burn. I want a little girl standing in the middle of the night. I want it to be anime.\n",
    "'''\n",
    "]\n",
    "with open(DATA_PATH + 'input_list.txt', 'w') as f:\n",
    "  for item in input_list:\n",
    "    f.write(\"%s\\n\" % item)\n",
    "tmp_list = []\n",
    "for item in input_list:\n",
    "  tmp_list.append(item[:-4])\n",
    "input_list = tmp_list\n",
    "\n",
    "if not os.path.exists(DATA_PATH + '.tmp/inprompt/'):\n",
    "  os.makedirs(DATA_PATH + '.tmp/inprompt/')\n",
    "for (prompt, name) in zip(prompts, input_list):\n",
    "  with open(DATA_PATH + '.tmp/inprompt/' + name + '.prompt', 'w') as f:\n",
    "    f.write(prompt)"
   ]
  },
  {
   "cell_type": "markdown",
   "metadata": {},
   "source": [
    "## Extract"
   ]
  },
  {
   "cell_type": "code",
   "execution_count": 10,
   "metadata": {},
   "outputs": [
    {
     "name": "stdout",
     "output_type": "stream",
     "text": [
      "HyuN - Infinity Heaven.wav\n",
      "NceS - Burn.mp3\n",
      "['HyuN - Infinity Heaven.wav', 'NceS - Burn.wav']\n",
      "audio_start_id: 155163, audio_end_id: 155164, audio_pad_id: 151851.\n"
     ]
    },
    {
     "name": "stderr",
     "output_type": "stream",
     "text": [
      "The model is automatically converting to bf16 for faster inference. If you want to disable the automatic precision, please manually add bf16/fp16/fp32=True to \"AutoModelForCausalLM.from_pretrained\".\n",
      "Try importing flash-attention for faster inference...\n",
      "Warning: import flash_attn rotary fail, please install FlashAttention rotary to get higher efficiency https://github.com/Dao-AILab/flash-attention/tree/main/csrc/rotary\n",
      "Warning: import flash_attn rms_norm fail, please install FlashAttention layer_norm to get higher efficiency https://github.com/Dao-AILab/flash-attention/tree/main/csrc/layer_norm\n",
      "Warning: import flash_attn fail, please install FlashAttention to get higher efficiency https://github.com/Dao-AILab/flash-attention\n",
      "Loading checkpoint shards: 100%|██████████| 9/9 [00:03<00:00,  2.64it/s]\n",
      "The model is automatically converting to bf16 for faster inference. If you want to disable the automatic precision, please manually add bf16/fp16/fp32=True to \"AutoModelForCausalLM.from_pretrained\".\n",
      "Try importing flash-attention for faster inference...\n",
      "Warning: import flash_attn rotary fail, please install FlashAttention rotary to get higher efficiency https://github.com/Dao-AILab/flash-attention/tree/main/csrc/rotary\n",
      "Warning: import flash_attn rms_norm fail, please install FlashAttention layer_norm to get higher efficiency https://github.com/Dao-AILab/flash-attention/tree/main/csrc/layer_norm\n",
      "Warning: import flash_attn fail, please install FlashAttention to get higher efficiency https://github.com/Dao-AILab/flash-attention\n",
      "Loading checkpoint shards: 100%|██████████| 9/9 [00:03<00:00,  2.63it/s]\n",
      "The model is automatically converting to bf16 for faster inference. If you want to disable the automatic precision, please manually add bf16/fp16/fp32=True to \"AutoModelForCausalLM.from_pretrained\".\n",
      "Try importing flash-attention for faster inference...\n",
      "Warning: import flash_attn rotary fail, please install FlashAttention rotary to get higher efficiency https://github.com/Dao-AILab/flash-attention/tree/main/csrc/rotary\n",
      "Warning: import flash_attn rms_norm fail, please install FlashAttention layer_norm to get higher efficiency https://github.com/Dao-AILab/flash-attention/tree/main/csrc/layer_norm\n",
      "Warning: import flash_attn fail, please install FlashAttention to get higher efficiency https://github.com/Dao-AILab/flash-attention\n",
      "Loading checkpoint shards: 100%|██████████| 9/9 [00:03<00:00,  2.61it/s]\n",
      "The model is automatically converting to bf16 for faster inference. If you want to disable the automatic precision, please manually add bf16/fp16/fp32=True to \"AutoModelForCausalLM.from_pretrained\".\n",
      "Try importing flash-attention for faster inference...\n",
      "Warning: import flash_attn rotary fail, please install FlashAttention rotary to get higher efficiency https://github.com/Dao-AILab/flash-attention/tree/main/csrc/rotary\n",
      "Warning: import flash_attn rms_norm fail, please install FlashAttention layer_norm to get higher efficiency https://github.com/Dao-AILab/flash-attention/tree/main/csrc/layer_norm\n",
      "Warning: import flash_attn fail, please install FlashAttention to get higher efficiency https://github.com/Dao-AILab/flash-attention\n",
      "Loading checkpoint shards: 100%|██████████| 9/9 [00:03<00:00,  2.52it/s]\n"
     ]
    },
    {
     "name": "stdout",
     "output_type": "stream",
     "text": [
      "using device 0\n",
      "using device 1\n",
      "using device 2\n",
      "using device 3\n",
      "using device 0\n",
      "using device 1\n",
      "successfully add prompt for HyuN - Infinity Heaven.wav\n",
      "using device 2\n",
      "using device 3\n",
      "using device 0\n",
      "using device 1\n",
      "using device 2\n",
      "using device 3\n",
      "successfully add prompt for NceS - Burn.wav\n",
      "successfully write prompt for HyuN - Infinity Heaven.wav\n",
      "successfully write prompt for NceS - Burn.wav\n"
     ]
    },
    {
     "data": {
      "text/plain": [
       "0"
      ]
     },
     "execution_count": 10,
     "metadata": {},
     "output_type": "execute_result"
    }
   ],
   "source": [
    "os.system(f'python extract/extract.py --model_path {MODEL_PATH} --data_path {DATA_PATH} --output_path {DATA_PATH}.tmp/extract/ --device_num 4')"
   ]
  },
  {
   "cell_type": "code",
   "execution_count": 11,
   "metadata": {},
   "outputs": [
    {
     "name": "stdout",
     "output_type": "stream",
     "text": [
      "This music is cut into 6 pieces. Each piece has a length of 30 seconds and an overlap of 5 seconds. The description of each piece is as follows:\n",
      "Description piece 1: A fast-paced, energetic drum and bass track with a powerful piano lead and a driving bassline. Perfect for action, sports, and energetic videos.\n",
      "Description piece 2: This is a fast-paced electronic track with a strong emphasis on drums and percussion. The synthesizers and keyboard create a sense of urgency and excitement. The track is ideal for action scenes, fast-paced video games, and high-energy videos.\n",
      "Description piece 3: This is a fast-paced electronic dance music piece that features synthesizers, electric guitars, and a strong beat. The music is energetic and upbeat, making it perfect for use in action scenes or fast-paced video games. The instruments are played with precision and skill, creating a sense of excitement and urgency. The overall sound is intense and powerful, making it ideal for use in scenes that require a sense of intensity or urgency.\n",
      "Description piece 4: This is a dynamic and intense electronic track featuring powerful drums, hard-hitting bass, and a catchy piano melody. The mood is energetic and upbeat, making it perfect for action scenes, sports videos, and high-energy media. The track is also suitable for use in corporate videos, commercials, and presentations that require a sense of excitement and urgency. Overall, this music is perfect for anyone looking to add a touch of intensity and energy to their project.\n",
      "Description piece 5: This is a fast-paced, upbeat, electronic, instrumental piece that features synthesizers, piano, and strings. It has a strong, determined, and confident feel to it. This piece would be well-suited for use in a fast-paced, action-packed scene in a movie or video game.\n",
      "Description piece 6: The low quality recording features a cinematic piano melody that sounds sad and emotional. It sounds like it was recorded with a phone.\n",
      "\n",
      "This music is cut into 6 pieces. Each piece has a length of 30 seconds and an overlap of 5 seconds. The description of each piece is as follows:\n",
      "Description piece 1: A pop song with a powerful beat and catchy melody. The lyrics are about living life to the fullest and chasing dreams. The instrumentation includes synthesizers, piano, and drums. The song is suitable for a music video with energetic dance scenes.\n",
      "Description piece 2: This is a pop song featuring a female vocalist singing over a synthesizer harmony, acoustic guitar strums, punchy kick and snare hits, claps, and wide hi hats. The song is medium tempo with a bouncy and uplifting feel. The song is about a person falling in love and being in the middle of a miracle because it's only you. The song is emotional and inspiring. This song can be played in the background at a romantic dinner, a wedding, or a party.\n",
      "Description piece 3: This is a high-energy, fast-paced electronic dance music piece. The main melody is performed by a synthesizer, with a strong beat provided by a drum machine. The overall mood is energetic and uplifting. This piece would be suitable for use in action movies, video games, or other forms of media that require a fast-paced, intense soundtrack.\n",
      "Description piece 4: This is a high-energy electronic dance music piece. The song is a female vocal, with powerful synth riffs, a driving beat, and electronic sound effects. The mood is energetic, with a strong beat and a sense of excitement. The song is suitable for dance clubs, parties, and electronic music events.\n",
      "Description piece 5: This is a high-energy dubstep track. The instruments used are synthesizers, drums, and bass. The mood of the track is energetic and upbeat. This track would be suitable for a video game or an action movie.\n",
      "Description piece 6: This is a song whose genre is Electronic, and the lyrics are \"It's a secret that I've been keeping\".\n",
      "\n",
      "The lyrics are as follows:\n",
      "Living in a crowded dream\n",
      "Searching for the quiet that you're not to breathe\n",
      "Gave up upon your sanctuary\n",
      "That hide behind your shadow\n",
      "While you tried to take the sun down\n",
      "Thought to never change to gold\n",
      "After thinking that you're in the world of no one\n",
      "No one ever told you that you have to fight for something\n",
      "Or your balance will be too close\n",
      "\n"
     ]
    }
   ],
   "source": [
    "for file_name in input_list:\n",
    "  with open(DATA_PATH + '.tmp/extract/' + file_name + '.prompt', 'r') as f:\n",
    "    print(f.read())"
   ]
  },
  {
   "cell_type": "markdown",
   "metadata": {},
   "source": [
    "## Process"
   ]
  },
  {
   "cell_type": "code",
   "execution_count": 23,
   "metadata": {},
   "outputs": [
    {
     "name": "stdout",
     "output_type": "stream",
     "text": [
      "['HyuN - Infinity Heaven', 'NceS - Burn']\n",
      "<class 'zhipuai._client.ZhipuAI'> <class 'NoneType'>\n",
      "Token spent: 4041\n"
     ]
    },
    {
     "data": {
      "text/plain": [
       "0"
      ]
     },
     "execution_count": 23,
     "metadata": {},
     "output_type": "execute_result"
    }
   ],
   "source": [
    "os.system(f'python process/process.py --model_path {MODEL_PATH} --data_path {DATA_PATH} --model {LLM_MODEL} --prompt_path {DATA_PATH}.tmp/extract/ --output_path {DATA_PATH}.tmp/process/')"
   ]
  },
  {
   "cell_type": "code",
   "execution_count": 24,
   "metadata": {},
   "outputs": [
    {
     "name": "stdout",
     "output_type": "stream",
     "text": [
      "angel in white, field of flowers, anime style, intense energy, 8k resolution, 16:9 aspect ratio, 60fps, dynamic sky, powerful aura, floral breeze, emotional depth\n",
      "little girl, night, anime style, fiery hair, determined expression, stars in the sky, 8k resolution, 16:9 aspect ratio, vibrant colors, secret whispers, energetic aura.\n"
     ]
    }
   ],
   "source": [
    "for file_name in input_list:\n",
    "  with open(DATA_PATH + '.tmp/process/' + file_name + '.prompt', 'r') as f:\n",
    "    print(f.read())"
   ]
  },
  {
   "cell_type": "markdown",
   "metadata": {},
   "source": [
    "## Generate"
   ]
  },
  {
   "cell_type": "code",
   "execution_count": 25,
   "metadata": {},
   "outputs": [
    {
     "name": "stdout",
     "output_type": "stream",
     "text": [
      "Loading prompt from file\n",
      "HyuN - Infinity Heaven.prompt\n",
      "NceS - Burn.prompt\n",
      "Prompt loaded\n",
      "Loading model\n"
     ]
    },
    {
     "name": "stderr",
     "output_type": "stream",
     "text": [
      "Loading pipeline components...: 100%|██████████| 7/7 [00:00<00:00,  7.54it/s]\n"
     ]
    },
    {
     "name": "stdout",
     "output_type": "stream",
     "text": [
      "Model loaded\n",
      "Generating for HyuN - Infinity Heaven.prompt\n"
     ]
    },
    {
     "name": "stderr",
     "output_type": "stream",
     "text": [
      "100%|██████████| 50/50 [00:16<00:00,  2.95it/s]\n"
     ]
    },
    {
     "name": "stdout",
     "output_type": "stream",
     "text": [
      "Generated for HyuN - Infinity Heaven.prompt\n",
      "Generating for NceS - Burn.prompt\n"
     ]
    },
    {
     "name": "stderr",
     "output_type": "stream",
     "text": [
      "100%|██████████| 50/50 [00:16<00:00,  2.97it/s]\n"
     ]
    },
    {
     "name": "stdout",
     "output_type": "stream",
     "text": [
      "Generated for NceS - Burn.prompt\n"
     ]
    },
    {
     "data": {
      "text/plain": [
       "0"
      ]
     },
     "execution_count": 25,
     "metadata": {},
     "output_type": "execute_result"
    }
   ],
   "source": [
    "os.system(f'python generate/generate.py --model_path {MODEL_PATH} --data_path {DATA_PATH} --model {GENRATE_MODEL} --image_num 3')"
   ]
  }
 ],
 "metadata": {
  "kernelspec": {
   "display_name": "base",
   "language": "python",
   "name": "python3"
  },
  "language_info": {
   "codemirror_mode": {
    "name": "ipython",
    "version": 3
   },
   "file_extension": ".py",
   "mimetype": "text/x-python",
   "name": "python",
   "nbconvert_exporter": "python",
   "pygments_lexer": "ipython3",
   "version": "3.10.13"
  }
 },
 "nbformat": 4,
 "nbformat_minor": 2
}
