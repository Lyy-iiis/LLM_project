{
 "cells": [
  {
   "cell_type": "markdown",
   "metadata": {},
   "source": [
    "We should call `.py` so that cuda memory will be automatically released after each part.\n",
    "\n",
    "This notebook is used to organize the codes"
   ]
  },
  {
   "cell_type": "markdown",
   "metadata": {},
   "source": [
    "## Setup"
   ]
  },
  {
   "cell_type": "markdown",
   "metadata": {},
   "source": [
    "### What you need to do\n",
    "\n",
    "- Throw audio files into `data/` directory\n",
    "\n",
    "- Correctly set `input_list`\n",
    "\n",
    "- Create a `.env` file in the `process/` directory if using `glm-4`"
   ]
  },
  {
   "cell_type": "code",
   "execution_count": 1,
   "metadata": {},
   "outputs": [],
   "source": [
    "import os"
   ]
  },
  {
   "cell_type": "code",
   "execution_count": 2,
   "metadata": {},
   "outputs": [],
   "source": [
    "DATA_PATH = os.getcwd() + '/data/'\n",
    "MODEL_PATH = '/ssdshare/LLMs/'\n",
    "MUSIC_PATH = os.getcwd() + '/data/music/'\n",
    "LLM_MODEL = \"glm-4\"\n",
    "GENRATE_MODEL = \"playground-v2.5-1024px-aesthetic\"\n",
    "\n",
    "if not os.path.exists(DATA_PATH + '.tmp/'):\n",
    "  os.makedirs(DATA_PATH + '.tmp/')"
   ]
  },
  {
   "cell_type": "code",
   "execution_count": 3,
   "metadata": {},
   "outputs": [],
   "source": [
    "input_list = [\n",
    "  'cryout.mp3',\n",
    "  'opia.mp3'\n",
    "]\n",
    "prompts = [r'''\n",
    "  The name of this song is 'cryout'. \n",
    "''',\n",
    "r'''\n",
    "  The name of this song is 'opia'. \n",
    "'''\n",
    "# You should check both input_list and prompts modified!!!\n",
    "]\n",
    "with open(DATA_PATH + 'input_list.txt', 'w') as f:\n",
    "  for item in input_list:\n",
    "    f.write(\"%s\\n\" % item)\n",
    "tmp_list = []\n",
    "for item in input_list:\n",
    "  tmp_list.append(item[:-4])\n",
    "input_list = tmp_list\n",
    "\n",
    "if not os.path.exists(DATA_PATH + '.tmp/inprompt/'):\n",
    "  os.makedirs(DATA_PATH + '.tmp/inprompt/')\n",
    "for (prompt, name) in zip(prompts, input_list):\n",
    "  with open(DATA_PATH + '.tmp/inprompt/' + name + '.prompt', 'w') as f:\n",
    "    f.write(prompt)"
   ]
  },
  {
   "cell_type": "markdown",
   "metadata": {},
   "source": [
    "## Extract"
   ]
  },
  {
   "cell_type": "code",
   "execution_count": 4,
   "metadata": {},
   "outputs": [
    {
     "name": "stdout",
     "output_type": "stream",
     "text": [
      "cryout.mp3\n",
      "opia.mp3\n",
      "['cryout.wav', 'opia.wav']\n",
      "audio_start_id: 155163, audio_end_id: 155164, audio_pad_id: 151851.\n"
     ]
    },
    {
     "name": "stderr",
     "output_type": "stream",
     "text": [
      "The model is automatically converting to bf16 for faster inference. If you want to disable the automatic precision, please manually add bf16/fp16/fp32=True to \"AutoModelForCausalLM.from_pretrained\".\n",
      "Try importing flash-attention for faster inference...\n",
      "Warning: import flash_attn rotary fail, please install FlashAttention rotary to get higher efficiency https://github.com/Dao-AILab/flash-attention/tree/main/csrc/rotary\n",
      "Warning: import flash_attn rms_norm fail, please install FlashAttention layer_norm to get higher efficiency https://github.com/Dao-AILab/flash-attention/tree/main/csrc/layer_norm\n",
      "Warning: import flash_attn fail, please install FlashAttention to get higher efficiency https://github.com/Dao-AILab/flash-attention\n",
      "Loading checkpoint shards: 100%|██████████| 9/9 [00:04<00:00,  2.23it/s]\n",
      "The model is automatically converting to bf16 for faster inference. If you want to disable the automatic precision, please manually add bf16/fp16/fp32=True to \"AutoModelForCausalLM.from_pretrained\".\n",
      "Try importing flash-attention for faster inference...\n",
      "Warning: import flash_attn rotary fail, please install FlashAttention rotary to get higher efficiency https://github.com/Dao-AILab/flash-attention/tree/main/csrc/rotary\n",
      "Warning: import flash_attn rms_norm fail, please install FlashAttention layer_norm to get higher efficiency https://github.com/Dao-AILab/flash-attention/tree/main/csrc/layer_norm\n",
      "Warning: import flash_attn fail, please install FlashAttention to get higher efficiency https://github.com/Dao-AILab/flash-attention\n",
      "Loading checkpoint shards: 100%|██████████| 9/9 [00:03<00:00,  2.28it/s]\n",
      "The model is automatically converting to bf16 for faster inference. If you want to disable the automatic precision, please manually add bf16/fp16/fp32=True to \"AutoModelForCausalLM.from_pretrained\".\n",
      "Try importing flash-attention for faster inference...\n",
      "Warning: import flash_attn rotary fail, please install FlashAttention rotary to get higher efficiency https://github.com/Dao-AILab/flash-attention/tree/main/csrc/rotary\n",
      "Warning: import flash_attn rms_norm fail, please install FlashAttention layer_norm to get higher efficiency https://github.com/Dao-AILab/flash-attention/tree/main/csrc/layer_norm\n",
      "Warning: import flash_attn fail, please install FlashAttention to get higher efficiency https://github.com/Dao-AILab/flash-attention\n",
      "Loading checkpoint shards: 100%|██████████| 9/9 [00:04<00:00,  2.23it/s]\n",
      "The model is automatically converting to bf16 for faster inference. If you want to disable the automatic precision, please manually add bf16/fp16/fp32=True to \"AutoModelForCausalLM.from_pretrained\".\n",
      "Try importing flash-attention for faster inference...\n",
      "Warning: import flash_attn rotary fail, please install FlashAttention rotary to get higher efficiency https://github.com/Dao-AILab/flash-attention/tree/main/csrc/rotary\n",
      "Warning: import flash_attn rms_norm fail, please install FlashAttention layer_norm to get higher efficiency https://github.com/Dao-AILab/flash-attention/tree/main/csrc/layer_norm\n",
      "Warning: import flash_attn fail, please install FlashAttention to get higher efficiency https://github.com/Dao-AILab/flash-attention\n",
      "Loading checkpoint shards: 100%|██████████| 9/9 [00:03<00:00,  2.44it/s]\n"
     ]
    },
    {
     "name": "stdout",
     "output_type": "stream",
     "text": [
      "using device 0\n",
      "using device 1\n",
      "using device 0\n",
      "successfully add prompt for cryout.wav\n",
      "using device 1\n",
      "using device 2\n",
      "using device 3\n",
      "using device 0\n",
      "using device 1\n",
      "using device 2\n",
      "using device 3\n",
      "using device 0\n",
      "using device 1\n",
      "using device 2\n",
      "using device 3\n",
      "using device 0\n",
      "successfully add prompt for opia.wav\n",
      "successfully write prompt for cryout.wav\n",
      "successfully write prompt for opia.wav\n"
     ]
    },
    {
     "data": {
      "text/plain": [
       "0"
      ]
     },
     "execution_count": 4,
     "metadata": {},
     "output_type": "execute_result"
    }
   ],
   "source": [
    "os.system(f'python extract/extract.py --model_path {MODEL_PATH} --data_path {DATA_PATH} --music_path {MUSIC_PATH} --output_path {DATA_PATH}.tmp/extract/ --device_num 2')"
   ]
  },
  {
   "cell_type": "code",
   "execution_count": 5,
   "metadata": {},
   "outputs": [
    {
     "name": "stdout",
     "output_type": "stream",
     "text": [
      "This music is cut into 5 pieces. Each piece has a length of 30 seconds and an overlap of 5 seconds. The description of each piece is as follows:\n",
      "Description piece 1: A cinematic track with a mix of suspense, hope, and optimism. It has a powerful and emotional feel to it, with a strong beat and a catchy melody. It is perfect for film, TV, and video games.\n",
      "Description piece 2: A cinematic track with piano, drums, and electronic elements. Perfect for vlogs, travel videos, and commercials.\n",
      "Description piece 3: This is a dynamic, intense, and upbeat electronic track featuring drums, bass, and various synths. The music is energetic, powerful, and exciting, making it perfect for action scenes, trailers, and commercials.\n",
      "Description piece 4: This is a high energy electronic track that is perfect for any type of action or sports video. The track is very fast paced and features a lot of synthesizer and drum machine sounds. The track is very dynamic and features a lot of changes in tempo and style. The track is very intense and will get your adrenaline pumping. This track is perfect for any type of action or sports video, as well as any type of video that needs a high energy and intense soundtrack.\n",
      "Description piece 5: This is a very powerful, energetic, dynamic, motivational, inspirational, uplifting, uplifting, epic, cinematic, cinematic, uplifting, positive, hopeful, hopeful, optimistic, inspirational, inspirational, inspirational, optimistic, motivational, motivational, upbeat, energetic, energetic, uplifting, uplifting, epic, epic, epic, epic, epic, epic, epic, epic, epic, epic, epic, epic, epic, epic, epic, epic, epic, epic, epic, epic, epic, epic, epic, epic, epic, epic, epic, epic, epic, epic, epic, epic, epic, epic, epic, epic, epic, epic, epic, epic, epic, epic, epic, epic, epic, epic, epic, epic, epic, epic, epic, epic, epic, epic, epic, epic, epic, epic, epic, epic, epic, epic, epic, epic, epic, epic, epic, epic, epic, epic, epic, epic, epic, epic, epic, epic, epic, epic, epic, epic, epic, epic, epic, epic, epic, epic, epic, epic, epic, epic, epic, epic, epic, epic, epic, epic, epic, epic, epic, epic, epic, epic, epic, epic, epic, epic, epic, epic, epic, epic, epic, epic, epic, epic, epic, epic, epic, epic, epic, epic, epic, epic, epic, epic, epic, epic, epic, epic, epic, epic, epic, epic, epic, epic, epic, epic, epic, epic, epic, epic, epic, epic, epic, epic, epic, epic, epic, epic, epic, epic, epic, epic, epic, epic, epic, epic, epic, epic, epic, epic, epic, epic, epic, epic, epic, epic, epic, epic, epic, epic, epic, epic, epic, epic, epic, epic, epic, epic, epic, epic, epic, epic, epic, epic, epic, epic, epic, epic, epic, epic, epic, epic, epic, epic, epic, epic, epic, epic, epic, epic, epic, epic, epic, epic, epic, epic, epic, epic, epic, epic, epic, epic, epic, epic, epic, epic, epic, epic, epic, epic, epic, epic, epic, epic, epic, epic, epic, epic\n",
      "\n",
      "This music is cut into 12 pieces. Each piece has a length of 30 seconds and an overlap of 5 seconds. The description of each piece is as follows:\n",
      "Description piece 1: A futuristic, electronic instrumental with a strong beat and a dark, ominous feel.\n",
      "Description piece 2: This is a fast-paced electronic instrumental featuring distorted bass, glitchy beats, and a variety of synth sounds. It has a strong, energetic feel and would be well-suited for action scenes or high-energy content.\n",
      "Description piece 3: This is a hard, aggressive electronic instrumental. It is a fast-paced, hard-hitting, intense, and powerful track that is perfect for action scenes, fight scenes, sports, and extreme sports. The track is intense, edgy, and high-energy, with a strong beat and heavy basslines. The track is also very rhythmic and repetitive, with a lot of variation in the drum patterns and basslines. The track is also very glitchy and noisy, with a lot of distortion and feedback. The track is also very glitchy and noisy, with a lot of distortion and feedback.\n",
      "Description piece 4: The audio is a drum and bass track. The tempo is fast with complex beats and distorted basslines. The track is energetic and intense with a lot of syncopation and breakbeats. The track is a perfect fit for action movies, video games, and sports.\n",
      "Description piece 5: This is a hard-hitting, high-energy, breakbeat track with a dark, edgy feel. The distorted, glitchy beats and twisted, distorted synths create a sense of tension and excitement, while the piano and strings add a touch of elegance and sophistication. This track would be perfect for action scenes, sports montages, or any other high-energy, intense moment.\n",
      "Description piece 6: This is a recording of a classical music piece being played by a string orchestra. The piece is medium tempo with a steady beat and a beautiful melody being played by the strings. The piece has a classical and elegant feel to it.\n",
      "Description piece 7: This is a fast-paced, energetic electronic instrumental with a strong emphasis on percussion and synthesizers. The overall tone is aggressive and intense, with a sense of urgency and excitement. The piece is suitable for use in action scenes, sports videos, or any other high-energy media.\n",
      "Description piece 8: The genre of this piece of music is electronic, noise, experimental. The mood of this piece of music is intense, angry, aggressive. This piece of music would be perfect for use in a soundtrack for an action movie or video game, as it has a very intense and driving beat that would be perfect for building tension and excitement.\n",
      "Description piece 9: The genre of this piece of music is electronic, noise, experimental. The mood of this piece of music is intense, violent, aggressive. The instruments used in this piece of music are synthesizer, drum machine.\n",
      "Description piece 10: This is a fast-paced, high-energy electronic instrumental with a strong beat and distorted synthesizer sounds. It sounds like something you might hear at a techno club or festival. The mood is intense and energetic.\n",
      "Description piece 11: The audio is a drum and bass song with a fast tempo and loud sound. The song is instrumental and features a lot of percussion and synthesizer sounds. The song is energetic and exciting, with a strong beat and heavy basslines. The song is likely to be played at a nightclub or festival.\n",
      "Description piece 12: This is a piece of electronic, experimental, ambient electronic music. It is dark, mysterious, and suspenseful. The music is perfect for use in film, television, and video games. It creates a sense of tension and anticipation. The music is also great for use in podcasts, commercials, and advertisements.\n",
      "\n"
     ]
    }
   ],
   "source": [
    "for file_name in input_list:\n",
    "  with open(DATA_PATH + '.tmp/extract/' + file_name + '.prompt', 'r') as f:\n",
    "    print(f.read())"
   ]
  },
  {
   "cell_type": "markdown",
   "metadata": {},
   "source": [
    "## Process"
   ]
  },
  {
   "cell_type": "code",
   "execution_count": 6,
   "metadata": {},
   "outputs": [
    {
     "name": "stdout",
     "output_type": "stream",
     "text": [
      "['cryout', 'opia']\n",
      "<class 'zhipuai._client.ZhipuAI'> <class 'NoneType'>\n",
      "Token spent: 9720\n"
     ]
    },
    {
     "data": {
      "text/plain": [
       "0"
      ]
     },
     "execution_count": 6,
     "metadata": {},
     "output_type": "execute_result"
    }
   ],
   "source": [
    "os.system(f'python process/process.py --model_path {MODEL_PATH} --data_path {DATA_PATH} --model {LLM_MODEL} --prompt_path {DATA_PATH}.tmp/extract/ --output_path {DATA_PATH}.tmp/process/')"
   ]
  },
  {
   "cell_type": "code",
   "execution_count": 7,
   "metadata": {},
   "outputs": [
    {
     "name": "stdout",
     "output_type": "stream",
     "text": [
      "lonely figure, stormy sky, calling out, powerful pose, dynamically charged, epic landscape, hopeful light, 8k resolution, 16:9 aspect ratio, 60fps\n",
      "sleek futuristic cityscape, intense glowing lights, abstract digital art, bold colors, aggressive stance, strings in motion, 8k resolution, 16:9 aspect ratio, 60fps.\n"
     ]
    }
   ],
   "source": [
    "for file_name in input_list:\n",
    "  with open(DATA_PATH + '.tmp/process/' + file_name + '.prompt', 'r') as f:\n",
    "    print(f.read())"
   ]
  },
  {
   "cell_type": "markdown",
   "metadata": {},
   "source": [
    "## Generate"
   ]
  },
  {
   "cell_type": "code",
   "execution_count": 8,
   "metadata": {},
   "outputs": [
    {
     "name": "stdout",
     "output_type": "stream",
     "text": [
      "Loading prompt from file\n",
      "cryout.prompt\n",
      "opia.prompt\n",
      "Prompt loaded\n",
      "Loading model\n"
     ]
    },
    {
     "name": "stderr",
     "output_type": "stream",
     "text": [
      "Loading pipeline components...: 100%|██████████| 7/7 [00:00<00:00,  7.45it/s]\n"
     ]
    },
    {
     "name": "stdout",
     "output_type": "stream",
     "text": [
      "Model loaded\n",
      "Generating for cryout.prompt\n"
     ]
    },
    {
     "name": "stderr",
     "output_type": "stream",
     "text": [
      "100%|██████████| 50/50 [00:17<00:00,  2.94it/s]\n"
     ]
    },
    {
     "name": "stdout",
     "output_type": "stream",
     "text": [
      "Generated for cryout.prompt\n",
      "Generating for opia.prompt\n"
     ]
    },
    {
     "name": "stderr",
     "output_type": "stream",
     "text": [
      "100%|██████████| 50/50 [00:16<00:00,  2.96it/s]\n"
     ]
    },
    {
     "name": "stdout",
     "output_type": "stream",
     "text": [
      "Generated for opia.prompt\n",
      "Generating image without characters\n",
      "Loading prompt from file\n",
      "Prompt loaded\n",
      "Generating for cryout.prompt2\n"
     ]
    },
    {
     "name": "stderr",
     "output_type": "stream",
     "text": [
      "100%|██████████| 50/50 [00:16<00:00,  2.95it/s]\n"
     ]
    },
    {
     "name": "stdout",
     "output_type": "stream",
     "text": [
      "Generated for cryout.prompt2\n",
      "Generating for opia.prompt2\n"
     ]
    },
    {
     "name": "stderr",
     "output_type": "stream",
     "text": [
      "100%|██████████| 50/50 [00:17<00:00,  2.93it/s]\n"
     ]
    },
    {
     "name": "stdout",
     "output_type": "stream",
     "text": [
      "Generated for opia.prompt2\n"
     ]
    },
    {
     "data": {
      "text/plain": [
       "0"
      ]
     },
     "execution_count": 8,
     "metadata": {},
     "output_type": "execute_result"
    }
   ],
   "source": [
    "os.system(f'python generate/generate.py --model_path {MODEL_PATH} --data_path {DATA_PATH} --model {GENRATE_MODEL} --output_path {DATA_PATH}.tmp/generate/ --prompt_path {DATA_PATH}.tmp/process/ --image_num 3')"
   ]
  }
 ],
 "metadata": {
  "kernelspec": {
   "display_name": "base",
   "language": "python",
   "name": "python3"
  },
  "language_info": {
   "codemirror_mode": {
    "name": "ipython",
    "version": 3
   },
   "file_extension": ".py",
   "mimetype": "text/x-python",
   "name": "python",
   "nbconvert_exporter": "python",
   "pygments_lexer": "ipython3",
   "version": "3.10.13"
  }
 },
 "nbformat": 4,
 "nbformat_minor": 2
}
