{
 "cells": [
  {
   "cell_type": "markdown",
   "metadata": {},
   "source": [
    "We should call `.py` so that cuda memory will be automatically released after each part.\n",
    "\n",
    "This notebook is used to organize the codes"
   ]
  },
  {
   "cell_type": "markdown",
   "metadata": {},
   "source": [
    "## Setup"
   ]
  },
  {
   "cell_type": "markdown",
   "metadata": {},
   "source": [
    "### What you need to do\n",
    "\n",
    "- Throw audio files into `data/` directory\n",
    "\n",
    "- Correctly set `input_list`\n",
    "\n",
    "- Create a `.env` file in the `process/` directory if using `glm-4`"
   ]
  },
  {
   "cell_type": "code",
   "execution_count": 2,
   "metadata": {},
   "outputs": [],
   "source": [
    "import os"
   ]
  },
  {
   "cell_type": "code",
   "execution_count": 3,
   "metadata": {},
   "outputs": [],
   "source": [
    "DATA_PATH = os.getcwd() + '/data/'\n",
    "MODEL_PATH = '/ssdshare/LLMs/'\n",
    "MUSIC_PATH = os.getcwd() + '/data/music/'\n",
    "LLM_MODEL = \"glm-4\"\n",
    "GENRATE_MODEL = \"playground-v2.5-1024px-aesthetic\"\n",
    "CONTENT_PATH = DATA_PATH + '.tmp/generate/'\n",
    "STYLE_PATH = DATA_PATH + 'style/illustration_style/'\n",
    "\n",
    "if not os.path.exists(DATA_PATH + '.tmp/'):\n",
    "  os.makedirs(DATA_PATH + '.tmp/')\n",
    "\n",
    "list = ['extract/', 'generate/', 'process/', 'inprompt', 'style_transfer']\n",
    "\n",
    "for folder in list:\n",
    "  if not os.path.exists(DATA_PATH + '.tmp/' + folder):\n",
    "    os.makedirs(DATA_PATH + '.tmp/' + folder)\n"
   ]
  },
  {
   "cell_type": "code",
   "execution_count": 4,
   "metadata": {},
   "outputs": [],
   "source": [
    "input_list = [\n",
    "  'out.mp3',\n",
    "]\n",
    "prompts = [r'''\n",
    "  The name of this song is 晴天. \n",
    "''',\n",
    "]\n",
    "# Pick the style images in the style library\n",
    "style_list = [\n",
    "  # 'opia.png'\n",
    "]\n",
    "# You should check both input_list and prompts modified!!!\n",
    "with open(DATA_PATH + 'input_list.txt', 'w') as f:\n",
    "  for item in input_list:\n",
    "    f.write(\"%s\\n\" % item)\n",
    "\n",
    "with open(DATA_PATH + 'style_list.txt', 'w') as f:\n",
    "  for item in style_list:\n",
    "    f.write(\"%s\\n\" % item)\n",
    "\n",
    "tmp_list = []\n",
    "for item in input_list:\n",
    "  tmp_list.append(item[:-4])\n",
    "input_list = tmp_list\n",
    "\n",
    "# if not os.path.exists(DATA_PATH + '.tmp/inprompt/'):\n",
    "#   os.makedirs(DATA_PATH + '.tmp/inprompt/')\n",
    "for (prompt, name) in zip(prompts, input_list):\n",
    "  with open(DATA_PATH + '.tmp/inprompt/' + name + '.prompt', 'w') as f:\n",
    "    f.write(prompt)"
   ]
  },
  {
   "cell_type": "markdown",
   "metadata": {},
   "source": [
    "## Extract"
   ]
  },
  {
   "cell_type": "code",
   "execution_count": 5,
   "metadata": {},
   "outputs": [
    {
     "name": "stdout",
     "output_type": "stream",
     "text": [
      "out.mp3\n",
      "['out.wav']\n",
      "audio_start_id: 155163, audio_end_id: 155164, audio_pad_id: 151851.\n"
     ]
    },
    {
     "name": "stderr",
     "output_type": "stream",
     "text": [
      "The model is automatically converting to bf16 for faster inference. If you want to disable the automatic precision, please manually add bf16/fp16/fp32=True to \"AutoModelForCausalLM.from_pretrained\".\n",
      "Try importing flash-attention for faster inference...\n",
      "Warning: import flash_attn rotary fail, please install FlashAttention rotary to get higher efficiency https://github.com/Dao-AILab/flash-attention/tree/main/csrc/rotary\n",
      "Warning: import flash_attn rms_norm fail, please install FlashAttention layer_norm to get higher efficiency https://github.com/Dao-AILab/flash-attention/tree/main/csrc/layer_norm\n",
      "Warning: import flash_attn fail, please install FlashAttention to get higher efficiency https://github.com/Dao-AILab/flash-attention\n",
      "Loading checkpoint shards: 100%|██████████| 9/9 [00:03<00:00,  2.39it/s]\n"
     ]
    },
    {
     "name": "stdout",
     "output_type": "stream",
     "text": [
      "using device 0\n",
      "using device 0\n",
      "using device 0\n",
      "using device 0\n",
      "using device 0\n",
      "using device 0\n",
      "using device 0\n",
      "using device 0\n",
      "using device 0\n",
      "using device 0\n",
      "using device 0\n",
      "successfully add prompt for out.wav\n",
      "This music is cut into 11 pieces. Each piece has a length of 30 seconds and an overlap of 5 seconds. The description of each piece is as follows:\n",
      "Description piece 1: This is a song whose genre is Pop, and the lyrics are \"可是的故事都讲完了\".\n",
      "Description piece 2: This is a song whose genre is Pop, and the lyrics are \"故事的小红帽 从这森林到城堡 谁 给她穿上盛装\".\n",
      "Description piece 3: This is a song whose genre is Pop, and the lyrics are \"如果我想要画满世界的大道 为你翘首的那一天 那一天假使那一天 我怎么看不见 早知如此伤眼的阳光 我假装在另一边\".\n",
      "Description piece 4: This is a song whose genre is Pop, and the lyrics are \"会不会等到那一天 你才出现 还要多久我才能在你身边 等到风景都看透\".\n",
      "Description piece 5: This is a song whose genre is Pop, and the lyrics are \"在你身边的那幅风景的那天 也许我会比较好一点 从前从前 有个人爱你很久 但渐渐风渐渐把距离吹的好远 好不容易 我们再多爱一天\".\n",
      "Description piece 6: This is a song whose genre is Pop, and the lyrics are \"容易 也能再多爱一天 故事的结局 你好像还是说了好再见\".\n",
      "Description piece 7: This is a song whose genre is Pop, and the lyrics are \"我会等待还是离开\".\n",
      "Description piece 8: This is a song whose genre is Pop, and the lyrics are \"还是离开 花风这天 我试过留着你 就算天边一寸一寸变暗 我陪你直到那天 也许\".\n",
      "Description piece 9: This is a song whose genre is Pop, and the lyrics are \"等到放弃的那天也许我会比较好一点 从前从前有个人爱你很久 一点一点从失去你开始 到把距离吹得好远\".\n",
      "Description piece 10: This is a song whose genre is Pop, and the lyrics are \"还能多爱一天 当故事都讲完 你好像还是说了晚安 我知道这是一段旅程 要等到放晴那天 也许我会比较快一点 从今从今有个人爱你很久 她慢慢她渐渐\".\n",
      "Description piece 11: This is a song whose genre is Pop, and the lyrics are \"从起初憧憬 有个人爱你很久 他拼命追求 你渐渐把距离 紧紧地拉住 一睡着就梦到好远 好不容易又变远 你又爱上了别人\".\n",
      "\n",
      "The lyrics are as follows:\n",
      "可是的故事 没有结束\n",
      "哭诉的小时光 恋爱的甜蜜酸楚 做过的傻事 都变成故事 从最简单的开始 想着和你一起走到老\n",
      "如果我像计划那样去流浪 为你唱过的那一年 那一天 如果那一天 我怎么看不见 纸上的烟雾 等我化成在另一边\n",
      "你不会懂的 还是离开\n",
      "刮风之前 我试过了这一场\n",
      "但偏偏 一阵阵\n",
      "大到我看不见你不见\n",
      "在你身边\n",
      "等到风景的那天\n",
      "也许我会比较好一点\n",
      "从前从前\n",
      "有个人爱你很久\n",
      "但渐渐风渐渐\n",
      "把距离吹得好远\n",
      "好不容易\n",
      "又能再多爱一天\n",
      "容易 也能再多爱一天的故事 好像还是说了再见\n",
      "为你翘首的那一年 飘落的那一年 假如那一年 假如那一年 我怎么看不见 朝夕��阳光 落在你脸\n",
      "我还是离开吧刮风的天我试过路过你身边但点点滴滴都带不走我对你无尽的思念\n",
      "等到放弃了那天 也许我会比较好一点 从前从前 有个人爱你很久 点点滴滴 终于把距离吹得好远\n",
      "能不能再多爱一天\n",
      "当故事都讲完\n",
      "你好像还是说晚了\n",
      "我哭着说\n",
      "真的有那么一点\n",
      "你真的爱我\n",
      "但是\n",
      "爱真的需要时间\n",
      "慢慢去了解\n",
      "慢慢去了解\n",
      "从记忆中走来有个人爱你很久\n",
      "在你身边一寸寸把记忆睡到好远\n",
      "好不容易有个人爱你真不容易\n",
      "有谁再愿意和你在一起\n",
      "\n",
      "successfully write prompt for out.wav\n"
     ]
    },
    {
     "data": {
      "text/plain": [
       "0"
      ]
     },
     "execution_count": 5,
     "metadata": {},
     "output_type": "execute_result"
    }
   ],
   "source": [
    "os.system(f'python extract/extract.py --model_path {MODEL_PATH} --data_path {DATA_PATH} --music_path {MUSIC_PATH} --output_path {DATA_PATH}.tmp/extract/ --device_num 2')"
   ]
  },
  {
   "cell_type": "code",
   "execution_count": 15,
   "metadata": {},
   "outputs": [
    {
     "name": "stdout",
     "output_type": "stream",
     "text": [
      "This music is cut into 11 pieces. Each piece has a length of 30 seconds and an overlap of 5 seconds. The description of each piece is as follows:\n",
      "Description piece 1: This is a song whose genre is Pop, and the lyrics are \"故事的小黄花\".\n",
      "Description piece 2: This is a song whose genre is Pop, and the lyrics are \"童年的荡秋千 随记忆一直晃到现在 吹着前奏望着天空\".\n",
      "Description piece 3: This is a song whose genre is Pop, and the lyrics are \"我想起花瓣试着掉落 为你翘课的那一天 花落的那一天 教室的那一间 我怎么看不见 消失的下雨天 我好想再淋一遍\".\n",
      "Description piece 4: This is a song whose genre is Pop, and the lyrics are \"没想到失去的勇气我还留着 好想再问一遍 你会等待还是离开 刮风这天 我试过握着你手 但偏偏 雨渐渐 大到我看你不见\".\n",
      "Description piece 5: This is a song whose genre is Pop, and the lyrics are \"在你身边的那幅风景的那天 也许我会比较好一点 从前从前 有个人爱你很久 但渐渐风渐渐把距离吹的好远 好不容易 我们再多爱一天\".\n",
      "Description piece 6: This is a song whose genre is Pop, and the lyrics are \"还要多久 我才能在你身边\n",
      "等到放晴的那天 也许我会比较好一点 从前从前 有个人爱你很久 但偏偏 风渐渐 把距离吹得好远 好不容易 又能再多爱一天 但故事的最后 你好像还是说了拜拜\".\n",
      "Description piece 7: This is a song whose genre is Pop, and the lyrics are \"刮风这天 我试过握着你手\".\n",
      "Description piece 8: This is a song whose genre is Pop, and the lyrics are \"但偏偏 雨渐渐 大到我看你不见 还要多久 我才能够在你身边 等到放晴的那天 也许 我会比较好一点\".\n",
      "Description piece 9: This is a song whose genre is Pop, and the lyrics are \"等到放晴的那天 也许 我会比较好一点 从前从前 有个人爱你很久\".\n",
      "Description piece 10: This is a song whose genre is Pop, and the lyrics are \"等到放晴的那天 也许 我会比较好一点 从前从前 有个人爱你很久 但偏偏 风渐渐 把距离吹得好远 好不容易 又能再多爱一天\".\n",
      "Description piece 11: This is a song whose genre is Pop, and the lyrics are \"从前从前 有个人爱你很久 但偏偏 风渐渐 把距离吹得好远 好不容易 又能再多爱一天 但故事的最后 你好像还是说了拜拜\".\n",
      "\n",
      "The lyrics are as follows:\n",
      "故事的小黄花 从出生那年就飘着\n",
      "童年的荡秋千 随记忆一直晃到现在\n",
      "吹着前奏望着天空\n",
      "我想起花瓣试着掉落\n",
      "为你翘课的那一天 花落的那一天\n",
      "教室的那一间 我怎么看不见\n",
      "消失的下雨天 我好想再淋一遍\n",
      "没想到失去的勇气我还留着\n",
      "好想再问一遍 你会等待还是离开\n",
      "刮风这天 我试过握着你手\n",
      "但偏偏 雨渐渐 大到我看你不见\n",
      "还要多久 我才能在你身边\n",
      "等到放晴的那天 也许我会比较好一点\n",
      "从前从前 有个人爱你很久\n",
      "但偏偏 风渐渐 把距离吹得好远\n",
      "好不容易 又能再多爱一天\n",
      "但故事的最后 你好像还是说了拜拜\n",
      "刮风这天 我试过握着你手\n",
      "但偏偏 雨渐渐 大到我看你不见\n",
      "还要多久 我才能够在你身边\n",
      "等到放晴的那天 也许 我会比较好一点\n",
      "从前从前 有个人爱你很久\n",
      "但偏偏 风渐渐 把距离吹得好远\n",
      "好不容易 又能再多爱一天\n",
      "但故事的最后 你好像还是说了拜拜\n"
     ]
    }
   ],
   "source": [
    "for file_name in input_list:\n",
    "  with open(DATA_PATH + '.tmp/extract/' + file_name + '.prompt', 'r') as f:\n",
    "    print(f.read())"
   ]
  },
  {
   "cell_type": "markdown",
   "metadata": {},
   "source": [
    "## Process"
   ]
  },
  {
   "cell_type": "code",
   "execution_count": 23,
   "metadata": {},
   "outputs": [
    {
     "name": "stdout",
     "output_type": "stream",
     "text": [
      "['out']\n",
      "Loading model\n",
      "Model loaded\n",
      "<class 'zhipuai._client.ZhipuAI'> <class 'NoneType'>\n",
      "Token spent: 9512\n"
     ]
    },
    {
     "data": {
      "text/plain": [
       "0"
      ]
     },
     "execution_count": 23,
     "metadata": {},
     "output_type": "execute_result"
    }
   ],
   "source": [
    "os.system(f'python process/process.py --model_path {MODEL_PATH} --data_path {DATA_PATH} --model {LLM_MODEL} --prompt_path {DATA_PATH}.tmp/extract/ --output_path {DATA_PATH}.tmp/process/')"
   ]
  },
  {
   "cell_type": "code",
   "execution_count": 24,
   "metadata": {},
   "outputs": [
    {
     "name": "stdout",
     "output_type": "stream",
     "text": [
      "sunny day, yellow flowers, Swing set, blowing wind, falling petals, classroom, rainy day, courage, hands held, obscured by rain, waiting, clear skies, distant love, blowing wind, separation, reunion, goodbye, emotional atmosphere, vibrant colors, 8k resolution, 16:9 aspect ratio, 60fps.\n",
      "b'sunny sky, yellow flowers, childhood swing, memories, falling petals, rainy day, wind, obscured visibility, waiting for clear skies, emotional distance, love story, courage, 8k resolution, 16:9 aspect ratio, 60fps'\n"
     ]
    }
   ],
   "source": [
    "for file_name in input_list:\n",
    "  with open(DATA_PATH + '.tmp/process/' + file_name + '.prompt', 'r') as f:\n",
    "    print(f.read())\n",
    "  with open(DATA_PATH + '.tmp/process/' + file_name + '.prompt2', 'rb') as f:\n",
    "    print(f.read())"
   ]
  },
  {
   "cell_type": "markdown",
   "metadata": {},
   "source": [
    "## Generate"
   ]
  },
  {
   "cell_type": "code",
   "execution_count": 25,
   "metadata": {},
   "outputs": [
    {
     "name": "stdout",
     "output_type": "stream",
     "text": [
      "Loading prompt from file\n",
      "out.prompt\n",
      "Prompt loaded\n",
      "Loading model\n"
     ]
    },
    {
     "name": "stderr",
     "output_type": "stream",
     "text": [
      "Loading pipeline components...: 100%|██████████| 7/7 [00:00<00:00,  8.22it/s]\n"
     ]
    },
    {
     "name": "stdout",
     "output_type": "stream",
     "text": [
      "Model loaded\n",
      "Generating for out.prompt\n"
     ]
    },
    {
     "name": "stderr",
     "output_type": "stream",
     "text": [
      "100%|██████████| 50/50 [00:17<00:00,  2.92it/s]\n"
     ]
    },
    {
     "name": "stdout",
     "output_type": "stream",
     "text": [
      "Generated for out.prompt\n",
      "Generating image without characters\n",
      "Loading prompt from file\n",
      "Prompt loaded\n",
      "Generating for out.prompt2\n"
     ]
    },
    {
     "name": "stderr",
     "output_type": "stream",
     "text": [
      "100%|██████████| 50/50 [00:16<00:00,  2.95it/s]\n"
     ]
    },
    {
     "name": "stdout",
     "output_type": "stream",
     "text": [
      "Generated for out.prompt2\n"
     ]
    },
    {
     "data": {
      "text/plain": [
       "0"
      ]
     },
     "execution_count": 25,
     "metadata": {},
     "output_type": "execute_result"
    }
   ],
   "source": [
    "os.system(f'python generate/generate.py --model_path {MODEL_PATH} --data_path {DATA_PATH} --model {GENRATE_MODEL} --output_path {DATA_PATH}.tmp/generate/ --prompt_path {DATA_PATH}.tmp/process/ --image_num 3')"
   ]
  },
  {
   "cell_type": "markdown",
   "metadata": {},
   "source": [
    "# Style transfer"
   ]
  },
  {
   "cell_type": "code",
   "execution_count": 26,
   "metadata": {},
   "outputs": [
    {
     "name": "stdout",
     "output_type": "stream",
     "text": [
      "['0.png', '1.png', '2.png', '10.png', '11.png', '12.png']\n",
      "Transferring from /root/LLM_project/codes/data/.tmp/generate/out/0.png to /root/LLM_project/codes/data/style/illustration_style/10.png\n",
      "Building the style transfer model..\n"
     ]
    },
    {
     "name": "stderr",
     "output_type": "stream",
     "text": [
      "Style Loss : 0.373572 Content Loss: 1.997620:  80%|████████  | 40/50 [00:04<00:01,  9.27it/s]\n"
     ]
    },
    {
     "name": "stdout",
     "output_type": "stream",
     "text": [
      "Transfer from /root/LLM_project/codes/data/.tmp/generate/out/0.png to /root/LLM_project/codes/data/style/illustration_style/10.png done\n",
      "Transferring from /root/LLM_project/codes/data/.tmp/generate/out/1.png to /root/LLM_project/codes/data/style/illustration_style/10.png\n",
      "Building the style transfer model..\n"
     ]
    },
    {
     "name": "stderr",
     "output_type": "stream",
     "text": [
      "Style Loss : 0.333863 Content Loss: 2.097287:  80%|████████  | 40/50 [00:04<00:01,  9.37it/s]\n"
     ]
    },
    {
     "name": "stdout",
     "output_type": "stream",
     "text": [
      "Transfer from /root/LLM_project/codes/data/.tmp/generate/out/1.png to /root/LLM_project/codes/data/style/illustration_style/10.png done\n",
      "Transferring from /root/LLM_project/codes/data/.tmp/generate/out/2.png to /root/LLM_project/codes/data/style/illustration_style/10.png\n",
      "Building the style transfer model..\n"
     ]
    },
    {
     "name": "stderr",
     "output_type": "stream",
     "text": [
      "Style Loss : 0.281829 Content Loss: 1.998264:  80%|████████  | 40/50 [00:04<00:01,  9.37it/s]\n"
     ]
    },
    {
     "name": "stdout",
     "output_type": "stream",
     "text": [
      "Transfer from /root/LLM_project/codes/data/.tmp/generate/out/2.png to /root/LLM_project/codes/data/style/illustration_style/10.png done\n",
      "Transferring from /root/LLM_project/codes/data/.tmp/generate/out/10.png to /root/LLM_project/codes/data/style/illustration_style/13.png\n",
      "Building the style transfer model..\n"
     ]
    },
    {
     "name": "stderr",
     "output_type": "stream",
     "text": [
      "Style Loss : 0.220464 Content Loss: 0.788137:  80%|████████  | 40/50 [00:04<00:01,  9.37it/s]\n"
     ]
    },
    {
     "name": "stdout",
     "output_type": "stream",
     "text": [
      "Transfer from /root/LLM_project/codes/data/.tmp/generate/out/10.png to /root/LLM_project/codes/data/style/illustration_style/13.png done\n",
      "Transferring from /root/LLM_project/codes/data/.tmp/generate/out/11.png to /root/LLM_project/codes/data/style/illustration_style/13.png\n",
      "Building the style transfer model..\n"
     ]
    },
    {
     "name": "stderr",
     "output_type": "stream",
     "text": [
      "Style Loss : 0.245253 Content Loss: 0.752173:  80%|████████  | 40/50 [00:04<00:01,  9.37it/s]\n"
     ]
    },
    {
     "name": "stdout",
     "output_type": "stream",
     "text": [
      "Transfer from /root/LLM_project/codes/data/.tmp/generate/out/11.png to /root/LLM_project/codes/data/style/illustration_style/13.png done\n",
      "Transferring from /root/LLM_project/codes/data/.tmp/generate/out/12.png to /root/LLM_project/codes/data/style/illustration_style/13.png\n",
      "Building the style transfer model..\n"
     ]
    },
    {
     "name": "stderr",
     "output_type": "stream",
     "text": [
      "Style Loss : 0.214198 Content Loss: 0.695238:  80%|████████  | 40/50 [00:04<00:01,  9.37it/s]\n"
     ]
    },
    {
     "name": "stdout",
     "output_type": "stream",
     "text": [
      "Transfer from /root/LLM_project/codes/data/.tmp/generate/out/12.png to /root/LLM_project/codes/data/style/illustration_style/13.png done\n"
     ]
    },
    {
     "data": {
      "text/plain": [
       "0"
      ]
     },
     "execution_count": 26,
     "metadata": {},
     "output_type": "execute_result"
    }
   ],
   "source": [
    "os.system(f'python style_transfer/style_transfer.py --data_path {DATA_PATH} --output_path {DATA_PATH}.tmp/style_transfer/ --style_path {STYLE_PATH} --content_path {CONTENT_PATH} -l_o')"
   ]
  }
 ],
 "metadata": {
  "kernelspec": {
   "display_name": "base",
   "language": "python",
   "name": "python3"
  },
  "language_info": {
   "codemirror_mode": {
    "name": "ipython",
    "version": 3
   },
   "file_extension": ".py",
   "mimetype": "text/x-python",
   "name": "python",
   "nbconvert_exporter": "python",
   "pygments_lexer": "ipython3",
   "version": "3.10.13"
  }
 },
 "nbformat": 4,
 "nbformat_minor": 2
}
