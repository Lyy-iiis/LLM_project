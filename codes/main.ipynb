{
 "cells": [
  {
   "cell_type": "markdown",
   "metadata": {},
   "source": [
    "We should call `.py` so that cuda memory will be automatically released after each part.\n",
    "\n",
    "This notebook is used to organize the codes"
   ]
  },
  {
   "cell_type": "markdown",
   "metadata": {},
   "source": [
    "## Setup"
   ]
  },
  {
   "cell_type": "markdown",
   "metadata": {},
   "source": [
    "### What you need to do\n",
    "\n",
    "- Throw audio files into `data/` directory\n",
    "\n",
    "- Correctly set `input_list`\n",
    "\n",
    "- Create a `.env` file in the `process/` directory if using `glm-4`"
   ]
  },
  {
   "cell_type": "code",
   "execution_count": 1,
   "metadata": {},
   "outputs": [],
   "source": [
    "import os"
   ]
  },
  {
   "cell_type": "code",
   "execution_count": 2,
   "metadata": {},
   "outputs": [],
   "source": [
    "DATA_PATH = os.getcwd() + '/data/'\n",
    "MODEL_PATH = '/ssdshare/LLMs/'\n",
    "MUSIC_PATH = os.getcwd() + '/data/music/'\n",
    "LLM_MODEL = \"glm-4\"\n",
    "GENRATE_MODEL = \"playground-v2.5-1024px-aesthetic\"\n",
    "CONTENT_PATH = DATA_PATH + '.tmp/generate/'\n",
    "STYLE_PATH = DATA_PATH + 'style/illustration_style/'\n",
    "\n",
    "if not os.path.exists(DATA_PATH + '.tmp/'):\n",
    "  os.makedirs(DATA_PATH + '.tmp/')\n",
    "\n",
    "list = ['extract/', 'generate/', 'process/', 'inprompt', 'style_transfer']\n",
    "\n",
    "for folder in list:\n",
    "  if not os.path.exists(DATA_PATH + '.tmp/' + folder):\n",
    "    os.makedirs(DATA_PATH + '.tmp/' + folder)\n"
   ]
  },
  {
   "cell_type": "code",
   "execution_count": 3,
   "metadata": {},
   "outputs": [],
   "source": [
    "input_list = [\n",
    "  'Taylor Swift - Love Story.mp3',\n",
    "]\n",
    "prompts = [r'''\n",
    "\n",
    "''',\n",
    "]\n",
    "# Pick the style images in the style library\n",
    "style_list = [\n",
    "  # 'opia.png'\n",
    "]\n",
    "num_char = 2 # default 1\n",
    "num_non_char = 2 # default 1\n",
    "image_num = 1 \n",
    "# You should check both input_list and prompts modified!!!\n",
    "with open(DATA_PATH + 'input_list.txt', 'w') as f:\n",
    "  for item in input_list:\n",
    "    f.write(\"%s\\n\" % item)\n",
    "\n",
    "with open(DATA_PATH + 'style_list.txt', 'w') as f:\n",
    "  for item in style_list:\n",
    "    f.write(\"%s\\n\" % item)\n",
    "\n",
    "tmp_list = []\n",
    "for item in input_list:\n",
    "  tmp_list.append(item[:-4])\n",
    "input_list = tmp_list\n",
    "\n",
    "# if not os.path.exists(DATA_PATH + '.tmp/inprompt/'):\n",
    "#   os.makedirs(DATA_PATH + '.tmp/inprompt/')\n",
    "for (prompt, name) in zip(prompts, input_list):\n",
    "  with open(DATA_PATH + '.tmp/inprompt/' + name + '.prompt', 'w') as f:\n",
    "    f.write(prompt)"
   ]
  },
  {
   "cell_type": "markdown",
   "metadata": {},
   "source": [
    "## Extract"
   ]
  },
  {
   "cell_type": "code",
   "execution_count": 4,
   "metadata": {},
   "outputs": [
    {
     "name": "stdout",
     "output_type": "stream",
     "text": [
      "Taylor Swift - Love Story.mp3\n",
      "['Taylor Swift - Love Story.wav']\n",
      "audio_start_id: 155163, audio_end_id: 155164, audio_pad_id: 151851.\n"
     ]
    },
    {
     "name": "stderr",
     "output_type": "stream",
     "text": [
      "The model is automatically converting to bf16 for faster inference. If you want to disable the automatic precision, please manually add bf16/fp16/fp32=True to \"AutoModelForCausalLM.from_pretrained\".\n",
      "Try importing flash-attention for faster inference...\n",
      "Loading checkpoint shards: 100%|██████████| 9/9 [00:03<00:00,  2.50it/s]\n",
      "The model is automatically converting to bf16 for faster inference. If you want to disable the automatic precision, please manually add bf16/fp16/fp32=True to \"AutoModelForCausalLM.from_pretrained\".\n",
      "Try importing flash-attention for faster inference...\n",
      "Loading checkpoint shards: 100%|██████████| 9/9 [00:03<00:00,  2.43it/s]\n"
     ]
    },
    {
     "name": "stdout",
     "output_type": "stream",
     "text": [
      "False\n",
      "using device 0\n",
      "using device 1\n",
      "using device 0\n",
      "using device 1\n",
      "using device 0\n",
      "using device 1\n",
      "using device 0\n",
      "using device 1\n",
      "using device 0\n",
      "using device 1\n",
      "successfully add prompt for Taylor Swift - Love Story.wav\n",
      "This music is cut into 10 pieces. Each piece has a length of 30 seconds and an overlap of 5 seconds. The description of each piece is as follows:\n",
      "Description piece 1: A pop/rock song with a light, bouncy feel.\n",
      "Description piece 2: A pop song with a country feel. Features acoustic guitar, electric guitar, drums, bass, and female vocals. The mood is uplifting and positive. This song would work well in a corporate video, commercial, or advertisement.\n",
      "Description piece 3: A driving, energetic pop-rock song with a strong female lead vocal. The song is upbeat and has a catchy chorus. The song is a good fit for commercials, corporate videos, and presentations.\n",
      "Description piece 4: A catchy pop rock song with a female lead vocal. The song is upbeat and has a strong catchy chorus. The instruments used are acoustic and electric guitars, bass, drums and piano. The song is suitable for background music in movies, tv shows, commercials, advertisements, corporate videos, business projects, presentations, promotions, and more.\n",
      "Description piece 5: A song in the genre of pop, featuring a female vocalist singing melodically. The tempo is medium with a strong bass line, steady drumming rhythm and piano accompaniment. The song is emotional and passionate, with a strong sense of determination and confidence. The lyrics are about a female protagonist who is confident and self-assured, and she sings about her love for someone who is her everything. The song is uplifting and inspiring, with a strong sense of determination and hope.\n",
      "Description piece 6: This is a pop rock song with a female lead vocal. The tempo is medium with a catchy guitar riff, steady drumming and harmonious backup vocals. The song is upbeat and has a feel-good vibe. The lyrics are about friendship and being in love.\n",
      "Description piece 7: This is a country pop song with a catchy melody and a powerful chorus. The instrumentation includes electric guitar, acoustic guitar, bass, drums, and piano. The lead vocal is a female voice singing with a strong and emotional tone. The overall mood of the song is uplifting and inspiring. It is perfect for a scene in a movie where the main character is overcoming a difficult situation and finding hope.\n",
      "Description piece 8: This is a pop song with a catchy melody and a driving rhythm. The main instruments are the piano, electric guitar, and drums. The vocal melody is catchy and repetitive, with a strong emphasis on the word \"you\". The overall feeling of the song is upbeat and optimistic.\n",
      "Description piece 9: An upbeat and uplifting pop-rock track with catchy melodies and a driving rhythm. The song features electric guitars, drums, bass and female vocals. The song is perfect for commercials, TV shows, movies, documentaries, corporate videos, business projects, presentations, promotions, and more.\n",
      "Description piece 10: This is a pop song. The tempo is medium with a steady drumming rhythm, steady bass line, keyboard harmony and guitar accompaniment. The song is emotional, with a passionate vocal delivery. The lyrics are about a past relationship and the singer is expressing regret and longing for the past.\n",
      "\n",
      "The lyrics are as follows:\n",
      "We were both young when I first saw you I closed my eyes and the flashback starts I'm standing there On a balcony in the summer air\n",
      "I'm on the balcony and the summer air\n",
      "You were throwing pebbles My daddy said stay away from julie I was crying on the staircase Begging you please don't go\n",
      "And I sneak out to the garden to see you We keep quiet because we're dead afraid of you So close your eyes\n",
      "Cause you were my Romeo I was a scarlet letter\n",
      "I'll be the friend you need And I'll be the friend you need And I'll be the friend you need\n",
      "I'm wondering if you were ever coming around\n",
      "When I met you on the outskirts of town And I said Will you save me I've been feeling so alone I keep waiting for you But you never came to me I know what to think I love you and\n",
      "I love you and I love you And I thought I really loved you And I talked to your dad and he said go get a white dress just say yes\n",
      "As we were both young When I first saw you\n",
      "\n",
      "successfully write prompt for Taylor Swift - Love Story.wav\n"
     ]
    },
    {
     "data": {
      "text/plain": [
       "0"
      ]
     },
     "execution_count": 4,
     "metadata": {},
     "output_type": "execute_result"
    }
   ],
   "source": [
    "os.system(f'python extract/extract.py --model_path {MODEL_PATH} --data_path {DATA_PATH} --music_path {MUSIC_PATH} --output_path {DATA_PATH}.tmp/extract/ --device_num 2')"
   ]
  },
  {
   "cell_type": "markdown",
   "metadata": {},
   "source": [
    "## Process"
   ]
  },
  {
   "cell_type": "code",
   "execution_count": 5,
   "metadata": {},
   "outputs": [
    {
     "name": "stdout",
     "output_type": "stream",
     "text": [
      "['Taylor Swift - Love Story']\n",
      "Loading model\n",
      "Model loaded\n",
      "<class 'zhipuai._client.ZhipuAI'> <class 'NoneType'>\n",
      "15\n",
      "15\n",
      "15\n",
      "15\n",
      "Token spent: 31587\n"
     ]
    },
    {
     "data": {
      "text/plain": [
       "0"
      ]
     },
     "execution_count": 5,
     "metadata": {},
     "output_type": "execute_result"
    }
   ],
   "source": [
    "os.system(f'python process/process.py --model_path {MODEL_PATH} --data_path {DATA_PATH} --model {LLM_MODEL} --prompt_path {DATA_PATH}.tmp/extract/ --output_path {DATA_PATH}.tmp/process/ --num_char {num_char} --num_non_char {num_non_char}')"
   ]
  },
  {
   "cell_type": "code",
   "execution_count": 6,
   "metadata": {},
   "outputs": [
    {
     "name": "stdout",
     "output_type": "stream",
     "text": [
      "upbeat, vibrant, youthful energy, summer day, two young adults, playful interaction, garden setting, bright colors, emotional connection, love story, memories, joy, nostalgia, 8k resolution, 16:9 aspect ratio, 60fps\n",
      "female singer, emotional expression, acoustic guitar, electric guitar, drums, piano, uplifting mood, friendship, love, country pop, pop rock, medium tempo, driving rhythm, catchy melody, passionate vocal, summer balcony scene, past relationship, regret, longing, vibrant colors, 8k resolution, 16:9 aspect ratio, 60fps\n",
      "b'vibrant garden setting, colorful flower beds, vibrant greenery, warm sunset hues, whimsical gazebo, romantic ambiance,Juliet-style balcony, throwback summer vibe, sparkling pebble path, emotional atmosphere, heartfelt memories, dynamic lighting, abstract patterns of light and shadow, warm and inviting, nostalgic essence, playful staircase, 8k resolution, 16:9 aspect ratio, 60fps.'\n",
      "b'vibrant garden setting, blooming flowers, colorful butterfly wings, warm sunset hues, romantic atmosphere, floating pebbles, wrought-iron staircase, nostalgic summer night, passionate emotions, reflective surface of a pool, friendly embrace, hidden letters, supportive friendship, non-human figures, abstract patterns of light and shadow, delicate lace textures, 8k resolution, 16:9 aspect ratio, 60fps.'\n"
     ]
    }
   ],
   "source": [
    "for file_name in input_list:\n",
    "  for t in range(num_char):\n",
    "    with open(DATA_PATH + '.tmp/process/' + file_name + '.prompt' + str(t), 'r') as f:\n",
    "      print(f.read())\n",
    "  for t in range(num_non_char):\n",
    "    with open(DATA_PATH + '.tmp/process/' + file_name + '.prompt_nc' + str(t), 'rb') as f:\n",
    "      print(f.read())"
   ]
  },
  {
   "cell_type": "markdown",
   "metadata": {},
   "source": [
    "## Generate"
   ]
  },
  {
   "cell_type": "code",
   "execution_count": 7,
   "metadata": {},
   "outputs": [
    {
     "name": "stdout",
     "output_type": "stream",
     "text": [
      "Loading prompt from file\n",
      "Taylor Swift - Love Story.prompt\n",
      "Prompt loaded\n",
      "Loading model\n"
     ]
    },
    {
     "name": "stderr",
     "output_type": "stream",
     "text": [
      "Loading pipeline components...: 100%|██████████| 7/7 [00:00<00:00,  7.47it/s]\n"
     ]
    },
    {
     "name": "stdout",
     "output_type": "stream",
     "text": [
      "Model loaded\n",
      "Generating for Taylor Swift - Love Story.prompt\n"
     ]
    },
    {
     "name": "stderr",
     "output_type": "stream",
     "text": [
      "100%|██████████| 50/50 [00:06<00:00,  7.55it/s]\n",
      "100%|██████████| 50/50 [00:06<00:00,  7.79it/s]\n"
     ]
    },
    {
     "name": "stdout",
     "output_type": "stream",
     "text": [
      "Generated for Taylor Swift - Love Story.prompt\n",
      "Loading prompt from file\n",
      "Generating image without characters\n",
      "Prompt loaded\n",
      "Generating for Taylor Swift - Love Story.prompt_nc\n"
     ]
    },
    {
     "name": "stderr",
     "output_type": "stream",
     "text": [
      "Token indices sequence length is longer than the specified maximum sequence length for this model (79 > 77). Running this sequence through the model will result in indexing errors\n",
      "Token indices sequence length is longer than the specified maximum sequence length for this model (79 > 77). Running this sequence through the model will result in indexing errors\n",
      "100%|██████████| 50/50 [00:06<00:00,  7.78it/s]\n",
      "100%|██████████| 50/50 [00:06<00:00,  7.78it/s]\n"
     ]
    },
    {
     "name": "stdout",
     "output_type": "stream",
     "text": [
      "Generated for Taylor Swift - Love Story.prompt_nc\n"
     ]
    },
    {
     "data": {
      "text/plain": [
       "0"
      ]
     },
     "execution_count": 7,
     "metadata": {},
     "output_type": "execute_result"
    }
   ],
   "source": [
    "os.system(f'python generate/generate.py --model_path {MODEL_PATH} --data_path {DATA_PATH} --model {GENRATE_MODEL} --output_path {DATA_PATH}.tmp/generate/ --prompt_path {DATA_PATH}.tmp/process/ --image_num {image_num} --num_char {num_char} --num_non_char {num_non_char}')"
   ]
  },
  {
   "cell_type": "markdown",
   "metadata": {},
   "source": [
    "# Style transfer"
   ]
  },
  {
   "cell_type": "markdown",
   "metadata": {},
   "source": [
    "If you don't want to keep the previous images, run the line below to remove them (so that we can show the images generated)."
   ]
  },
  {
   "cell_type": "code",
   "execution_count": 8,
   "metadata": {},
   "outputs": [],
   "source": [
    "import os, glob\n",
    "for file_name in input_list:\n",
    "    [os.remove(f) for f in glob.glob(DATA_PATH + '.tmp/style_transfer/' + file_name + '/*')]"
   ]
  },
  {
   "cell_type": "code",
   "execution_count": 4,
   "metadata": {},
   "outputs": [
    {
     "name": "stderr",
     "output_type": "stream",
     "text": [
      "2024-06-06 13:46:53,494 - modelscope - INFO - PyTorch version 2.1.1 Found.\n",
      "2024-06-06 13:46:53,496 - modelscope - INFO - TensorFlow version 2.16.1 Found.\n",
      "2024-06-06 13:46:53,496 - modelscope - INFO - Loading ast index from /root/.cache/modelscope/ast_indexer\n",
      "2024-06-06 13:46:53,536 - modelscope - INFO - Loading done! Current index file version is 1.14.0, with md5 8b52ec5d6c1ca61827fbe6521de44ef5 and a total number of 976 components indexed\n"
     ]
    },
    {
     "name": "stdout",
     "output_type": "stream",
     "text": [
      "['0-0.png', '1-0.png', 'nc0-0.png', 'nc1-0.png']\n"
     ]
    },
    {
     "name": "stderr",
     "output_type": "stream",
     "text": [
      "2024-06-06 13:47:06,186 - modelscope - WARNING - Model revision not specified, use revision: v1.0.0\n",
      "2024-06-06 13:47:06,491 - modelscope - INFO - initiate model from /root/.cache/modelscope/hub/damo/cv_aams_style-transfer_damo\n",
      "2024-06-06 13:47:06,491 - modelscope - INFO - initiate model from location /root/.cache/modelscope/hub/damo/cv_aams_style-transfer_damo.\n",
      "2024-06-06 13:47:06,494 - modelscope - WARNING - No preprocessor field found in cfg.\n",
      "2024-06-06 13:47:06,494 - modelscope - WARNING - No val key and type key found in preprocessor domain of configuration.json file.\n",
      "2024-06-06 13:47:06,494 - modelscope - WARNING - Cannot find available config to build preprocessor at mode inference, current config: {'model_dir': '/root/.cache/modelscope/hub/damo/cv_aams_style-transfer_damo'}. trying to build by task and model information.\n",
      "2024-06-06 13:47:06,494 - modelscope - WARNING - Find task: image-style-transfer, model type: None. Insufficient information to build preprocessor, skip building preprocessor\n",
      "2024-06-06 13:47:06.948187: I tensorflow/core/util/port.cc:113] oneDNN custom operations are on. You may see slightly different numerical results due to floating-point round-off errors from different computation orders. To turn them off, set the environment variable `TF_ENABLE_ONEDNN_OPTS=0`.\n",
      "2024-06-06 13:47:07.056438: I tensorflow/core/platform/cpu_feature_guard.cc:210] This TensorFlow binary is optimized to use available CPU instructions in performance-critical operations.\n",
      "To enable the following instructions: AVX2 AVX512F AVX512_VNNI FMA, in other operations, rebuild TensorFlow with the appropriate compiler flags.\n",
      "2024-06-06 13:47:08.254073: W tensorflow/compiler/tf2tensorrt/utils/py_utils.cc:38] TF-TRT Warning: Could not find TensorRT\n",
      "WARNING:tensorflow:From /opt/conda/lib/python3.10/site-packages/modelscope/utils/device.py:60: is_gpu_available (from tensorflow.python.framework.test_util) is deprecated and will be removed in a future version.\n",
      "Instructions for updating:\n",
      "Use `tf.config.list_physical_devices('GPU')` instead.\n",
      "2024-06-06 13:47:08.772847: I tensorflow/core/common_runtime/gpu/gpu_device.cc:1928] Created device /device:GPU:0 with 21330 MB memory:  -> device: 0, name: NVIDIA GeForce RTX 4090, pci bus id: 0000:37:00.0, compute capability: 8.9\n",
      "2024-06-06 13:47:08.773417: I tensorflow/core/common_runtime/gpu/gpu_device.cc:1928] Created device /device:GPU:1 with 22283 MB memory:  -> device: 1, name: NVIDIA GeForce RTX 4090, pci bus id: 0000:9a:00.0, compute capability: 8.9\n",
      "2024-06-06 13:47:08.777614: I tensorflow/core/common_runtime/gpu/gpu_device.cc:1928] Created device /job:localhost/replica:0/task:0/device:GPU:0 with 21330 MB memory:  -> device: 0, name: NVIDIA GeForce RTX 4090, pci bus id: 0000:37:00.0, compute capability: 8.9\n",
      "2024-06-06 13:47:08.777871: I tensorflow/core/common_runtime/gpu/gpu_device.cc:1928] Created device /job:localhost/replica:0/task:0/device:GPU:1 with 22283 MB memory:  -> device: 1, name: NVIDIA GeForce RTX 4090, pci bus id: 0000:9a:00.0, compute capability: 8.9\n",
      "2024-06-06 13:47:08.785519: I tensorflow/core/common_runtime/gpu/gpu_device.cc:1928] Created device /job:localhost/replica:0/task:0/device:GPU:0 with 21330 MB memory:  -> device: 0, name: NVIDIA GeForce RTX 4090, pci bus id: 0000:37:00.0, compute capability: 8.9\n",
      "2024-06-06 13:47:08.785775: I tensorflow/core/common_runtime/gpu/gpu_device.cc:1928] Created device /job:localhost/replica:0/task:0/device:GPU:1 with 22283 MB memory:  -> device: 1, name: NVIDIA GeForce RTX 4090, pci bus id: 0000:9a:00.0, compute capability: 8.9\n",
      "2024-06-06 13:47:08,790 - modelscope - INFO - loading model from /root/.cache/modelscope/hub/damo/cv_aams_style-transfer_damo/tf_graph.pb\n",
      "WARNING:tensorflow:From /opt/conda/lib/python3.10/site-packages/modelscope/pipelines/cv/image_style_transfer_pipeline.py:44: FastGFile.__init__ (from tensorflow.python.platform.gfile) is deprecated and will be removed in a future version.\n",
      "Instructions for updating:\n",
      "Use tf.gfile.GFile.\n",
      "2024-06-06 13:47:09,215 - modelscope - INFO - load model done\n"
     ]
    },
    {
     "name": "stdout",
     "output_type": "stream",
     "text": [
      "content: Taylor Swift - Love Story/0-0.png\n",
      "style: 15.png\n",
      "Transferring from /root/LLM_project/codes/data/.tmp/generate/Taylor Swift - Love Story/0-0.png to /root/LLM_project/codes/data/style/illustration_style/15.png\n"
     ]
    },
    {
     "name": "stderr",
     "output_type": "stream",
     "text": [
      "2024-06-06 13:47:11.240564: I tensorflow/core/common_runtime/gpu/gpu_device.cc:1928] Created device /device:GPU:0 with 21330 MB memory:  -> device: 0, name: NVIDIA GeForce RTX 4090, pci bus id: 0000:37:00.0, compute capability: 8.9\n",
      "2024-06-06 13:47:11.240828: I tensorflow/core/common_runtime/gpu/gpu_device.cc:1928] Created device /device:GPU:1 with 22283 MB memory:  -> device: 1, name: NVIDIA GeForce RTX 4090, pci bus id: 0000:9a:00.0, compute capability: 8.9\n",
      "2024-06-06 13:47:11.357806: I tensorflow/compiler/mlir/mlir_graph_optimization_pass.cc:388] MLIR V1 optimization pass is not enabled\n",
      "2024-06-06 13:47:13.124426: I external/local_xla/xla/stream_executor/cuda/cuda_dnn.cc:465] Loaded cuDNN version 8902\n",
      "2024-06-06 13:47:13.662427: I tensorflow/core/util/cuda_solvers.cc:178] Creating GpuSolver handles for stream 0x138a9310\n"
     ]
    },
    {
     "name": "stdout",
     "output_type": "stream",
     "text": [
      "torch.Size([3, 224, 224])\n",
      "torch.Size([1024, 1024, 1])\n",
      "Transfer from /root/LLM_project/codes/data/.tmp/generate/Taylor Swift - Love Story/0-0.png to /root/LLM_project/codes/data/style/illustration_style/15.png done\n",
      "content: Taylor Swift - Love Story/1-0.png\n",
      "style: 15.png\n",
      "Transferring from /root/LLM_project/codes/data/.tmp/generate/Taylor Swift - Love Story/1-0.png to /root/LLM_project/codes/data/style/illustration_style/15.png\n"
     ]
    },
    {
     "name": "stderr",
     "output_type": "stream",
     "text": [
      "2024-06-06 13:47:21.316540: I tensorflow/core/common_runtime/gpu/gpu_device.cc:1928] Created device /device:GPU:0 with 21330 MB memory:  -> device: 0, name: NVIDIA GeForce RTX 4090, pci bus id: 0000:37:00.0, compute capability: 8.9\n",
      "2024-06-06 13:47:21.316994: I tensorflow/core/common_runtime/gpu/gpu_device.cc:1928] Created device /device:GPU:1 with 22283 MB memory:  -> device: 1, name: NVIDIA GeForce RTX 4090, pci bus id: 0000:9a:00.0, compute capability: 8.9\n"
     ]
    },
    {
     "name": "stdout",
     "output_type": "stream",
     "text": [
      "torch.Size([3, 224, 224])\n",
      "torch.Size([1024, 1024, 1])\n",
      "Transfer from /root/LLM_project/codes/data/.tmp/generate/Taylor Swift - Love Story/1-0.png to /root/LLM_project/codes/data/style/illustration_style/15.png done\n",
      "content: Taylor Swift - Love Story/nc0-0.png\n",
      "style: 15.png\n",
      "Transferring from /root/LLM_project/codes/data/.tmp/generate/Taylor Swift - Love Story/nc0-0.png to /root/LLM_project/codes/data/style/illustration_style/15.png\n"
     ]
    },
    {
     "name": "stderr",
     "output_type": "stream",
     "text": [
      "2024-06-06 13:47:27.427218: I tensorflow/core/common_runtime/gpu/gpu_device.cc:1928] Created device /device:GPU:0 with 21330 MB memory:  -> device: 0, name: NVIDIA GeForce RTX 4090, pci bus id: 0000:37:00.0, compute capability: 8.9\n",
      "2024-06-06 13:47:27.427489: I tensorflow/core/common_runtime/gpu/gpu_device.cc:1928] Created device /device:GPU:1 with 22283 MB memory:  -> device: 1, name: NVIDIA GeForce RTX 4090, pci bus id: 0000:9a:00.0, compute capability: 8.9\n"
     ]
    },
    {
     "name": "stdout",
     "output_type": "stream",
     "text": [
      "torch.Size([3, 224, 224])\n",
      "torch.Size([1024, 1024, 1])\n",
      "Transfer from /root/LLM_project/codes/data/.tmp/generate/Taylor Swift - Love Story/nc0-0.png to /root/LLM_project/codes/data/style/illustration_style/15.png done\n",
      "content: Taylor Swift - Love Story/nc1-0.png\n",
      "style: 15.png\n",
      "Transferring from /root/LLM_project/codes/data/.tmp/generate/Taylor Swift - Love Story/nc1-0.png to /root/LLM_project/codes/data/style/illustration_style/15.png\n"
     ]
    },
    {
     "name": "stderr",
     "output_type": "stream",
     "text": [
      "2024-06-06 13:47:32.268741: I tensorflow/core/common_runtime/gpu/gpu_device.cc:1928] Created device /device:GPU:0 with 21330 MB memory:  -> device: 0, name: NVIDIA GeForce RTX 4090, pci bus id: 0000:37:00.0, compute capability: 8.9\n",
      "2024-06-06 13:47:32.269017: I tensorflow/core/common_runtime/gpu/gpu_device.cc:1928] Created device /device:GPU:1 with 22283 MB memory:  -> device: 1, name: NVIDIA GeForce RTX 4090, pci bus id: 0000:9a:00.0, compute capability: 8.9\n"
     ]
    },
    {
     "name": "stdout",
     "output_type": "stream",
     "text": [
      "torch.Size([3, 224, 224])\n",
      "torch.Size([1024, 1024, 1])\n",
      "Transfer from /root/LLM_project/codes/data/.tmp/generate/Taylor Swift - Love Story/nc1-0.png to /root/LLM_project/codes/data/style/illustration_style/15.png done\n"
     ]
    },
    {
     "data": {
      "text/plain": [
       "0"
      ]
     },
     "execution_count": 4,
     "metadata": {},
     "output_type": "execute_result"
    }
   ],
   "source": [
    "os.system(f'python style_transfer/style_transfer.py --data_path {DATA_PATH} --output_path {DATA_PATH}.tmp/style_transfer/ --style_path {STYLE_PATH} --content_path {CONTENT_PATH} -l_o --num_char {num_char} --num_non_char {num_non_char} --attn --aams')"
   ]
  },
  {
   "cell_type": "markdown",
   "metadata": {},
   "source": [
    "# Final Results"
   ]
  },
  {
   "cell_type": "code",
   "execution_count": null,
   "metadata": {},
   "outputs": [],
   "source": [
    "import matplotlib.pyplot as plt\n",
    "from PIL import Image\n",
    "\n",
    "result = {}\n",
    "for music in input_list:\n",
    "  result[music] = os.listdir(DATA_PATH + '.tmp/style_transfer/'+music)\n",
    "\n",
    "for (music, pics) in zip(result.keys(), result.values()):\n",
    "  print(music)\n",
    "  for pic in pics:\n",
    "    if pic.endswith('.png'):\n",
    "      image = Image.open((DATA_PATH + '.tmp/style_transfer/'+music+'/'+pic))\n",
    "      plt.imshow(image)\n",
    "      plt.axis('off')\n",
    "      plt.show()"
   ]
  }
 ],
 "metadata": {
  "kernelspec": {
   "display_name": "base",
   "language": "python",
   "name": "python3"
  },
  "language_info": {
   "codemirror_mode": {
    "name": "ipython",
    "version": 3
   },
   "file_extension": ".py",
   "mimetype": "text/x-python",
   "name": "python",
   "nbconvert_exporter": "python",
   "pygments_lexer": "ipython3",
   "version": "3.10.13"
  }
 },
 "nbformat": 4,
 "nbformat_minor": 2
}
