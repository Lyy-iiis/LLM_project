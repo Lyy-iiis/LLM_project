{
 "cells": [
  {
   "cell_type": "markdown",
   "metadata": {},
   "source": [
    "We should call `.py` so that cuda memory will be automatically released after each part.\n",
    "\n",
    "This notebook is used to organize the codes"
   ]
  },
  {
   "cell_type": "markdown",
   "metadata": {},
   "source": [
    "## Setup"
   ]
  },
  {
   "cell_type": "markdown",
   "metadata": {},
   "source": [
    "### What you need to do\n",
    "\n",
    "- Throw audio files into `data/` directory\n",
    "\n",
    "- Correctly set `input_list`\n",
    "\n",
    "- Create a `.env` file in the `process/` directory if using `glm-4`"
   ]
  },
  {
   "cell_type": "code",
   "execution_count": 1,
   "metadata": {},
   "outputs": [],
   "source": [
    "import os"
   ]
  },
  {
   "cell_type": "code",
   "execution_count": 2,
   "metadata": {},
   "outputs": [],
   "source": [
    "DATA_PATH = os.getcwd() + '/data/'\n",
    "MODEL_PATH = '/ssdshare/LLMs/'\n",
    "MUSIC_PATH = os.getcwd() + '/data/music/'\n",
    "LLM_MODEL = \"glm-4\"\n",
    "GENRATE_MODEL = \"playground-v2.5-1024px-aesthetic\"\n",
    "CONTENT_PATH = DATA_PATH + '.tmp/generate/'\n",
    "STYLE_PATH = DATA_PATH + 'style/'\n",
    "\n",
    "if not os.path.exists(DATA_PATH + '.tmp/'):\n",
    "  os.makedirs(DATA_PATH + '.tmp/')\n",
    "\n",
    "list = ['extract/', 'generate/', 'process/', 'inprompt', 'style_transfer']\n",
    "\n",
    "for folder in list:\n",
    "  if not os.path.exists(DATA_PATH + '.tmp/' + folder):\n",
    "    os.makedirs(DATA_PATH + '.tmp/' + folder)\n"
   ]
  },
  {
   "cell_type": "code",
   "execution_count": 3,
   "metadata": {},
   "outputs": [],
   "source": [
    "input_list = [\n",
    "  'FULi AUTO SHOOTER.mp3',\n",
    "]\n",
    "prompts = [r'''\n",
    "  The name of this song is 'FULi AUTO SHOOTER'. \n",
    "''',\n",
    "]\n",
    "# Pick the style images in the style library\n",
    "style_list = [\n",
    "  # 'opia.png'\n",
    "]\n",
    "# You should check both input_list and prompts modified!!!\n",
    "with open(DATA_PATH + 'input_list.txt', 'w') as f:\n",
    "  for item in input_list:\n",
    "    f.write(\"%s\\n\" % item)\n",
    "\n",
    "with open(DATA_PATH + 'style_list.txt', 'w') as f:\n",
    "  for item in style_list:\n",
    "    f.write(\"%s\\n\" % item)\n",
    "\n",
    "tmp_list = []\n",
    "for item in input_list:\n",
    "  tmp_list.append(item[:-4])\n",
    "input_list = tmp_list\n",
    "\n",
    "# if not os.path.exists(DATA_PATH + '.tmp/inprompt/'):\n",
    "#   os.makedirs(DATA_PATH + '.tmp/inprompt/')\n",
    "for (prompt, name) in zip(prompts, input_list):\n",
    "  with open(DATA_PATH + '.tmp/inprompt/' + name + '.prompt', 'w') as f:\n",
    "    f.write(prompt)"
   ]
  },
  {
   "cell_type": "markdown",
   "metadata": {},
   "source": [
    "## Extract"
   ]
  },
  {
   "cell_type": "code",
   "execution_count": 4,
   "metadata": {},
   "outputs": [
    {
     "name": "stdout",
     "output_type": "stream",
     "text": [
      "FULi AUTO SHOOTER.mp3\n",
      "['FULi AUTO SHOOTER.wav']\n",
      "audio_start_id: 155163, audio_end_id: 155164, audio_pad_id: 151851.\n"
     ]
    },
    {
     "name": "stderr",
     "output_type": "stream",
     "text": [
      "The model is automatically converting to bf16 for faster inference. If you want to disable the automatic precision, please manually add bf16/fp16/fp32=True to \"AutoModelForCausalLM.from_pretrained\".\n",
      "Try importing flash-attention for faster inference...\n",
      "Warning: import flash_attn rotary fail, please install FlashAttention rotary to get higher efficiency https://github.com/Dao-AILab/flash-attention/tree/main/csrc/rotary\n",
      "Warning: import flash_attn rms_norm fail, please install FlashAttention layer_norm to get higher efficiency https://github.com/Dao-AILab/flash-attention/tree/main/csrc/layer_norm\n",
      "Warning: import flash_attn fail, please install FlashAttention to get higher efficiency https://github.com/Dao-AILab/flash-attention\n",
      "Loading checkpoint shards: 100%|██████████| 9/9 [00:03<00:00,  2.61it/s]\n",
      "The model is automatically converting to bf16 for faster inference. If you want to disable the automatic precision, please manually add bf16/fp16/fp32=True to \"AutoModelForCausalLM.from_pretrained\".\n",
      "Try importing flash-attention for faster inference...\n",
      "Warning: import flash_attn rotary fail, please install FlashAttention rotary to get higher efficiency https://github.com/Dao-AILab/flash-attention/tree/main/csrc/rotary\n",
      "Warning: import flash_attn rms_norm fail, please install FlashAttention layer_norm to get higher efficiency https://github.com/Dao-AILab/flash-attention/tree/main/csrc/layer_norm\n",
      "Warning: import flash_attn fail, please install FlashAttention to get higher efficiency https://github.com/Dao-AILab/flash-attention\n",
      "Loading checkpoint shards: 100%|██████████| 9/9 [00:03<00:00,  2.60it/s]\n"
     ]
    },
    {
     "name": "stdout",
     "output_type": "stream",
     "text": [
      "using device 0\n",
      "using device 1\n",
      "using device 0\n",
      "using device 1\n",
      "using device 0\n",
      "using device 1\n",
      "using device 0\n",
      "using device 1\n",
      "successfully add prompt for FULi AUTO SHOOTER.wav\n",
      "successfully write prompt for FULi AUTO SHOOTER.wav\n"
     ]
    },
    {
     "data": {
      "text/plain": [
       "0"
      ]
     },
     "execution_count": 4,
     "metadata": {},
     "output_type": "execute_result"
    }
   ],
   "source": [
    "os.system(f'python extract/extract.py --model_path {MODEL_PATH} --data_path {DATA_PATH} --music_path {MUSIC_PATH} --output_path {DATA_PATH}.tmp/extract/ --device_num 2')"
   ]
  },
  {
   "cell_type": "code",
   "execution_count": 5,
   "metadata": {},
   "outputs": [
    {
     "name": "stdout",
     "output_type": "stream",
     "text": [
      "This music is cut into 8 pieces. Each piece has a length of 30 seconds and an overlap of 5 seconds. The description of each piece is as follows:\n",
      "Description piece 1: A fast-paced, energetic electronic track with a strong bassline, fast-paced drums, and a catchy melody. It is perfect for action scenes, extreme sports, and fast-paced video games.\n",
      "Description piece 2: This is a high-energy dubstep track featuring distorted basslines, pounding drums, and powerful lead synths. The mood is intense and energetic, with a strong focus on the beat and the bass. The track is ideal for action scenes, sports montages, and high-energy media.\n",
      "Description piece 3: This is a dubstep track with a strong bassline and powerful drums. The lead synthesizer has a distorted, robotic sound, and the overall atmosphere is energetic and intense. This track would be well-suited for action scenes in a video game or movie.\n",
      "Description piece 4: This is a dubstep track with a strong beat and electronic elements. The synthesizers and drum machines create a powerful and energetic atmosphere. The voice samples are chopped and distorted, adding to the overall edgy and intense feel of the track. This music would be suitable for action scenes or high-energy moments in a film or video game.\n",
      "Description piece 5: This is a high-energy, upbeat electronic dance track with a strong beat, catchy melodies, and powerful basslines. The track has a male vocal sample that is repeated throughout the song. The song is perfect for energetic and upbeat scenes in movies, TV shows, and video games.\n",
      "Description piece 6: This is a powerful and energetic electronic dance music track with a strong beat, catchy melodies, and a powerful bassline. The instruments used are synthesizers, drums, and percussion. The mood of this track is energetic, upbeat, and uplifting. This track is suitable for use in the soundtrack of a video game, a movie, or a commercial.\n",
      "Description piece 7: This is a high-energy electronic dance track with a strong, punchy beat, energetic synths, and a catchy hook. It has a strong sense of momentum and energy, making it perfect for action scenes, sports, or any other high-intensity media. The track is uplifting and inspirational, with a sense of triumph and victory. It is a great choice for any project that needs a powerful, energetic soundtrack.\n",
      "Description piece 8: This is a song whose genre is Electronic, and the lyrics are \" I know that I can't keep on I know that I can't keep on\".\n",
      "\n",
      "The lyrics are as follows:\n",
      "Slip into the dream\n",
      "I don't know what to do\n",
      "I'm a lonely boy I'm a lonely boy\n",
      "Kiss me like you mean it\n",
      "The way we used to live\n",
      "the sun shines bright\n",
      "\n"
     ]
    }
   ],
   "source": [
    "for file_name in input_list:\n",
    "  with open(DATA_PATH + '.tmp/extract/' + file_name + '.prompt', 'r') as f:\n",
    "    print(f.read())"
   ]
  },
  {
   "cell_type": "markdown",
   "metadata": {},
   "source": [
    "## Process"
   ]
  },
  {
   "cell_type": "code",
   "execution_count": 6,
   "metadata": {},
   "outputs": [
    {
     "name": "stdout",
     "output_type": "stream",
     "text": [
      "['FULi AUTO SHOOTER']\n",
      "Loading model\n",
      "Model loaded\n",
      "<class 'zhipuai._client.ZhipuAI'> <class 'NoneType'>\n",
      "Loading model\n",
      "Model loaded\n",
      "Token spent: 4721\n"
     ]
    },
    {
     "data": {
      "text/plain": [
       "0"
      ]
     },
     "execution_count": 6,
     "metadata": {},
     "output_type": "execute_result"
    }
   ],
   "source": [
    "os.system(f'python process/process.py --model_path {MODEL_PATH} --data_path {DATA_PATH} --model {LLM_MODEL} --prompt_path {DATA_PATH}.tmp/extract/ --output_path {DATA_PATH}.tmp/process/')"
   ]
  },
  {
   "cell_type": "code",
   "execution_count": 7,
   "metadata": {},
   "outputs": [
    {
     "name": "stdout",
     "output_type": "stream",
     "text": [
      "dynamic cyberpunk cityscape, neon lights, futuristic vehicles, male protagonist in focus, intense expression, wearing high-tech gear, red and black color scheme, abstract patterns, strong shadows, glowing elements, sense of motion, urban chaos, 8k resolution, 16:9 aspect ratio, 60fps.\n"
     ]
    }
   ],
   "source": [
    "for file_name in input_list:\n",
    "  with open(DATA_PATH + '.tmp/process/' + file_name + '.prompt', 'r') as f:\n",
    "    print(f.read())"
   ]
  },
  {
   "cell_type": "markdown",
   "metadata": {},
   "source": [
    "## Generate"
   ]
  },
  {
   "cell_type": "code",
   "execution_count": 8,
   "metadata": {},
   "outputs": [
    {
     "name": "stdout",
     "output_type": "stream",
     "text": [
      "Loading prompt from file\n",
      "FULi AUTO SHOOTER.prompt\n",
      "Prompt loaded\n",
      "Loading model\n"
     ]
    },
    {
     "name": "stderr",
     "output_type": "stream",
     "text": [
      "Loading pipeline components...: 100%|██████████| 7/7 [00:01<00:00,  6.59it/s]\n"
     ]
    },
    {
     "name": "stdout",
     "output_type": "stream",
     "text": [
      "Model loaded\n",
      "Generating for FULi AUTO SHOOTER.prompt\n"
     ]
    },
    {
     "name": "stderr",
     "output_type": "stream",
     "text": [
      "100%|██████████| 50/50 [00:16<00:00,  2.95it/s]\n"
     ]
    },
    {
     "name": "stdout",
     "output_type": "stream",
     "text": [
      "Generated for FULi AUTO SHOOTER.prompt\n",
      "Generating image without characters\n",
      "Loading prompt from file\n",
      "Prompt loaded\n",
      "Generating for FULi AUTO SHOOTER.prompt2\n"
     ]
    },
    {
     "name": "stderr",
     "output_type": "stream",
     "text": [
      "Token indices sequence length is longer than the specified maximum sequence length for this model (84 > 77). Running this sequence through the model will result in indexing errors\n",
      "Token indices sequence length is longer than the specified maximum sequence length for this model (84 > 77). Running this sequence through the model will result in indexing errors\n",
      "100%|██████████| 50/50 [00:16<00:00,  2.95it/s]\n"
     ]
    },
    {
     "name": "stdout",
     "output_type": "stream",
     "text": [
      "Generated for FULi AUTO SHOOTER.prompt2\n"
     ]
    },
    {
     "data": {
      "text/plain": [
       "0"
      ]
     },
     "execution_count": 8,
     "metadata": {},
     "output_type": "execute_result"
    }
   ],
   "source": [
    "os.system(f'python generate/generate.py --model_path {MODEL_PATH} --data_path {DATA_PATH} --model {GENRATE_MODEL} --output_path {DATA_PATH}.tmp/generate/ --prompt_path {DATA_PATH}.tmp/process/ --image_num 3')"
   ]
  },
  {
   "cell_type": "markdown",
   "metadata": {},
   "source": [
    "# Style transfer"
   ]
  },
  {
   "cell_type": "code",
   "execution_count": 13,
   "metadata": {},
   "outputs": [
    {
     "name": "stdout",
     "output_type": "stream",
     "text": [
      "Transferring from /root/LLM_project/codes/data/.tmp/generate/FULi AUTO SHOOTER/0.png to /root/LLM_project/codes/data/style/starry_night.jpeg\n",
      "Building the style transfer model..\n"
     ]
    },
    {
     "name": "stderr",
     "output_type": "stream",
     "text": [
      "Style Loss : 0.127708 Content Loss: 0.615244: 100%|██████████| 300/300 [00:33<00:00,  9.02it/s]\n"
     ]
    },
    {
     "name": "stdout",
     "output_type": "stream",
     "text": [
      "Transfer from /root/LLM_project/codes/data/.tmp/generate/FULi AUTO SHOOTER0.png to /root/LLM_project/codes/data/style/starry_night.jpeg done\n",
      "Transferring from /root/LLM_project/codes/data/.tmp/generate/FULi AUTO SHOOTER/10.png to /root/LLM_project/codes/data/style/starry_night.jpeg\n",
      "Building the style transfer model..\n"
     ]
    },
    {
     "name": "stderr",
     "output_type": "stream",
     "text": [
      "Style Loss : 0.193818 Content Loss: 1.617119: 100%|██████████| 300/300 [00:33<00:00,  8.94it/s]\n"
     ]
    },
    {
     "name": "stdout",
     "output_type": "stream",
     "text": [
      "Transfer from /root/LLM_project/codes/data/.tmp/generate/FULi AUTO SHOOTER10.png to /root/LLM_project/codes/data/style/starry_night.jpeg done\n"
     ]
    },
    {
     "data": {
      "text/plain": [
       "0"
      ]
     },
     "execution_count": 13,
     "metadata": {},
     "output_type": "execute_result"
    }
   ],
   "source": [
    "os.system(f'python style_transfer/style_transfer.py --data_path {DATA_PATH} --output_path {DATA_PATH}.tmp/style_transfer/ --style_path {STYLE_PATH} --content_path {CONTENT_PATH} -l_o')"
   ]
  }
 ],
 "metadata": {
  "kernelspec": {
   "display_name": "base",
   "language": "python",
   "name": "python3"
  },
  "language_info": {
   "codemirror_mode": {
    "name": "ipython",
    "version": 3
   },
   "file_extension": ".py",
   "mimetype": "text/x-python",
   "name": "python",
   "nbconvert_exporter": "python",
   "pygments_lexer": "ipython3",
   "version": "3.10.13"
  }
 },
 "nbformat": 4,
 "nbformat_minor": 2
}
