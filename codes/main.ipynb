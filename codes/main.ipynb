{
 "cells": [
  {
   "cell_type": "markdown",
   "metadata": {},
   "source": [
    "We should call `.py` so that cuda memory will be automatically released after each part.\n",
    "\n",
    "This notebook is used to organize the codes"
   ]
  },
  {
   "cell_type": "markdown",
   "metadata": {},
   "source": [
    "## Setup"
   ]
  },
  {
   "cell_type": "markdown",
   "metadata": {},
   "source": [
    "### What you need to do\n",
    "\n",
    "- Throw audio files into `data/` directory\n",
    "\n",
    "- Correctly set `input_list`\n",
    "\n",
    "- Create a `.env` file in the `process/` directory if using `glm-4`"
   ]
  },
  {
   "cell_type": "code",
   "execution_count": 1,
   "metadata": {},
   "outputs": [],
   "source": [
    "import os"
   ]
  },
  {
   "cell_type": "code",
   "execution_count": 2,
   "metadata": {},
   "outputs": [],
   "source": [
    "DATA_PATH = os.getcwd() + '/data/'\n",
    "MODEL_PATH = '/ssdshare/LLMs/'\n",
    "MUSIC_PATH = os.getcwd() + '/data/music/'\n",
    "LLM_MODEL = \"glm-4\"\n",
    "GENRATE_MODEL = \"playground-v2.5-1024px-aesthetic\"\n",
    "CONTENT_PATH = DATA_PATH + '.tmp/generate/'\n",
    "STYLE_PATH = DATA_PATH + 'style/illustration_style/'\n",
    "\n",
    "if not os.path.exists(DATA_PATH + '.tmp/'):\n",
    "  os.makedirs(DATA_PATH + '.tmp/')\n",
    "\n",
    "list = ['extract/', 'generate/', 'process/', 'inprompt', 'style_transfer']\n",
    "\n",
    "for folder in list:\n",
    "  if not os.path.exists(DATA_PATH + '.tmp/' + folder):\n",
    "    os.makedirs(DATA_PATH + '.tmp/' + folder)\n"
   ]
  },
  {
   "cell_type": "code",
   "execution_count": 3,
   "metadata": {},
   "outputs": [],
   "source": [
    "input_list = [\n",
    "  'Distorted Fate.mp3',\n",
    "  'Retribution ~ Cycle of Redemption ~.mp3',\n",
    "]\n",
    "prompts = [\"\"]\n",
    "# Pick the style images in the style library\n",
    "style_list = [\n",
    "  # 'opia.png'\n",
    "]\n",
    "num_char = 2 # default 1\n",
    "num_non_char = 2 # default 1\n",
    "image_num = 1 \n",
    "# You should check both input_list and prompts modified!!!\n",
    "with open(DATA_PATH + 'input_list.txt', 'w') as f:\n",
    "  for item in input_list:\n",
    "    f.write(\"%s\\n\" % item)\n",
    "\n",
    "with open(DATA_PATH + 'style_list.txt', 'w') as f:\n",
    "  for item in style_list:\n",
    "    f.write(\"%s\\n\" % item)\n",
    "\n",
    "tmp_list = []\n",
    "for item in input_list:\n",
    "  tmp_list.append(item[:-4])\n",
    "input_list = tmp_list\n",
    "\n",
    "# if not os.path.exists(DATA_PATH + '.tmp/inprompt/'):\n",
    "#   os.makedirs(DATA_PATH + '.tmp/inprompt/')\n",
    "for (prompt, name) in zip(prompts, input_list):\n",
    "  with open(DATA_PATH + '.tmp/inprompt/' + name + '.prompt', 'w') as f:\n",
    "    f.write(prompt)"
   ]
  },
  {
   "cell_type": "markdown",
   "metadata": {},
   "source": [
    "## Extract"
   ]
  },
  {
   "cell_type": "code",
   "execution_count": 9,
   "metadata": {},
   "outputs": [
    {
     "name": "stdout",
     "output_type": "stream",
     "text": [
      "GOODTEK.mp3\n",
      "Retribution ~ Cycle of Redemption ~.mp3\n",
      "Chronologika.mp3\n",
      "CrossSoul.mp3\n",
      "['GOODTEK.wav', 'Retribution ~ Cycle of Redemption ~.wav', 'Chronologika.wav', 'CrossSoul.wav']\n",
      "audio_start_id: 155163, audio_end_id: 155164, audio_pad_id: 151851.\n"
     ]
    },
    {
     "name": "stderr",
     "output_type": "stream",
     "text": [
      "The model is automatically converting to bf16 for faster inference. If you want to disable the automatic precision, please manually add bf16/fp16/fp32=True to \"AutoModelForCausalLM.from_pretrained\".\n",
      "Try importing flash-attention for faster inference...\n",
      "Warning: import flash_attn rotary fail, please install FlashAttention rotary to get higher efficiency https://github.com/Dao-AILab/flash-attention/tree/main/csrc/rotary\n",
      "Warning: import flash_attn rms_norm fail, please install FlashAttention layer_norm to get higher efficiency https://github.com/Dao-AILab/flash-attention/tree/main/csrc/layer_norm\n",
      "Warning: import flash_attn fail, please install FlashAttention to get higher efficiency https://github.com/Dao-AILab/flash-attention\n",
      "Loading checkpoint shards: 100%|██████████| 9/9 [00:34<00:00,  3.79s/it]\n",
      "The model is automatically converting to bf16 for faster inference. If you want to disable the automatic precision, please manually add bf16/fp16/fp32=True to \"AutoModelForCausalLM.from_pretrained\".\n",
      "Try importing flash-attention for faster inference...\n",
      "Warning: import flash_attn rotary fail, please install FlashAttention rotary to get higher efficiency https://github.com/Dao-AILab/flash-attention/tree/main/csrc/rotary\n",
      "Warning: import flash_attn rms_norm fail, please install FlashAttention layer_norm to get higher efficiency https://github.com/Dao-AILab/flash-attention/tree/main/csrc/layer_norm\n",
      "Warning: import flash_attn fail, please install FlashAttention to get higher efficiency https://github.com/Dao-AILab/flash-attention\n",
      "Loading checkpoint shards: 100%|██████████| 9/9 [00:26<00:00,  2.91s/it]\n"
     ]
    },
    {
     "name": "stdout",
     "output_type": "stream",
     "text": [
      "using device 0\n"
     ]
    },
    {
     "name": "stderr",
     "output_type": "stream",
     "text": [
      "2024-06-06 14:34:56.374748: I tensorflow/core/util/port.cc:113] oneDNN custom operations are on. You may see slightly different numerical results due to floating-point round-off errors from different computation orders. To turn them off, set the environment variable `TF_ENABLE_ONEDNN_OPTS=0`.\n",
      "2024-06-06 14:34:56.434966: I tensorflow/core/platform/cpu_feature_guard.cc:210] This TensorFlow binary is optimized to use available CPU instructions in performance-critical operations.\n",
      "To enable the following instructions: AVX2 AVX512F AVX512_VNNI FMA, in other operations, rebuild TensorFlow with the appropriate compiler flags.\n",
      "2024-06-06 14:34:57.333475: W tensorflow/compiler/tf2tensorrt/utils/py_utils.cc:38] TF-TRT Warning: Could not find TensorRT\n"
     ]
    },
    {
     "name": "stdout",
     "output_type": "stream",
     "text": [
      "using device 1\n",
      "using device 0\n",
      "using device 1\n",
      "using device 0\n",
      "successfully add prompt for GOODTEK.wav\n",
      "using device 1\n",
      "using device 0\n",
      "using device 1\n",
      "using device 0\n",
      "using device 1\n",
      "using device 0\n",
      "using device 1\n",
      "successfully add prompt for Retribution ~ Cycle of Redemption ~.wav\n",
      "using device 0\n",
      "using device 1\n",
      "using device 0\n",
      "using device 1\n",
      "using device 0\n",
      "using device 1\n",
      "using device 0\n",
      "using device 1\n",
      "using device 0\n",
      "successfully add prompt for Chronologika.wav\n",
      "using device 1\n",
      "using device 0\n",
      "using device 1\n",
      "using device 0\n",
      "using device 1\n",
      "using device 0\n",
      "successfully add prompt for CrossSoul.wav\n",
      "This music is cut into 5 pieces. Each piece has a length of 30 seconds and an overlap of 5 seconds. The description of each piece is as follows:\n",
      "Description piece 1: A fast-paced techno song with a strong beat and a repetitive melody. The instruments are powerful and the sound is energetic. The song is perfect for action scenes, sports, and fast-paced events.\n",
      "Description piece 2: This is a high-energy electronic track that is perfect for any type of action or sports video. The driving beat and pulsing bassline create a sense of excitement and energy that is sure to get your audience engaged. The use of synthesizers and other electronic instruments gives the track a modern and futuristic feel, making it perfect for any type of science fiction or high-tech video. Overall, this track is an excellent choice for any project that needs a powerful and energetic background soundtrack.\n",
      "Description piece 3: This is a fast-paced electronic music piece. The tempo is fast with an energetic drum beat, synthesizer arrangements and loud electronic sounds. The piece is intense, upbeat, energetic, pulsating, exciting, and fast-paced. It is suitable for action, adventure, sports, and extreme sports videos.\n",
      "Description piece 4: This is a high-energy electronic track with a strong beat and distorted bass. The main melody is a fast-paced, repetitive synth riff that is played over a steady, pulsing beat. The track has a sense of urgency and intensity, and would be well-suited for action scenes or high-energy moments in a film or video game.\n",
      "Description piece 5: A high energy electronic track featuring punchy drums, glitchy synth bass, intense percussion and various effects. It has a strong dance feel and would work well in a variety of media projects.\n",
      "\n",
      "The lyrics are as follows:\n",
      "This is a dream\n",
      "I am so happy\n",
      "But it's not so easy to find\n",
      "The love that's meant to be\n",
      "I don't need no more no more no more\n",
      "I'm so high\n",
      "\n",
      "successfully write prompt for GOODTEK.wav\n",
      "This music is cut into 7 pieces. Each piece has a length of 30 seconds and an overlap of 5 seconds. The description of each piece is as follows:\n",
      "Description piece 1: This music is a hybrid electronic instrumental with a strong cinematic feel. The tune is fast-paced and energetic, with an edgy and intense atmosphere. The emotional content of the music is intense and powerful, with a sense of urgency and determination. The feeling of the music is bold and fearless, with a sense of confidence and strength. Overall, this music is a powerful and dynamic instrumental that is perfect for use in action scenes or high-energy moments in movies, video games, or other forms of media.\n",
      "Description piece 2: The electronic track is medium tempo with an energetic and powerful drum rhythm, punchy bass line, groovy guitar riff, and edgy synthesizer lead. The music is upbeat, dynamic, energetic, intense, and driving. The track is suitable for action, adventure, sports, and action video games.\n",
      "Description piece 3: This is a high-energy electronic track that features distorted synths, rapid drumming, and glitchy effects. The music is fast-paced and intense, with a strong beat that keeps the listener engaged. The overall feeling of the track is intense and energetic, with a sense of urgency and excitement. It would be well-suited for use in action scenes or as background music for a high-energy video game or sports event.\n",
      "Description piece 4: This is a techno song with a strong beat and catchy melodies. The synthesizers are used to create a high-energy atmosphere. The overall feeling of the song is upbeat and energetic.\n",
      "Description piece 5: A fast-paced, electronic instrumental with a strong beat and distorted bassline. The song features a lot of synthesizer work, with arpeggiated chords and melodic lines that create a sense of energy and excitement. The song has a strong dance feel and would be well-suited for use in a club or at a party. Overall, the tune is energetic and driving, with a sense of urgency and excitement.\n",
      "Description piece 6: This is a techno track with a hard-hitting beat and glitchy synthesizers. The mood is intense and aggressive, with a sense of urgency and energy. The music is fast-paced and dynamic, with a relentless drive that keeps the listener engaged and on the edge of their seat. The synthesizers are distorted and glitchy, adding to the overall sense of intensity and chaos. Overall, this is a powerful and intense track that is perfect for action scenes or high-energy moments in movies or video games.\n",
      "Description piece 7: A fast paced and high energy piece of music, featuring a heavy metal style guitar riff, with a pounding drum beat and a hard hitting bassline. The track is very intense and has a strong sense of urgency and excitement. It would be perfect for use in action movies, video games, or any other media where a sense of intensity and excitement is needed.\n",
      "\n",
      "The lyrics are as follows:\n",
      "I'm a machine\n",
      "We'll be stronger\n",
      "You were never mine to take You were never mine to keep\n",
      "Is this the end?\n",
      "I'm gonna go into the zone\n",
      "I'm gonna go into the zone\n",
      "I'm gonna go into the zone\n",
      "If you're feeling lost and confused\n",
      "Ooooh\n",
      "Ooooh\n",
      "\n",
      "successfully write prompt for Retribution ~ Cycle of Redemption ~.wav\n",
      "This music is cut into 9 pieces. Each piece has a length of 30 seconds and an overlap of 5 seconds. The description of each piece is as follows:\n",
      "Description piece 1: This is a music track that features a beautiful melody played by the piano and a cinematic atmosphere that creates a sense of suspense and anticipation. The use of the clock ticking sound effect adds to the mysterious and eerie vibe of the track. The music is perfect for use in movies, TV shows, and video games that require a tense and suspenseful atmosphere.\n",
      "Description piece 2: A powerful, energetic and motivational royalty free electronic music track with piano, synths, guitars, bass and drums. Great for action, sports, vlogs, advertising, corporate, presentations, promotions, youtube videos, and more.\n",
      "Description piece 3: This is a fast-paced, energetic, and uplifting electronic dance music piece. The piece features a catchy and repetitive synth melody, powerful and punchy drums, and a wide and spacious soundstage. The music is energetic, upbeat, and driving, with a sense of excitement and determination. It is perfect for use in action scenes, sports videos, or any other high-energy content.\n",
      "Description piece 4: This is a high-energy electronic track that features powerful drums, a driving bassline, and a catchy melody. The instruments are heavily distorted and the overall sound is very energetic and intense. The track has a strong beat and is perfect for dancing and exercise. It is also well-suited for use in video games and other media that require a fast-paced and intense soundtrack.\n",
      "Description piece 5: A dramatic, orchestral, electronic track with a strong beat and intense, cinematic feel. Featuring a full string section, brass, woodwinds, choir, and powerful drums. Perfect for film, trailers, video games, and other dramatic projects.\n",
      "Description piece 6: This is a fast-paced electronic track with a strong beat and a catchy melody. The synthesizers are used to create a pulsing and energetic sound, while the bassline provides a strong foundation for the track. The overall feeling of the music is energetic and upbeat, making it perfect for use in action scenes or as background music for sports or workout videos.\n",
      "Description piece 7: This is a high-energy, intense, and exciting electronic music piece. The main instruments used are synthesizers, drums, and sound effects. The atmosphere is intense, exciting, and exhilarating. This piece would be perfect for action scenes, sports, and racing videos.\n",
      "Description piece 8: This is a high-energy electronic music piece with a strong beat and pulsing bass. The music is fast-paced and intense, with powerful synth riffs and energetic percussion. The mood is intense and driving, with a sense of urgency and excitement. The music is perfect for action scenes, sports, and other high-energy media.\n",
      "Description piece 9: This is a positive and upbeat music track featuring piano, guitar, bells, and percussion. The uplifting and inspiring mood will evoke feelings of happiness and joy. It will certainly work well with corporate videos, business projects, presentations, commercials, advertising, TV ads, YouTube videos, vlogs and more.\n",
      "\n",
      "The lyrics are as follows:\n",
      "I'll make a new start in the morning\n",
      "I'm breaking through the darkness, I'm breaking through the darkness\n",
      "The sky is crying, the sea is crying, the wind is crying, the fire is crying, the sun is crying, the moon is crying, the stars are crying, the earth is crying, the trees are crying, the flowers are crying, the animals are crying, the birds are crying, the children are crying, the grown-ups are crying, the universe is crying, the world is crying, the people are crying, the whole of humanity is crying, because the world is dying\n",
      "Pretending to be happy\n",
      "But you can't escape me, no you can't escape me\n",
      "I'll make you laugh I'll make you cry I'll make you feel I'll make you die\n",
      "I'm sorry I can't\n",
      "It's the end of the road\n",
      "\n",
      "successfully write prompt for Chronologika.wav\n",
      "This music is cut into 6 pieces. Each piece has a length of 30 seconds and an overlap of 5 seconds. The description of each piece is as follows:\n",
      "Description piece 1: An intense and aggressive electro dubstep track with a high energy, glitchy beat, heavy bass and powerful synths. Great for extreme sports, car chases, action and sci-fi.\n",
      "Description piece 2: The piece is an instrumental, with synthesiser arrangements and electronic drum beats. The tune is fast-paced and energetic, with a repetitive and catchy melody. The emotion conveyed is intense and urgent, with a sense of excitement and urgency. The feeling is one of intensity and excitement, with a sense of being on the edge of something big and important.\n",
      "Description piece 3: This is a Japanese song whose genre is Animation, and the lyrics are \"だから今すぐ 火災に逃げて いつだって僕の手を取ってほしい\".\n",
      "Description piece 4: The song is an instrumental. The tempo is fast with a distorted synthesizer harmony, a groovy bass line, and a powerful electronic drum beat. The song is energetic, intense, and exciting. It is suitable for use in video games, anime, and action movies.\n",
      "Description piece 5: A high-pitched, intense electronic dance song with a distorted, heavily processed female voice singing the lyrics \"勝利に染みし 立ち去りたい 君の手をとって 超えていく\". The song is fast-paced and energetic, with synthesizer riffs and a strong beat. The overall feeling of the song is intense and determined.\n",
      "Description piece 6: This is a song whose genre is Animation, and the lyrics are \"夢の中で眠る猫と\".\n",
      "\n",
      "The lyrics are as follows:\n",
      "I'm breaking free I'm breaking free I'm breaking free I'm breaking free\n",
      "想いに包まれて\n",
      "高さに描かれている\n",
      "僕の手を握ってほしい\n",
      "僕の手を夺ってほしいって\n",
      "闇の中で\n",
      "人間になるって\n",
      "心の中で\n",
      "絶対にこの先に進もう\n",
      "心に刺し込む 絶対に進もう\n",
      "今日も君がいることを\n",
      "\n",
      "successfully write prompt for CrossSoul.wav\n"
     ]
    },
    {
     "data": {
      "text/plain": [
       "0"
      ]
     },
     "execution_count": 9,
     "metadata": {},
     "output_type": "execute_result"
    }
   ],
   "source": [
    "os.system(f'python extract/extract.py --model_path {MODEL_PATH} --data_path {DATA_PATH} --music_path {MUSIC_PATH} --output_path {DATA_PATH}.tmp/extract/ --device_num 2')"
   ]
  },
  {
   "cell_type": "markdown",
   "metadata": {},
   "source": [
    "## Process"
   ]
  },
  {
   "cell_type": "code",
   "execution_count": 6,
   "metadata": {},
   "outputs": [
    {
     "name": "stdout",
     "output_type": "stream",
     "text": [
      "['Distorted Fate']\n",
      "Loading model\n",
      "Model loaded\n",
      "<class 'zhipuai._client.ZhipuAI'> <class 'NoneType'>\n",
      "1\n",
      "3\n",
      "7\n",
      "7\n",
      "Token spent: 31734\n"
     ]
    },
    {
     "data": {
      "text/plain": [
       "0"
      ]
     },
     "execution_count": 6,
     "metadata": {},
     "output_type": "execute_result"
    }
   ],
   "source": [
    "os.system(f'python process/process.py --model_path {MODEL_PATH} --data_path {DATA_PATH} --model {LLM_MODEL} --prompt_path {DATA_PATH}.tmp/extract/ --output_path {DATA_PATH}.tmp/process/ --num_char {num_char} --num_non_char {num_non_char}')"
   ]
  },
  {
   "cell_type": "code",
   "execution_count": 11,
   "metadata": {},
   "outputs": [
    {
     "name": "stdout",
     "output_type": "stream",
     "text": [
      "dynamic scene, vibrant colors, abstract shapes, futuristic cityscape, neon lights, dancing crowd, fast motion blur, glowing energy, sense of exhilaration, 8k resolution, 16:9 aspect ratio, 60fps\n",
      "energetic dance floor, strobe lights, silhouette of a lone dancer, neon glow, electronic beats, abstract patterns, color shifts, sense of movement, dynamic angles, bright highlights, dark background, urban setting, 8k resolution, 16:9 aspect ratio, 60fps.\n",
      "b'dynamic cyber landscape, neon-lit horizon, pulsating rhythm lines, vibrant color palette, abstract shapes, intense energy, glowing orbs, electronic glitches, futuristic cityscape, instrumental symbolism, ethereal light pillars, sense of height and elation, dreamlike state, no characters, high contrast, 8k resolution, 16:9 aspect ratio, 60fps.'\n",
      "b'dynamic cyber landscape, neon-lit horizon, pulsating rhythm lines, abstract shapes in motion, electric blue and acid green hues, glitchy digital textures, sense of speed and urgency, ethereal atmosphere, floating orbs or particles, reflective surfaces, futuristic cityscape in the distance, dreamlike state, joyous ambiguity, 8k resolution, 16:9 aspect ratio, 60fps.'\n",
      "intense, energetic scene, dynamic background, bold colors, abstract shapes, futuristic elements, rhythmic patterns, vibrant lights, digital art style, high-resolution\n",
      "dynamic, energetic scene, futuristic cityscape at night, neon lights, vibrant colors, abstract shapes, silhouettes of people dancing, sense of movement, intensity, fast-paced action, digital art, 8k resolution, 16:9 aspect ratio, 60fps\n",
      "b'dynamic cyber landscape, mechanical structures, glowing wires, circuitry background, intense neon lighting, abstract shapes resembling robotic arms or gears,aggressive red and blue color scheme, rhythmic patterns, pulsating beats, sense of automation and futurism, machine-like precision, fractured or glitching effects, sense of speed and motion, atmosphere of competition and urgency, 8k resolution, 16:9 aspect ratio, 60fps, no human presence.'\n",
      "b'dynamic cyber landscape, sleek metal structures, glowing circuitry, intense neon lights, abstract patterns of binary code, mechanical movements, polished surfaces, contrasting shadows, deep blues and electric greens, pulsating rhythms, sense of acceleration, futuristic technology, urban atmosphere, no humans, bold typography with the lyrics \"I\\'m a machine\" and \"Into the Zone\" scattered in the scene, energetic flow, 8k resolution, 16:9 aspect ratio, 60fps.'\n",
      "the audio is \"Quantum Hyperspace\". Please generate an image of 8k resolution, 16:9 aspect ratio, 60fps.\n",
      "\n",
      "This music is cut into 5 pieces. Each piece has a length of 30 seconds and an overlap of 5 seconds. The description of each piece is as follows:\n",
      "Description piece 1: A fast-paced, energetic electronic track with a futuristic, sci-fi vibe. The synthesizers are sharp and metallic, creating a sense of urgency and excitement. The bassline is punchy and driving, propelling the track forward. The overall atmosphere is intense and exhilarating, perfect for action scenes or high-energy content.\n",
      "Description piece 2: This piece continues the fast-paced, energetic vibe with a catchy synth melody that repeats throughout. The drums are punchy and aggressive, adding to the intensity of the track. The soundstage is wide and spacious, giving the music a sense of depth and dimension. This piece would be ideal for action scenes or sports videos.\n",
      "Description piece 3: The energy continues with this piece, featuring distorted synthesizers and edgy sound effects. The drums are relentless, driving the track forward with a sense of urgency. The overall atmosphere is intense and exhilarating, making it perfect for high-energy content.\n",
      "Description piece 4: This piece slows down the tempo slightly, but maintains the energetic vibe. The synthesizers are bright and piercing, with a metallic edge that adds to the futuristic feel. The drums are still punchy and driving, but with a slightly more relaxed rhythm. This piece would work well for action scenes or sports videos.\n",
      "Description piece 5: The final piece picks up the tempo again, with a catchy synth melody and aggressive drums. The synthesizers are sharp and metallic, creating an intense and exhilarating atmosphere. The overall vibe is energetic and uplifting, making it perfect for action scenes or high-energy content.\n",
      "\n",
      "Based on the descriptions of the music pieces, the image should convey a sense of urgency, excitement, and futuristic energy. The central figure should be dynamic and active, embodying the intensity and exhilaration of the music. The background should be abstract and vibrant, with elements that suggest movement and energy. The colors should be bright and vivid, reflecting the high-energy atmosphere of the music. The overall composition should be dynamic and engaging, capturing the essence of the \"Quantum Hyperspace\" audio.\n",
      "\n",
      "\n",
      "mysterious atmosphere, piano melody, clock ticking, cinematic suspense, energetic vibe, motivational, fast-paced, uplifting, repetitive synth melody, powerful drums, wide soundstage, driving bassline, distorted synthesizers, dramatic orchestral, intense cinematic, full string section, brass, woodwinds, choir, pulsing bass, energetic percussion, positive and upbeat, piano, guitar, bells, percussion, crying sky, crying sea, crying wind, crying fire, crying sun, crying moon, crying stars, crying earth, crying trees, crying flowers, crying animals, crying birds, crying children, crying adults, crying universe, crying world, crying people, crying humanity, world dying, pretending to be happy, escape, laughter, tears, feelings, death, end of the road, vibrant colors, emotional intensity, abstract shapes, symbolic elements, dynamic composition, 8k resolution, 16:9 aspect ratio, 60fps\n",
      "b'cosmic scene,weeping stars and planets, tears falling as rain, sunrise/sunset colors, dramatic sky, intense light and shadows, crying nature elements, abstracted humanity in silhouette, sense of collective emotion, esperanto symbols, universal grief, optimistic glimmer of hope, contrast between dark and light, vivid color palette, emotional weight, 8k resolution, 16:9 aspect ratio, 60fps'\n",
      "b'cosmic landscape, crying sky, weeping sea, fiery sun, melancholic moon, shimmering stars, lush forests, vibrant flowers, soaring birds, abstract crying faces in the clouds, intense energy, dynamic lightning strikes, dramatic contrasts, warm and cool color palette, powerful waves, sense of awakening and change, ethereal ambiance, hope amidst darkness, no human figures, apocalyptic yet transcendent, 8k resolution, 16:9 aspect ratio, 60fps.'\n",
      "intense, aggressive electro dubstep scene, glitchy beat, heavy bass, powerful synths, extreme sports, car chase, action, sci-fi, synthesiser arrangements, electronic drum beats, fast-paced, urgent, excitement, intensity, edge, Japanese animation, fire escape, hand holding, victory, determination, high-pitched female voice, distorted voice, synthesizer riffs, strong beat, dream, sleeping cat, breaking free, enveloped in thoughts, drawn to heights, hand gripping, hand stealing, darkness, becoming human, heart, moving forward, piercing the heart, advancing, presence of a loved one, vibrant colors, modern digital art, anime-style, 8k resolution, 16:9 aspect ratio, 60fps\n",
      "intense, high energy scene, male figure in the center, young, with an aggressive and determined expression, wearing a futuristic outfit with neon accents, surrounded by dynamic, glitchy visual effects, vibrant neon colors, abstract shapes and patterns, fast-paced movement, sense of urgency and excitement, dark, moody background with splashes of bright colors, modern digital art style, 8k resolution, 16:9 aspect ratio, 60fps\n",
      "b'dynamic abstract background, intense reds and blacks, glitchy digital patterns, neon highlights, fast-moving lines, deep bass vibrations, Japanese-inspired motifs, animated flames, sense of escape and urgency, empowering imagery, hands reaching out, glowing edges, dark cityscape with streaks of light, futuristic technology, 8k resolution, 16:9 aspect ratio, 60fps'\n",
      "b'dynamic abstract artwork, intense color palette, fiery reds and oranges contrasting with cool blues and purples, glitchy digital patterns, sense of movement and speed, trending cyberpunk aesthetic, towering cityscape silhouette, ethereal neon lights, animated swirls and eddies, powerful energy emanating from the center, gripping shadows and sharp highlights, absence of human figures, futuristic Japanese animation-inspired backdrop, 8k resolution, 16:9 aspect ratio, 60fps.'\n"
     ]
    }
   ],
   "source": [
    "for file_name in input_list:\n",
    "  for t in range(num_char):\n",
    "    with open(DATA_PATH + '.tmp/process/' + file_name + '.prompt' + str(t), 'r') as f:\n",
    "      print(f.read())\n",
    "  for t in range(num_non_char):\n",
    "    with open(DATA_PATH + '.tmp/process/' + file_name + '.prompt_nc' + str(t), 'rb') as f:\n",
    "      print(f.read())"
   ]
  },
  {
   "cell_type": "markdown",
   "metadata": {},
   "source": [
    "## Generate"
   ]
  },
  {
   "cell_type": "code",
   "execution_count": 12,
   "metadata": {},
   "outputs": [
    {
     "name": "stderr",
     "output_type": "stream",
     "text": [
      "2024-06-06 14:43:02.194690: I tensorflow/core/util/port.cc:113] oneDNN custom operations are on. You may see slightly different numerical results due to floating-point round-off errors from different computation orders. To turn them off, set the environment variable `TF_ENABLE_ONEDNN_OPTS=0`.\n",
      "2024-06-06 14:43:02.247466: I tensorflow/core/platform/cpu_feature_guard.cc:210] This TensorFlow binary is optimized to use available CPU instructions in performance-critical operations.\n",
      "To enable the following instructions: AVX2 AVX512F AVX512_VNNI FMA, in other operations, rebuild TensorFlow with the appropriate compiler flags.\n",
      "2024-06-06 14:43:03.067851: W tensorflow/compiler/tf2tensorrt/utils/py_utils.cc:38] TF-TRT Warning: Could not find TensorRT\n"
     ]
    },
    {
     "name": "stdout",
     "output_type": "stream",
     "text": [
      "Loading prompt from file\n",
      "GOODTEK.prompt\n",
      "Retribution ~ Cycle of Redemption ~.prompt\n",
      "Chronologika.prompt\n",
      "CrossSoul.prompt\n",
      "Prompt loaded\n",
      "Loading model\n"
     ]
    },
    {
     "name": "stderr",
     "output_type": "stream",
     "text": [
      "Loading pipeline components...: 100%|██████████| 7/7 [00:01<00:00,  5.38it/s]\n"
     ]
    },
    {
     "name": "stdout",
     "output_type": "stream",
     "text": [
      "Model loaded\n",
      "Generating for GOODTEK.prompt\n"
     ]
    },
    {
     "name": "stderr",
     "output_type": "stream",
     "text": [
      "100%|██████████| 50/50 [00:06<00:00,  7.51it/s]\n",
      "100%|██████████| 50/50 [00:06<00:00,  7.88it/s]\n"
     ]
    },
    {
     "name": "stdout",
     "output_type": "stream",
     "text": [
      "Generated for GOODTEK.prompt\n",
      "Generating for Retribution ~ Cycle of Redemption ~.prompt\n"
     ]
    },
    {
     "name": "stderr",
     "output_type": "stream",
     "text": [
      " 54%|█████▍    | 27/50 [00:03<00:02,  7.79it/s]"
     ]
    },
    {
     "name": "stderr",
     "output_type": "stream",
     "text": [
      "100%|██████████| 50/50 [00:06<00:00,  7.86it/s]\n",
      "100%|██████████| 50/50 [00:06<00:00,  7.86it/s]\n"
     ]
    },
    {
     "name": "stdout",
     "output_type": "stream",
     "text": [
      "Generated for Retribution ~ Cycle of Redemption ~.prompt\n",
      "Generating for Chronologika.prompt\n"
     ]
    },
    {
     "name": "stderr",
     "output_type": "stream",
     "text": [
      "Token indices sequence length is longer than the specified maximum sequence length for this model (478 > 77). Running this sequence through the model will result in indexing errors\n",
      "Token indices sequence length is longer than the specified maximum sequence length for this model (478 > 77). Running this sequence through the model will result in indexing errors\n",
      "100%|██████████| 50/50 [00:06<00:00,  7.35it/s]\n",
      "100%|██████████| 50/50 [00:06<00:00,  7.74it/s]\n"
     ]
    },
    {
     "name": "stdout",
     "output_type": "stream",
     "text": [
      "Generated for Chronologika.prompt\n",
      "Generating for CrossSoul.prompt\n"
     ]
    },
    {
     "name": "stderr",
     "output_type": "stream",
     "text": [
      "100%|██████████| 50/50 [00:06<00:00,  7.76it/s]\n",
      "100%|██████████| 50/50 [00:06<00:00,  7.78it/s]\n"
     ]
    },
    {
     "name": "stdout",
     "output_type": "stream",
     "text": [
      "Generated for CrossSoul.prompt\n",
      "Loading prompt from file\n",
      "Generating image without characters\n",
      "Prompt loaded\n",
      "Generating for GOODTEK.prompt_nc\n"
     ]
    },
    {
     "name": "stderr",
     "output_type": "stream",
     "text": [
      "100%|██████████| 50/50 [00:06<00:00,  7.78it/s]\n",
      "100%|██████████| 50/50 [00:06<00:00,  7.78it/s]\n"
     ]
    },
    {
     "name": "stdout",
     "output_type": "stream",
     "text": [
      "Generated for GOODTEK.prompt_nc\n",
      "Generating for Retribution ~ Cycle of Redemption ~.prompt_nc\n"
     ]
    },
    {
     "name": "stderr",
     "output_type": "stream",
     "text": [
      "100%|██████████| 50/50 [00:06<00:00,  7.78it/s]\n",
      "100%|██████████| 50/50 [00:06<00:00,  7.77it/s]\n"
     ]
    },
    {
     "name": "stdout",
     "output_type": "stream",
     "text": [
      "Generated for Retribution ~ Cycle of Redemption ~.prompt_nc\n",
      "Generating for Chronologika.prompt_nc\n"
     ]
    },
    {
     "name": "stderr",
     "output_type": "stream",
     "text": [
      "100%|██████████| 50/50 [00:06<00:00,  7.78it/s]\n",
      "100%|██████████| 50/50 [00:06<00:00,  7.77it/s]\n"
     ]
    },
    {
     "name": "stdout",
     "output_type": "stream",
     "text": [
      "Generated for Chronologika.prompt_nc\n",
      "Generating for CrossSoul.prompt_nc\n"
     ]
    },
    {
     "name": "stderr",
     "output_type": "stream",
     "text": [
      "100%|██████████| 50/50 [00:06<00:00,  7.78it/s]\n",
      "100%|██████████| 50/50 [00:06<00:00,  7.78it/s]\n"
     ]
    },
    {
     "name": "stdout",
     "output_type": "stream",
     "text": [
      "Generated for CrossSoul.prompt_nc\n"
     ]
    },
    {
     "data": {
      "text/plain": [
       "0"
      ]
     },
     "execution_count": 12,
     "metadata": {},
     "output_type": "execute_result"
    }
   ],
   "source": [
    "os.system(f'python generate/generate.py --model_path {MODEL_PATH} --data_path {DATA_PATH} --model {GENRATE_MODEL} --output_path {DATA_PATH}.tmp/generate/ --prompt_path {DATA_PATH}.tmp/process/ --image_num {image_num} --num_char {num_char} --num_non_char {num_non_char}')"
   ]
  },
  {
   "cell_type": "markdown",
   "metadata": {},
   "source": [
    "# Style transfer"
   ]
  },
  {
   "cell_type": "markdown",
   "metadata": {},
   "source": [
    "If you don't want to keep the previous images, run the line below to remove them (so that we can show the images generated)."
   ]
  },
  {
   "cell_type": "code",
   "execution_count": 11,
   "metadata": {},
   "outputs": [],
   "source": [
    "import os, glob\n",
    "for file_name in input_list:\n",
    "    [os.remove(f) for f in glob.glob(DATA_PATH + '.tmp/style_transfer/' + file_name + '/*')]"
   ]
  },
  {
   "cell_type": "code",
   "execution_count": 12,
   "metadata": {},
   "outputs": [
    {
     "name": "stderr",
     "output_type": "stream",
     "text": [
      "2024-06-11 21:11:24,874 - modelscope - INFO - PyTorch version 2.1.1 Found.\n",
      "2024-06-11 21:11:24,876 - modelscope - INFO - TensorFlow version 2.16.1 Found.\n",
      "2024-06-11 21:11:24,876 - modelscope - INFO - Loading ast index from /root/.cache/modelscope/ast_indexer\n",
      "2024-06-11 21:11:24,916 - modelscope - INFO - Loading done! Current index file version is 1.15.0, with md5 254d387c1784b4dbb125f4cdeb89d21c and a total number of 980 components indexed\n"
     ]
    },
    {
     "name": "stdout",
     "output_type": "stream",
     "text": [
      "['0-0.png', '1-0.png', 'nc0-0.png', 'nc1-0.png']\n"
     ]
    },
    {
     "name": "stderr",
     "output_type": "stream",
     "text": [
      "2024-06-11 21:11:29,508 - modelscope - WARNING - Model revision not specified, use revision: v1.0.0\n",
      "2024-06-11 21:11:29,806 - modelscope - INFO - initiate model from /root/.cache/modelscope/hub/damo/cv_aams_style-transfer_damo\n",
      "2024-06-11 21:11:29,806 - modelscope - INFO - initiate model from location /root/.cache/modelscope/hub/damo/cv_aams_style-transfer_damo.\n",
      "2024-06-11 21:11:29,809 - modelscope - WARNING - No preprocessor field found in cfg.\n",
      "2024-06-11 21:11:29,809 - modelscope - WARNING - No val key and type key found in preprocessor domain of configuration.json file.\n",
      "2024-06-11 21:11:29,809 - modelscope - WARNING - Cannot find available config to build preprocessor at mode inference, current config: {'model_dir': '/root/.cache/modelscope/hub/damo/cv_aams_style-transfer_damo'}. trying to build by task and model information.\n",
      "2024-06-11 21:11:29,809 - modelscope - WARNING - Find task: image-style-transfer, model type: None. Insufficient information to build preprocessor, skip building preprocessor\n",
      "2024-06-11 21:11:30.061474: I tensorflow/core/util/port.cc:113] oneDNN custom operations are on. You may see slightly different numerical results due to floating-point round-off errors from different computation orders. To turn them off, set the environment variable `TF_ENABLE_ONEDNN_OPTS=0`.\n",
      "2024-06-11 21:11:30.107230: I tensorflow/core/platform/cpu_feature_guard.cc:210] This TensorFlow binary is optimized to use available CPU instructions in performance-critical operations.\n",
      "To enable the following instructions: AVX2 AVX512F AVX512_VNNI FMA, in other operations, rebuild TensorFlow with the appropriate compiler flags.\n",
      "2024-06-11 21:11:31.026975: W tensorflow/compiler/tf2tensorrt/utils/py_utils.cc:38] TF-TRT Warning: Could not find TensorRT\n",
      "WARNING:tensorflow:From /opt/conda/lib/python3.10/site-packages/modelscope/utils/device.py:60: is_gpu_available (from tensorflow.python.framework.test_util) is deprecated and will be removed in a future version.\n",
      "Instructions for updating:\n",
      "Use `tf.config.list_physical_devices('GPU')` instead.\n",
      "2024-06-11 21:11:31.435510: I tensorflow/core/common_runtime/gpu/gpu_device.cc:1928] Created device /device:GPU:0 with 22181 MB memory:  -> device: 0, name: NVIDIA GeForce RTX 4090, pci bus id: 0000:36:00.0, compute capability: 8.9\n",
      "2024-06-11 21:11:31.436064: I tensorflow/core/common_runtime/gpu/gpu_device.cc:1928] Created device /device:GPU:1 with 21901 MB memory:  -> device: 1, name: NVIDIA GeForce RTX 4090, pci bus id: 0000:37:00.0, compute capability: 8.9\n",
      "2024-06-11 21:11:31.439967: I tensorflow/core/common_runtime/gpu/gpu_device.cc:1928] Created device /job:localhost/replica:0/task:0/device:GPU:0 with 22181 MB memory:  -> device: 0, name: NVIDIA GeForce RTX 4090, pci bus id: 0000:36:00.0, compute capability: 8.9\n",
      "2024-06-11 21:11:31.440234: I tensorflow/core/common_runtime/gpu/gpu_device.cc:1928] Created device /job:localhost/replica:0/task:0/device:GPU:1 with 21901 MB memory:  -> device: 1, name: NVIDIA GeForce RTX 4090, pci bus id: 0000:37:00.0, compute capability: 8.9\n",
      "2024-06-11 21:11:31.447219: I tensorflow/core/common_runtime/gpu/gpu_device.cc:1928] Created device /job:localhost/replica:0/task:0/device:GPU:0 with 22181 MB memory:  -> device: 0, name: NVIDIA GeForce RTX 4090, pci bus id: 0000:36:00.0, compute capability: 8.9\n",
      "2024-06-11 21:11:31.447462: I tensorflow/core/common_runtime/gpu/gpu_device.cc:1928] Created device /job:localhost/replica:0/task:0/device:GPU:1 with 21901 MB memory:  -> device: 1, name: NVIDIA GeForce RTX 4090, pci bus id: 0000:37:00.0, compute capability: 8.9\n",
      "2024-06-11 21:11:31,451 - modelscope - INFO - loading model from /root/.cache/modelscope/hub/damo/cv_aams_style-transfer_damo/tf_graph.pb\n",
      "WARNING:tensorflow:From /opt/conda/lib/python3.10/site-packages/modelscope/pipelines/cv/image_style_transfer_pipeline.py:44: FastGFile.__init__ (from tensorflow.python.platform.gfile) is deprecated and will be removed in a future version.\n",
      "Instructions for updating:\n",
      "Use tf.gfile.GFile.\n",
      "2024-06-11 21:11:31,860 - modelscope - INFO - load model done\n"
     ]
    },
    {
     "name": "stdout",
     "output_type": "stream",
     "text": [
      "content: Distorted Fate/0-0.png\n",
      "style: 1.png\n",
      "Transferring from /root/LLM_project/codes/data/.tmp/generate/Distorted Fate/0-0.png to /root/LLM_project/codes/data/style/illustration_style/1.png\n"
     ]
    },
    {
     "name": "stderr",
     "output_type": "stream",
     "text": [
      "2024-06-11 21:11:32.194142: I tensorflow/core/common_runtime/gpu/gpu_device.cc:1928] Created device /device:GPU:0 with 22181 MB memory:  -> device: 0, name: NVIDIA GeForce RTX 4090, pci bus id: 0000:36:00.0, compute capability: 8.9\n",
      "2024-06-11 21:11:32.194401: I tensorflow/core/common_runtime/gpu/gpu_device.cc:1928] Created device /device:GPU:1 with 21901 MB memory:  -> device: 1, name: NVIDIA GeForce RTX 4090, pci bus id: 0000:37:00.0, compute capability: 8.9\n",
      "2024-06-11 21:11:32.250192: I tensorflow/compiler/mlir/mlir_graph_optimization_pass.cc:388] MLIR V1 optimization pass is not enabled\n",
      "2024-06-11 21:11:34.039840: I external/local_xla/xla/stream_executor/cuda/cuda_dnn.cc:465] Loaded cuDNN version 8902\n",
      "2024-06-11 21:11:34.338323: I tensorflow/core/util/cuda_solvers.cc:178] Creating GpuSolver handles for stream 0xe5d3320\n"
     ]
    },
    {
     "name": "stdout",
     "output_type": "stream",
     "text": [
      "torch.Size([3, 224, 224])\n",
      "torch.Size([1024, 1024, 1])\n",
      "Transfer from /root/LLM_project/codes/data/.tmp/generate/Distorted Fate/0-0.png to /root/LLM_project/codes/data/style/illustration_style/1.png done\n",
      "content: Distorted Fate/1-0.png\n",
      "style: 3.png\n",
      "Transferring from /root/LLM_project/codes/data/.tmp/generate/Distorted Fate/1-0.png to /root/LLM_project/codes/data/style/illustration_style/3.png\n"
     ]
    },
    {
     "name": "stderr",
     "output_type": "stream",
     "text": [
      "2024-06-11 21:11:38.319264: I tensorflow/core/common_runtime/gpu/gpu_device.cc:1928] Created device /device:GPU:0 with 22181 MB memory:  -> device: 0, name: NVIDIA GeForce RTX 4090, pci bus id: 0000:36:00.0, compute capability: 8.9\n",
      "2024-06-11 21:11:38.319531: I tensorflow/core/common_runtime/gpu/gpu_device.cc:1928] Created device /device:GPU:1 with 21901 MB memory:  -> device: 1, name: NVIDIA GeForce RTX 4090, pci bus id: 0000:37:00.0, compute capability: 8.9\n"
     ]
    },
    {
     "name": "stdout",
     "output_type": "stream",
     "text": [
      "torch.Size([3, 224, 224])\n",
      "torch.Size([1024, 1024, 1])\n",
      "Transfer from /root/LLM_project/codes/data/.tmp/generate/Distorted Fate/1-0.png to /root/LLM_project/codes/data/style/illustration_style/3.png done\n",
      "content: Distorted Fate/nc0-0.png\n",
      "style: 7.png\n",
      "Transferring from /root/LLM_project/codes/data/.tmp/generate/Distorted Fate/nc0-0.png to /root/LLM_project/codes/data/style/illustration_style/7.png\n"
     ]
    },
    {
     "name": "stderr",
     "output_type": "stream",
     "text": [
      "2024-06-11 21:11:39.411303: I tensorflow/core/common_runtime/gpu/gpu_device.cc:1928] Created device /device:GPU:0 with 22181 MB memory:  -> device: 0, name: NVIDIA GeForce RTX 4090, pci bus id: 0000:36:00.0, compute capability: 8.9\n",
      "2024-06-11 21:11:39.411562: I tensorflow/core/common_runtime/gpu/gpu_device.cc:1928] Created device /device:GPU:1 with 21901 MB memory:  -> device: 1, name: NVIDIA GeForce RTX 4090, pci bus id: 0000:37:00.0, compute capability: 8.9\n"
     ]
    },
    {
     "name": "stdout",
     "output_type": "stream",
     "text": [
      "torch.Size([3, 224, 224])\n",
      "torch.Size([1024, 1024, 1])\n",
      "Transfer from /root/LLM_project/codes/data/.tmp/generate/Distorted Fate/nc0-0.png to /root/LLM_project/codes/data/style/illustration_style/7.png done\n",
      "content: Distorted Fate/nc1-0.png\n",
      "style: 11.png\n",
      "Transferring from /root/LLM_project/codes/data/.tmp/generate/Distorted Fate/nc1-0.png to /root/LLM_project/codes/data/style/illustration_style/11.png\n"
     ]
    },
    {
     "name": "stderr",
     "output_type": "stream",
     "text": [
      "2024-06-11 21:11:40.501115: I tensorflow/core/common_runtime/gpu/gpu_device.cc:1928] Created device /device:GPU:0 with 22181 MB memory:  -> device: 0, name: NVIDIA GeForce RTX 4090, pci bus id: 0000:36:00.0, compute capability: 8.9\n",
      "2024-06-11 21:11:40.501374: I tensorflow/core/common_runtime/gpu/gpu_device.cc:1928] Created device /device:GPU:1 with 21901 MB memory:  -> device: 1, name: NVIDIA GeForce RTX 4090, pci bus id: 0000:37:00.0, compute capability: 8.9\n"
     ]
    },
    {
     "name": "stdout",
     "output_type": "stream",
     "text": [
      "torch.Size([3, 224, 224])\n",
      "torch.Size([1024, 1024, 1])\n",
      "Transfer from /root/LLM_project/codes/data/.tmp/generate/Distorted Fate/nc1-0.png to /root/LLM_project/codes/data/style/illustration_style/11.png done\n"
     ]
    },
    {
     "data": {
      "text/plain": [
       "0"
      ]
     },
     "execution_count": 12,
     "metadata": {},
     "output_type": "execute_result"
    }
   ],
   "source": [
    "os.system(f'python style_transfer/style_transfer.py --data_path {DATA_PATH} --output_path {DATA_PATH}.tmp/style_transfer/ --style_path {STYLE_PATH} --content_path {CONTENT_PATH} -l_o --num_char {num_char} --num_non_char {num_non_char} --attn --aams')"
   ]
  },
  {
   "cell_type": "markdown",
   "metadata": {},
   "source": [
    "# Final Results"
   ]
  },
  {
   "cell_type": "code",
   "execution_count": 15,
   "metadata": {},
   "outputs": [
    {
     "ename": "FileNotFoundError",
     "evalue": "[Errno 2] No such file or directory: '/root/LLM_project/codes/data/.tmp/style_transfer/Chronologika'",
     "output_type": "error",
     "traceback": [
      "\u001b[0;31m---------------------------------------------------------------------------\u001b[0m",
      "\u001b[0;31mFileNotFoundError\u001b[0m                         Traceback (most recent call last)",
      "Cell \u001b[0;32mIn[15], line 6\u001b[0m\n\u001b[1;32m      4\u001b[0m result \u001b[38;5;241m=\u001b[39m {}\n\u001b[1;32m      5\u001b[0m \u001b[38;5;28;01mfor\u001b[39;00m music \u001b[38;5;129;01min\u001b[39;00m input_list:\n\u001b[0;32m----> 6\u001b[0m   result[music] \u001b[38;5;241m=\u001b[39m \u001b[43mos\u001b[49m\u001b[38;5;241;43m.\u001b[39;49m\u001b[43mlistdir\u001b[49m\u001b[43m(\u001b[49m\u001b[43mDATA_PATH\u001b[49m\u001b[43m \u001b[49m\u001b[38;5;241;43m+\u001b[39;49m\u001b[43m \u001b[49m\u001b[38;5;124;43m'\u001b[39;49m\u001b[38;5;124;43m.tmp/style_transfer/\u001b[39;49m\u001b[38;5;124;43m'\u001b[39;49m\u001b[38;5;241;43m+\u001b[39;49m\u001b[43mmusic\u001b[49m\u001b[43m)\u001b[49m\n\u001b[1;32m      8\u001b[0m \u001b[38;5;28;01mfor\u001b[39;00m (music, pics) \u001b[38;5;129;01min\u001b[39;00m \u001b[38;5;28mzip\u001b[39m(result\u001b[38;5;241m.\u001b[39mkeys(), result\u001b[38;5;241m.\u001b[39mvalues()):\n\u001b[1;32m      9\u001b[0m   \u001b[38;5;28mprint\u001b[39m(music)\n",
      "\u001b[0;31mFileNotFoundError\u001b[0m: [Errno 2] No such file or directory: '/root/LLM_project/codes/data/.tmp/style_transfer/Chronologika'"
     ]
    }
   ],
   "source": [
    "import matplotlib.pyplot as plt\n",
    "from PIL import Image\n",
    "\n",
    "result = {}\n",
    "for music in input_list:\n",
    "  result[music] = os.listdir(DATA_PATH + '.tmp/style_transfer/'+music)\n",
    "\n",
    "for (music, pics) in zip(result.keys(), result.values()):\n",
    "  print(music)\n",
    "  for pic in pics:\n",
    "    if pic.endswith('.png'):\n",
    "      image = Image.open((DATA_PATH + '.tmp/style_transfer/'+music+'/'+pic))\n",
    "      plt.imshow(image)\n",
    "      plt.axis('off')\n",
    "      plt.show()"
   ]
  }
 ],
 "metadata": {
  "kernelspec": {
   "display_name": "base",
   "language": "python",
   "name": "python3"
  },
  "language_info": {
   "codemirror_mode": {
    "name": "ipython",
    "version": 3
   },
   "file_extension": ".py",
   "mimetype": "text/x-python",
   "name": "python",
   "nbconvert_exporter": "python",
   "pygments_lexer": "ipython3",
   "version": "3.10.13"
  }
 },
 "nbformat": 4,
 "nbformat_minor": 2
}
