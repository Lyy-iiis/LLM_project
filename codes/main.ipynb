{
 "cells": [
  {
   "cell_type": "markdown",
   "metadata": {},
   "source": [
    "We should call `.py` so that cuda memory will be automatically released after each part.\n",
    "\n",
    "This notebook is used to organize the codes"
   ]
  },
  {
   "cell_type": "markdown",
   "metadata": {},
   "source": [
    "## Setup"
   ]
  },
  {
   "cell_type": "markdown",
   "metadata": {},
   "source": [
    "### What you need to do\n",
    "\n",
    "- Throw audio files into `data/` directory\n",
    "\n",
    "- Correctly set `input_list`\n",
    "\n",
    "- Create a `.env` file in the `process/` directory if using `glm-4`"
   ]
  },
  {
   "cell_type": "code",
   "execution_count": 2,
   "metadata": {},
   "outputs": [],
   "source": [
    "import os"
   ]
  },
  {
   "cell_type": "code",
   "execution_count": 3,
   "metadata": {},
   "outputs": [],
   "source": [
    "DATA_PATH = os.getcwd() + '/data/'\n",
    "MODEL_PATH = '/ssdshare/LLMs/'\n",
    "MUSIC_PATH = os.getcwd() + '/data/music/'\n",
    "LLM_MODEL = \"glm-4\"\n",
    "GENRATE_MODEL = \"playground-v2.5-1024px-aesthetic\"\n",
    "CONTENT_PATH = DATA_PATH + '.tmp/generate/'\n",
    "STYLE_PATH = DATA_PATH + 'style/illustration_style/'\n",
    "\n",
    "if not os.path.exists(DATA_PATH + '.tmp/'):\n",
    "  os.makedirs(DATA_PATH + '.tmp/')\n",
    "\n",
    "list = ['extract/', 'generate/', 'process/', 'inprompt', 'style_transfer']\n",
    "\n",
    "for folder in list:\n",
    "  if not os.path.exists(DATA_PATH + '.tmp/' + folder):\n",
    "    os.makedirs(DATA_PATH + '.tmp/' + folder)\n"
   ]
  },
  {
   "cell_type": "code",
   "execution_count": 4,
   "metadata": {},
   "outputs": [],
   "source": [
    "input_list = [\n",
    "  'HyuN - Infinity Heaven.mp3',\n",
    "]\n",
    "prompts = [r'''\n",
    "  The name of this song is \"Infinity Heaven\". \n",
    "''',\n",
    "]\n",
    "# Pick the style images in the style library\n",
    "style_list = [\n",
    "  # 'opia.png'\n",
    "]\n",
    "num_char = 3 # default 1\n",
    "num_non_char = 3 # default 1\n",
    "image_num = 1 \n",
    "# You should check both input_list and prompts modified!!!\n",
    "with open(DATA_PATH + 'input_list.txt', 'w') as f:\n",
    "  for item in input_list:\n",
    "    f.write(\"%s\\n\" % item)\n",
    "\n",
    "with open(DATA_PATH + 'style_list.txt', 'w') as f:\n",
    "  for item in style_list:\n",
    "    f.write(\"%s\\n\" % item)\n",
    "\n",
    "tmp_list = []\n",
    "for item in input_list:\n",
    "  tmp_list.append(item[:-4])\n",
    "input_list = tmp_list\n",
    "\n",
    "# if not os.path.exists(DATA_PATH + '.tmp/inprompt/'):\n",
    "#   os.makedirs(DATA_PATH + '.tmp/inprompt/')\n",
    "for (prompt, name) in zip(prompts, input_list):\n",
    "  with open(DATA_PATH + '.tmp/inprompt/' + name + '.prompt', 'w') as f:\n",
    "    f.write(prompt)"
   ]
  },
  {
   "cell_type": "markdown",
   "metadata": {},
   "source": [
    "## Extract"
   ]
  },
  {
   "cell_type": "code",
   "execution_count": 21,
   "metadata": {},
   "outputs": [
    {
     "name": "stdout",
     "output_type": "stream",
     "text": [
      "HyuN - Infinity Heaven.mp3\n",
      "['HyuN - Infinity Heaven.wav']\n",
      "audio_start_id: 155163, audio_end_id: 155164, audio_pad_id: 151851.\n"
     ]
    },
    {
     "name": "stderr",
     "output_type": "stream",
     "text": [
      "The model is automatically converting to bf16 for faster inference. If you want to disable the automatic precision, please manually add bf16/fp16/fp32=True to \"AutoModelForCausalLM.from_pretrained\".\n",
      "Try importing flash-attention for faster inference...\n",
      "Warning: import flash_attn rotary fail, please install FlashAttention rotary to get higher efficiency https://github.com/Dao-AILab/flash-attention/tree/main/csrc/rotary\n",
      "Warning: import flash_attn rms_norm fail, please install FlashAttention layer_norm to get higher efficiency https://github.com/Dao-AILab/flash-attention/tree/main/csrc/layer_norm\n",
      "Warning: import flash_attn fail, please install FlashAttention to get higher efficiency https://github.com/Dao-AILab/flash-attention\n",
      "Loading checkpoint shards: 100%|██████████| 9/9 [00:03<00:00,  2.29it/s]\n",
      "The model is automatically converting to bf16 for faster inference. If you want to disable the automatic precision, please manually add bf16/fp16/fp32=True to \"AutoModelForCausalLM.from_pretrained\".\n",
      "Try importing flash-attention for faster inference...\n",
      "Warning: import flash_attn rotary fail, please install FlashAttention rotary to get higher efficiency https://github.com/Dao-AILab/flash-attention/tree/main/csrc/rotary\n",
      "Warning: import flash_attn rms_norm fail, please install FlashAttention layer_norm to get higher efficiency https://github.com/Dao-AILab/flash-attention/tree/main/csrc/layer_norm\n",
      "Warning: import flash_attn fail, please install FlashAttention to get higher efficiency https://github.com/Dao-AILab/flash-attention\n",
      "Loading checkpoint shards: 100%|██████████| 9/9 [00:03<00:00,  2.36it/s]\n"
     ]
    },
    {
     "name": "stdout",
     "output_type": "stream",
     "text": [
      "using device 0\n",
      "using device 1\n",
      "using device 0\n",
      "using device 1\n",
      "using device 0\n",
      "using device 1\n",
      "successfully add prompt for HyuN - Infinity Heaven.wav\n",
      "This music is cut into 6 pieces. Each piece has a length of 30 seconds and an overlap of 5 seconds. The description of each piece is as follows:\n",
      "Description piece 1: A fast-paced, energetic track with a strong beat, powerful synths, and piano.\n",
      "Description piece 2: This is a fast-paced electronic track with a strong emphasis on rhythm and percussion. The synthesizers and drums create a sense of urgency and excitement, making it perfect for action scenes or fast-paced video games. The track is instrumental and has a strong techno influence.\n",
      "Description piece 3: This is a fast-paced, upbeat electronic track that features a synthesizer melody, energetic drumming, and a catchy bassline. The music is energetic and exciting, with a sense of urgency and intensity. It is suitable for use in action scenes, sports videos, and other high-energy media. The music is also suitable for use in video games, as it provides a sense of excitement and intensity that can enhance the gaming experience. Overall, this music is perfect for adding a sense of excitement and energy to any project.\n",
      "Description piece 4: This is a fast-paced, energetic electronic track with a strong focus on the use of synthesizers and drums. The music is highly dynamic, with frequent changes in tempo and key, and features a variety of complex rhythms and melodies. The overall mood of the track is intense and energetic, making it well-suited for use in action scenes or high-energy videos.\n",
      "Description piece 5: This is a techno track with a fast tempo, synthesizer sounds, and a strong beat. It is energetic and exciting, with a sense of urgency and intensity. The music is suitable for action scenes, fast-paced scenes, and sports events. It could also be used in video games and other forms of media that require a high-energy, dynamic soundtrack.\n",
      "Description piece 6: A sad piano melody with strings and brass.\n",
      "\n",
      "The lyrics are as follows:\n",
      "Let's go, let's go, let's go, let's go\n",
      "Fate is the one that holds the key\n",
      "You can't touch the fire\n",
      "the time has come to play the game\n",
      "They will be saved\n",
      "A story of love and hope\n",
      "\n",
      "successfully write prompt for HyuN - Infinity Heaven.wav\n"
     ]
    },
    {
     "data": {
      "text/plain": [
       "0"
      ]
     },
     "execution_count": 21,
     "metadata": {},
     "output_type": "execute_result"
    }
   ],
   "source": [
    "os.system(f'python extract/extract.py --model_path {MODEL_PATH} --data_path {DATA_PATH} --music_path {MUSIC_PATH} --output_path {DATA_PATH}.tmp/extract/ --device_num 2')"
   ]
  },
  {
   "cell_type": "markdown",
   "metadata": {},
   "source": [
    "## Process"
   ]
  },
  {
   "cell_type": "code",
   "execution_count": null,
   "metadata": {},
   "outputs": [],
   "source": [
    "os.system(f'python process/process.py --model_path {MODEL_PATH} --data_path {DATA_PATH} --model {LLM_MODEL} --prompt_path {DATA_PATH}.tmp/extract/ --output_path {DATA_PATH}.tmp/process/ --num_char {num_char} --num_non_char {num_non_char}')"
   ]
  },
  {
   "cell_type": "code",
   "execution_count": 23,
   "metadata": {},
   "outputs": [
    {
     "name": "stdout",
     "output_type": "stream",
     "text": [
      "heavenly scene, angelic figure, wings, ethereal light, fast-paced motion, dynamic shapes, keys floating, fiery essence, game-like atmosphere, love and hope symbols, techno influenced, synthesizer waves, drum beats, intense emotions, contrasting light and dark, gold and blue hues, 8k resolution, 16:9 aspect ratio, 60fps.\n",
      "heavenly scene, figures in dynamic poses, fast-paced movement, instrumental music influence, synthesizer waves visible in background, strong beats represented by pulsing lights, angelic figures with keys or locks, unattainable fire element, game board design, love and hope symbols, intense colors, gold and white tones, 8k resolution, 16:9 aspect ratio, 60fps.\n",
      "heavenly landscape, angelic figure, ethereal wings, glowing aura, dynamic motion, fast-paced rhythm, techno influenced, synthesizer waves, intense drumming, urgent melody, love and hope symbols, keys floating, fiery horizon, game-like scenario, high-energy colors, purple and gold sky, fast-moving clouds, 8k resolution, 16:9 aspect ratio, 60fps.\n",
      "b'heavenly landscape, two opposing elements, fire and water, fast-moving clouds, angelic figure with sword, techno-inspired armor, dynamic lighting, strong colors, reds and blues, synthesizer-like shapes, piano keys floating in the air, fast-paced motion lines, 8k resolution, 16:9 aspect ratio, 60fps, intense yet hopeful atmosphere.'\n",
      "b'heavenly landscape, angelic figure, wings, glowing aura, fast-paced motion, dynamic shapes, powerful synths, piano keys, techno influenced, urgent rhythm, intense drumming, synthesizer waves, sports elements, gaming references, love and hope symbols, colorful aura, high-contrast imagery, 8k resolution, 16:9 aspect ratio, 60fps.'\n",
      "b'heavenly scene, two figures in sleek armor, floating in cosmos, stars and nebulae, fast-paced energy, glowing aura, synthesizer waves visible, strong beat represented by pulsing light, piano notes as falling stars, sense of urgency, action-ready, Techno influence, dynamic shapes, intense colors, 8k resolution, 16:9 aspect ratio, 60fps, melancholic piano with string and brass accents in background.'\n"
     ]
    }
   ],
   "source": [
    "for file_name in input_list:\n",
    "  for t in range(num_char):\n",
    "    with open(DATA_PATH + '.tmp/process/' + file_name + '.prompt' + str(t), 'r') as f:\n",
    "      print(f.read())\n",
    "  for t in range(num_non_char):\n",
    "    with open(DATA_PATH + '.tmp/process/' + file_name + '.prompt_nc' + str(t), 'rb') as f:\n",
    "      print(f.read())"
   ]
  },
  {
   "cell_type": "markdown",
   "metadata": {},
   "source": [
    "## Generate"
   ]
  },
  {
   "cell_type": "code",
   "execution_count": 24,
   "metadata": {},
   "outputs": [
    {
     "name": "stdout",
     "output_type": "stream",
     "text": [
      "Loading prompt from file\n",
      "HyuN - Infinity Heaven.prompt\n",
      "Prompt loaded\n",
      "Loading model\n"
     ]
    },
    {
     "name": "stderr",
     "output_type": "stream",
     "text": [
      "Loading pipeline components...: 100%|██████████| 7/7 [00:00<00:00,  7.52it/s]\n"
     ]
    },
    {
     "name": "stdout",
     "output_type": "stream",
     "text": [
      "Model loaded\n",
      "Generating for HyuN - Infinity Heaven.prompt\n"
     ]
    },
    {
     "name": "stderr",
     "output_type": "stream",
     "text": [
      "100%|██████████| 50/50 [00:06<00:00,  7.51it/s]\n",
      "Token indices sequence length is longer than the specified maximum sequence length for this model (79 > 77). Running this sequence through the model will result in indexing errors\n",
      "Token indices sequence length is longer than the specified maximum sequence length for this model (79 > 77). Running this sequence through the model will result in indexing errors\n",
      "100%|██████████| 50/50 [00:06<00:00,  7.79it/s]\n",
      "100%|██████████| 50/50 [00:06<00:00,  7.78it/s]\n"
     ]
    },
    {
     "name": "stdout",
     "output_type": "stream",
     "text": [
      "Generated for HyuN - Infinity Heaven.prompt\n",
      "Loading prompt from file\n",
      "Generating image without characters\n",
      "Prompt loaded\n",
      "Generating for HyuN - Infinity Heaven.prompt_nc\n"
     ]
    },
    {
     "name": "stderr",
     "output_type": "stream",
     "text": [
      "100%|██████████| 50/50 [00:06<00:00,  7.77it/s]\n",
      "100%|██████████| 50/50 [00:06<00:00,  7.76it/s]\n",
      "100%|██████████| 50/50 [00:06<00:00,  7.76it/s]\n"
     ]
    },
    {
     "name": "stdout",
     "output_type": "stream",
     "text": [
      "Generated for HyuN - Infinity Heaven.prompt_nc\n"
     ]
    },
    {
     "data": {
      "text/plain": [
       "0"
      ]
     },
     "execution_count": 24,
     "metadata": {},
     "output_type": "execute_result"
    }
   ],
   "source": [
    "os.system(f'python generate/generate.py --model_path {MODEL_PATH} --data_path {DATA_PATH} --model {GENRATE_MODEL} --output_path {DATA_PATH}.tmp/generate/ --prompt_path {DATA_PATH}.tmp/process/ --image_num {image_num} --num_char {num_char} --num_non_char {num_non_char}')"
   ]
  },
  {
   "cell_type": "markdown",
   "metadata": {},
   "source": [
    "# Style transfer"
   ]
  },
  {
   "cell_type": "code",
   "execution_count": 5,
   "metadata": {},
   "outputs": [
    {
     "name": "stdout",
     "output_type": "stream",
     "text": [
      "['0-0.png', '1-0.png', '2-0.png', 'nc0-0.png', 'nc1-0.png', 'nc2-0.png']\n",
      "content: HyuN - Infinity Heaven/0-0.png\n",
      "style: 3.png\n",
      "Transferring from /root/LLM_project/codes/data/.tmp/generate/HyuN - Infinity Heaven/0-0.png to /root/LLM_project/codes/data/style/illustration_style/3.png\n",
      "Building the style transfer model..\n"
     ]
    },
    {
     "name": "stderr",
     "output_type": "stream",
     "text": [
      "Style Loss : 0.159606 Content Loss: 0.903487:  80%|████████  | 40/50 [00:04<00:01,  9.29it/s]\n"
     ]
    },
    {
     "name": "stdout",
     "output_type": "stream",
     "text": [
      "Transfer from /root/LLM_project/codes/data/.tmp/generate/HyuN - Infinity Heaven/0-0.png to /root/LLM_project/codes/data/style/illustration_style/3.png done\n",
      "content: HyuN - Infinity Heaven/1-0.png\n",
      "style: 3.png\n",
      "Transferring from /root/LLM_project/codes/data/.tmp/generate/HyuN - Infinity Heaven/1-0.png to /root/LLM_project/codes/data/style/illustration_style/3.png\n",
      "Building the style transfer model..\n"
     ]
    },
    {
     "name": "stderr",
     "output_type": "stream",
     "text": [
      "Style Loss : 0.155911 Content Loss: 1.004649:  80%|████████  | 40/50 [00:04<00:01,  9.40it/s]\n"
     ]
    },
    {
     "name": "stdout",
     "output_type": "stream",
     "text": [
      "Transfer from /root/LLM_project/codes/data/.tmp/generate/HyuN - Infinity Heaven/1-0.png to /root/LLM_project/codes/data/style/illustration_style/3.png done\n",
      "content: HyuN - Infinity Heaven/2-0.png\n",
      "style: 3.png\n",
      "Transferring from /root/LLM_project/codes/data/.tmp/generate/HyuN - Infinity Heaven/2-0.png to /root/LLM_project/codes/data/style/illustration_style/3.png\n",
      "Building the style transfer model..\n"
     ]
    },
    {
     "name": "stderr",
     "output_type": "stream",
     "text": [
      "Style Loss : 0.162667 Content Loss: 1.020787:  80%|████████  | 40/50 [00:04<00:01,  9.41it/s]\n"
     ]
    },
    {
     "name": "stdout",
     "output_type": "stream",
     "text": [
      "Transfer from /root/LLM_project/codes/data/.tmp/generate/HyuN - Infinity Heaven/2-0.png to /root/LLM_project/codes/data/style/illustration_style/3.png done\n",
      "content: HyuN - Infinity Heaven/nc0-0.png\n",
      "style: 7.png\n",
      "Transferring from /root/LLM_project/codes/data/.tmp/generate/HyuN - Infinity Heaven/nc0-0.png to /root/LLM_project/codes/data/style/illustration_style/7.png\n",
      "Building the style transfer model..\n"
     ]
    },
    {
     "name": "stderr",
     "output_type": "stream",
     "text": [
      "Style Loss : 0.388360 Content Loss: 2.093533:  80%|████████  | 40/50 [00:04<00:01,  9.40it/s] \n"
     ]
    },
    {
     "name": "stdout",
     "output_type": "stream",
     "text": [
      "Transfer from /root/LLM_project/codes/data/.tmp/generate/HyuN - Infinity Heaven/nc0-0.png to /root/LLM_project/codes/data/style/illustration_style/7.png done\n",
      "content: HyuN - Infinity Heaven/nc1-0.png\n",
      "style: 7.png\n",
      "Transferring from /root/LLM_project/codes/data/.tmp/generate/HyuN - Infinity Heaven/nc1-0.png to /root/LLM_project/codes/data/style/illustration_style/7.png\n",
      "Building the style transfer model..\n"
     ]
    },
    {
     "name": "stderr",
     "output_type": "stream",
     "text": [
      "Style Loss : 0.579918 Content Loss: 3.040342:  80%|████████  | 40/50 [00:04<00:01,  9.39it/s] \n"
     ]
    },
    {
     "name": "stdout",
     "output_type": "stream",
     "text": [
      "Transfer from /root/LLM_project/codes/data/.tmp/generate/HyuN - Infinity Heaven/nc1-0.png to /root/LLM_project/codes/data/style/illustration_style/7.png done\n",
      "content: HyuN - Infinity Heaven/nc2-0.png\n",
      "style: 7.png\n",
      "Transferring from /root/LLM_project/codes/data/.tmp/generate/HyuN - Infinity Heaven/nc2-0.png to /root/LLM_project/codes/data/style/illustration_style/7.png\n",
      "Building the style transfer model..\n"
     ]
    },
    {
     "name": "stderr",
     "output_type": "stream",
     "text": [
      "Style Loss : 0.336692 Content Loss: 1.431823:  80%|████████  | 40/50 [00:04<00:01,  9.39it/s]\n"
     ]
    },
    {
     "name": "stdout",
     "output_type": "stream",
     "text": [
      "Transfer from /root/LLM_project/codes/data/.tmp/generate/HyuN - Infinity Heaven/nc2-0.png to /root/LLM_project/codes/data/style/illustration_style/7.png done\n"
     ]
    },
    {
     "data": {
      "text/plain": [
       "0"
      ]
     },
     "execution_count": 5,
     "metadata": {},
     "output_type": "execute_result"
    }
   ],
   "source": [
    "os.system(f'python style_transfer/style_transfer.py --data_path {DATA_PATH} --output_path {DATA_PATH}.tmp/style_transfer/ --style_path {STYLE_PATH} --content_path {CONTENT_PATH} -l_o --num_char {num_char} --num_non_char {num_non_char}')"
   ]
  },
  {
   "cell_type": "markdown",
   "metadata": {},
   "source": [
    "# Final Results"
   ]
  },
  {
   "cell_type": "code",
   "execution_count": null,
   "metadata": {},
   "outputs": [],
   "source": [
    "import matplotlib.pyplot as plt\n",
    "from PIL import Image\n",
    "\n",
    "result = {}\n",
    "for music in input_list:\n",
    "  result[music] = os.listdir(DATA_PATH + '.tmp/style_transfer/'+music)\n",
    "\n",
    "for (music, pics) in zip(result.keys(), result.values()):\n",
    "  print(music)\n",
    "  for pic in pics:\n",
    "    if pic.endswith('.png'):\n",
    "      image = Image.open((DATA_PATH + '.tmp/style_transfer/'+music+'/'+pic))\n",
    "      plt.imshow(image)\n",
    "      plt.axis('off')\n",
    "      plt.show()"
   ]
  }
 ],
 "metadata": {
  "kernelspec": {
   "display_name": "base",
   "language": "python",
   "name": "python3"
  },
  "language_info": {
   "codemirror_mode": {
    "name": "ipython",
    "version": 3
   },
   "file_extension": ".py",
   "mimetype": "text/x-python",
   "name": "python",
   "nbconvert_exporter": "python",
   "pygments_lexer": "ipython3",
   "version": "3.10.13"
  }
 },
 "nbformat": 4,
 "nbformat_minor": 2
}
