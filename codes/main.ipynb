{
 "cells": [
  {
   "cell_type": "markdown",
   "metadata": {},
   "source": [
    "We should call `.py` so that cuda memory will be automatically released after each part.\n",
    "\n",
    "This notebook is used to organize the codes"
   ]
  },
  {
   "cell_type": "markdown",
   "metadata": {},
   "source": [
    "## Setup"
   ]
  },
  {
   "cell_type": "markdown",
   "metadata": {},
   "source": [
    "### What you need to do\n",
    "\n",
    "- Throw audio files into `data/` directory\n",
    "\n",
    "- Correctly set `input_list`\n",
    "\n",
    "- Create a `.env` file in the `process/` directory if using `glm-4`"
   ]
  },
  {
   "cell_type": "code",
   "execution_count": 1,
   "metadata": {},
   "outputs": [],
   "source": [
    "import os"
   ]
  },
  {
   "cell_type": "code",
   "execution_count": 2,
   "metadata": {},
   "outputs": [],
   "source": [
    "DATA_PATH = os.getcwd() + '/data/'\n",
    "MODEL_PATH = '/ssdshare/LLMs/'\n",
    "MUSIC_PATH = os.getcwd() + '/data/music/'\n",
    "LLM_MODEL = \"glm-4\"\n",
    "GENRATE_MODEL = \"playground-v2.5-1024px-aesthetic\"\n",
    "CONTENT_PATH = DATA_PATH + '.tmp/generate/'\n",
    "STYLE_PATH = DATA_PATH + 'style/illustration_style/'\n",
    "\n",
    "if not os.path.exists(DATA_PATH + '.tmp/'):\n",
    "  os.makedirs(DATA_PATH + '.tmp/')\n",
    "\n",
    "list = ['extract/', 'generate/', 'process/', 'inprompt', 'style_transfer']\n",
    "\n",
    "for folder in list:\n",
    "  if not os.path.exists(DATA_PATH + '.tmp/' + folder):\n",
    "    os.makedirs(DATA_PATH + '.tmp/' + folder)\n"
   ]
  },
  {
   "cell_type": "code",
   "execution_count": 3,
   "metadata": {},
   "outputs": [],
   "source": [
    "input_list = [\n",
    "  'Kerberos.mp3',\n",
    "]\n",
    "prompts = [r'''\n",
    "  The name of this song is \"Kerberos\". \n",
    "''',\n",
    "]\n",
    "# Pick the style images in the style library\n",
    "style_list = [\n",
    "  # 'opia.png'\n",
    "]\n",
    "num_char = 1 # default\n",
    "num_non_char = 1 # default\n",
    "# You should check both input_list and prompts modified!!!\n",
    "with open(DATA_PATH + 'input_list.txt', 'w') as f:\n",
    "  for item in input_list:\n",
    "    f.write(\"%s\\n\" % item)\n",
    "\n",
    "with open(DATA_PATH + 'style_list.txt', 'w') as f:\n",
    "  for item in style_list:\n",
    "    f.write(\"%s\\n\" % item)\n",
    "\n",
    "tmp_list = []\n",
    "for item in input_list:\n",
    "  tmp_list.append(item[:-4])\n",
    "input_list = tmp_list\n",
    "\n",
    "# if not os.path.exists(DATA_PATH + '.tmp/inprompt/'):\n",
    "#   os.makedirs(DATA_PATH + '.tmp/inprompt/')\n",
    "for (prompt, name) in zip(prompts, input_list):\n",
    "  with open(DATA_PATH + '.tmp/inprompt/' + name + '.prompt', 'w') as f:\n",
    "    f.write(prompt)"
   ]
  },
  {
   "cell_type": "markdown",
   "metadata": {},
   "source": [
    "## Extract"
   ]
  },
  {
   "cell_type": "code",
   "execution_count": 4,
   "metadata": {},
   "outputs": [
    {
     "name": "stdout",
     "output_type": "stream",
     "text": [
      "Kerberos.mp3\n",
      "['Kerberos.wav']\n",
      "audio_start_id: 155163, audio_end_id: 155164, audio_pad_id: 151851.\n"
     ]
    },
    {
     "name": "stderr",
     "output_type": "stream",
     "text": [
      "The model is automatically converting to bf16 for faster inference. If you want to disable the automatic precision, please manually add bf16/fp16/fp32=True to \"AutoModelForCausalLM.from_pretrained\".\n",
      "Try importing flash-attention for faster inference...\n",
      "Warning: import flash_attn rotary fail, please install FlashAttention rotary to get higher efficiency https://github.com/Dao-AILab/flash-attention/tree/main/csrc/rotary\n",
      "Warning: import flash_attn rms_norm fail, please install FlashAttention layer_norm to get higher efficiency https://github.com/Dao-AILab/flash-attention/tree/main/csrc/layer_norm\n",
      "Warning: import flash_attn fail, please install FlashAttention to get higher efficiency https://github.com/Dao-AILab/flash-attention\n",
      "Loading checkpoint shards: 100%|██████████| 9/9 [00:45<00:00,  5.04s/it]\n",
      "The model is automatically converting to bf16 for faster inference. If you want to disable the automatic precision, please manually add bf16/fp16/fp32=True to \"AutoModelForCausalLM.from_pretrained\".\n",
      "Try importing flash-attention for faster inference...\n",
      "Warning: import flash_attn rotary fail, please install FlashAttention rotary to get higher efficiency https://github.com/Dao-AILab/flash-attention/tree/main/csrc/rotary\n",
      "Warning: import flash_attn rms_norm fail, please install FlashAttention layer_norm to get higher efficiency https://github.com/Dao-AILab/flash-attention/tree/main/csrc/layer_norm\n",
      "Warning: import flash_attn fail, please install FlashAttention to get higher efficiency https://github.com/Dao-AILab/flash-attention\n",
      "Loading checkpoint shards: 100%|██████████| 9/9 [00:45<00:00,  5.07s/it]\n",
      "The model is automatically converting to bf16 for faster inference. If you want to disable the automatic precision, please manually add bf16/fp16/fp32=True to \"AutoModelForCausalLM.from_pretrained\".\n",
      "Try importing flash-attention for faster inference...\n",
      "Warning: import flash_attn rotary fail, please install FlashAttention rotary to get higher efficiency https://github.com/Dao-AILab/flash-attention/tree/main/csrc/rotary\n",
      "Warning: import flash_attn rms_norm fail, please install FlashAttention layer_norm to get higher efficiency https://github.com/Dao-AILab/flash-attention/tree/main/csrc/layer_norm\n",
      "Warning: import flash_attn fail, please install FlashAttention to get higher efficiency https://github.com/Dao-AILab/flash-attention\n",
      "Loading checkpoint shards: 100%|██████████| 9/9 [00:47<00:00,  5.23s/it]\n",
      "The model is automatically converting to bf16 for faster inference. If you want to disable the automatic precision, please manually add bf16/fp16/fp32=True to \"AutoModelForCausalLM.from_pretrained\".\n",
      "Try importing flash-attention for faster inference...\n",
      "Warning: import flash_attn rotary fail, please install FlashAttention rotary to get higher efficiency https://github.com/Dao-AILab/flash-attention/tree/main/csrc/rotary\n",
      "Warning: import flash_attn rms_norm fail, please install FlashAttention layer_norm to get higher efficiency https://github.com/Dao-AILab/flash-attention/tree/main/csrc/layer_norm\n",
      "Warning: import flash_attn fail, please install FlashAttention to get higher efficiency https://github.com/Dao-AILab/flash-attention\n",
      "Loading checkpoint shards: 100%|██████████| 9/9 [00:17<00:00,  1.98s/it]\n"
     ]
    },
    {
     "name": "stdout",
     "output_type": "stream",
     "text": [
      "using device 0\n",
      "using device 1\n",
      "using device 2\n",
      "using device 3\n",
      "using device 0\n",
      "successfully add prompt for Kerberos.wav\n",
      "This music is cut into 5 pieces. Each piece has a length of 30 seconds and an overlap of 5 seconds. The description of each piece is as follows:\n",
      "Description piece 1: This is a high-energy electronic track with a strong emphasis on drums and percussion. The tempo is fast and relentless, with an insistent beat that drives the music forward. The instruments are heavily processed and distorted, giving the track a raw and edgy sound. The overall mood is intense and aggressive, with a sense of urgency and intensity. This track would be well-suited for action scenes or high-energy sports footage.\n",
      "Description piece 2: This is a high-energy electronic track with a strong emphasis on drums and percussion. The tempo is fast and the music is intense and urgent. The track is suitable for action scenes, high-energy video games, and sports videos. The music is also suitable for use in a club or dance environment. The instruments used in the track include synthesizers, electric guitars, and drums. The overall sound of the track is edgy and futuristic.\n",
      "Description piece 3: The fast-paced electronic music piece is intense, high-energy, and fast-paced. The synthesizers and drum machines create a manic, urgent sound that is both exhilarating and exhausting. The music is suitable for action scenes, video games, and other high-octane media.\n",
      "Description piece 4: This is a high-energy electronic track that is perfect for video games, trailers, and action scenes. The music is fast-paced and features a variety of electronic instruments, including synthesizers, drum machines, and bass. The track has a strong beat and a catchy melody that will stick in your head. The overall sound is intense and energetic, making it perfect for use in action-packed scenes.\n",
      "Description piece 5: This is a high energy, aggressive, fast paced, hardcore metal instrumental. It is ideal for use in extreme sports videos, video games, trailers, action movies, and any media needing a powerful, intense soundtrack. The instruments used include electric guitars, bass, drums, and synthesizers.\n",
      "\n",
      "The lyrics are as follows:\n",
      "Ready for the ride of your life\n",
      "TV-TOKYO\n",
      "Sonic Adventure\n",
      "2000\n",
      "JAPAN\n",
      "The force is strong with this one\n",
      "\n",
      "successfully write prompt for Kerberos.wav\n"
     ]
    },
    {
     "data": {
      "text/plain": [
       "0"
      ]
     },
     "execution_count": 4,
     "metadata": {},
     "output_type": "execute_result"
    }
   ],
   "source": [
    "os.system(f'python extract/extract.py --model_path {MODEL_PATH} --data_path {DATA_PATH} --music_path {MUSIC_PATH} --output_path {DATA_PATH}.tmp/extract/ --device_num 4')"
   ]
  },
  {
   "cell_type": "code",
   "execution_count": 5,
   "metadata": {},
   "outputs": [
    {
     "name": "stdout",
     "output_type": "stream",
     "text": [
      "This music is cut into 5 pieces. Each piece has a length of 30 seconds and an overlap of 5 seconds. The description of each piece is as follows:\n",
      "Description piece 1: This is a high-energy electronic track with a strong emphasis on drums and percussion. The tempo is fast and relentless, with an insistent beat that drives the music forward. The instruments are heavily processed and distorted, giving the track a raw and edgy sound. The overall mood is intense and aggressive, with a sense of urgency and intensity. This track would be well-suited for action scenes or high-energy sports footage.\n",
      "Description piece 2: This is a high-energy electronic track with a strong emphasis on drums and percussion. The tempo is fast and the music is intense and urgent. The track is suitable for action scenes, high-energy video games, and sports videos. The music is also suitable for use in a club or dance environment. The instruments used in the track include synthesizers, electric guitars, and drums. The overall sound of the track is edgy and futuristic.\n",
      "Description piece 3: The fast-paced electronic music piece is intense, high-energy, and fast-paced. The synthesizers and drum machines create a manic, urgent sound that is both exhilarating and exhausting. The music is suitable for action scenes, video games, and other high-octane media.\n",
      "Description piece 4: This is a high-energy electronic track that is perfect for video games, trailers, and action scenes. The music is fast-paced and features a variety of electronic instruments, including synthesizers, drum machines, and bass. The track has a strong beat and a catchy melody that will stick in your head. The overall sound is intense and energetic, making it perfect for use in action-packed scenes.\n",
      "Description piece 5: This is a high energy, aggressive, fast paced, hardcore metal instrumental. It is ideal for use in extreme sports videos, video games, trailers, action movies, and any media needing a powerful, intense soundtrack. The instruments used include electric guitars, bass, drums, and synthesizers.\n",
      "\n",
      "The lyrics are as follows:\n",
      "Ready for the ride of your life\n",
      "TV-TOKYO\n",
      "Sonic Adventure\n",
      "2000\n",
      "JAPAN\n",
      "The force is strong with this one\n",
      "\n"
     ]
    }
   ],
   "source": [
    "for file_name in input_list:\n",
    "  with open(DATA_PATH + '.tmp/extract/' + file_name + '.prompt', 'r') as f:\n",
    "    print(f.read())"
   ]
  },
  {
   "cell_type": "markdown",
   "metadata": {},
   "source": [
    "## Process"
   ]
  },
  {
   "cell_type": "code",
   "execution_count": 6,
   "metadata": {},
   "outputs": [
    {
     "name": "stdout",
     "output_type": "stream",
     "text": [
      "['Kerberos']\n",
      "Loading model\n",
      "Model loaded\n",
      "<class 'zhipuai._client.ZhipuAI'> <class 'NoneType'>\n",
      "Token spent: 8856\n"
     ]
    },
    {
     "data": {
      "text/plain": [
       "0"
      ]
     },
     "execution_count": 6,
     "metadata": {},
     "output_type": "execute_result"
    }
   ],
   "source": [
    "os.system(f'python process/process.py --model_path {MODEL_PATH} --data_path {DATA_PATH} --model {LLM_MODEL} --prompt_path {DATA_PATH}.tmp/extract/ --output_path {DATA_PATH}.tmp/process/ --num_char {num_char} --num_non_char {num_non_char}')"
   ]
  },
  {
   "cell_type": "code",
   "execution_count": 7,
   "metadata": {},
   "outputs": [
    {
     "name": "stdout",
     "output_type": "stream",
     "text": [
      "dark urban landscape, glowing neon lights, lone figure in silhouette, hoodie, intense gaze, Kerberos reference, mythical creature, three heads, guarding entrance, fast-paced motion blur, edgy electronics, abstract shapes, aggressive styling, red and black color scheme, high contrast, 8k resolution, 16:9 aspect ratio, 60fps.\n",
      "b'dark futuristic cityscape, glowing neon lights, intense reds and blues, abstract patterns resembling digital code, strong geometric shapes, dynamic motion blur, deep shadows, edgy electronic textures, fast-paced rhythm visible in light trails, sense of power and energy, intense atmosphere, no characters, 8k resolution, 16:9 aspect ratio, 60fps'\n"
     ]
    }
   ],
   "source": [
    "for file_name in input_list:\n",
    "  for t in range(num_char):\n",
    "    with open(DATA_PATH + '.tmp/process/' + file_name + '.prompt' + str(t), 'r') as f:\n",
    "      print(f.read())\n",
    "  for t in range(num_non_char):\n",
    "    with open(DATA_PATH + '.tmp/process/' + file_name + '.prompt_nc' + str(t), 'rb') as f:\n",
    "      print(f.read())"
   ]
  },
  {
   "cell_type": "markdown",
   "metadata": {},
   "source": [
    "## Generate"
   ]
  },
  {
   "cell_type": "code",
   "execution_count": 11,
   "metadata": {},
   "outputs": [
    {
     "name": "stdout",
     "output_type": "stream",
     "text": [
      "Loading prompt from file\n",
      "Kerberos.prompt\n",
      "Prompt loaded\n",
      "Loading model\n"
     ]
    },
    {
     "name": "stderr",
     "output_type": "stream",
     "text": [
      "Loading pipeline components...: 100%|██████████| 7/7 [00:01<00:00,  6.59it/s]\n"
     ]
    },
    {
     "name": "stdout",
     "output_type": "stream",
     "text": [
      "Model loaded\n",
      "Generating for Kerberos.prompt\n"
     ]
    },
    {
     "name": "stderr",
     "output_type": "stream",
     "text": [
      "  0%|          | 0/50 [00:00<?, ?it/s]/opt/conda/lib/python3.10/site-packages/torch/nn/modules/conv.py:456: UserWarning: Plan failed with a cudnnException: CUDNN_BACKEND_EXECUTION_PLAN_DESCRIPTOR: cudnnFinalize Descriptor Failed cudnn_status: CUDNN_STATUS_NOT_SUPPORTED (Triggered internally at ../aten/src/ATen/native/cudnn/Conv_v8.cpp:919.)\n",
      "  return F.conv2d(input, weight, bias, self.stride,\n",
      "100%|██████████| 50/50 [00:16<00:00,  3.02it/s]\n"
     ]
    },
    {
     "name": "stdout",
     "output_type": "stream",
     "text": [
      "Generated for Kerberos.prompt\n",
      "Generating image without characters\n",
      "Loading prompt from file\n",
      "Prompt loaded\n",
      "Generating for Kerberos.prompt_nc\n"
     ]
    },
    {
     "name": "stderr",
     "output_type": "stream",
     "text": [
      "100%|██████████| 50/50 [00:16<00:00,  3.07it/s]\n"
     ]
    },
    {
     "name": "stdout",
     "output_type": "stream",
     "text": [
      "Generated for Kerberos.prompt_nc\n"
     ]
    },
    {
     "data": {
      "text/plain": [
       "0"
      ]
     },
     "execution_count": 11,
     "metadata": {},
     "output_type": "execute_result"
    }
   ],
   "source": [
    "os.system(f'python generate/generate.py --model_path {MODEL_PATH} --data_path {DATA_PATH} --model {GENRATE_MODEL} --output_path {DATA_PATH}.tmp/generate/ --prompt_path {DATA_PATH}.tmp/process/ --image_num 3 --num_char {num_char} --num_non_char {num_non_char}')"
   ]
  },
  {
   "cell_type": "markdown",
   "metadata": {},
   "source": [
    "# Style transfer"
   ]
  },
  {
   "cell_type": "code",
   "execution_count": 24,
   "metadata": {},
   "outputs": [
    {
     "name": "stderr",
     "output_type": "stream",
     "text": [
      "/opt/conda/lib/python3.10/site-packages/torchvision/io/image.py:13: UserWarning: Failed to load image Python extension: '/opt/conda/lib/python3.10/site-packages/torchvision/image.so: undefined symbol: _ZN3c1017RegisterOperatorsD1Ev'If you don't plan on using image functionality from `torchvision.io`, you can ignore this warning. Otherwise, there might be something wrong with your environment. Did you have `libjpeg` or `libpng` installed before building `torchvision` from source?\n",
      "  warn(\n"
     ]
    },
    {
     "name": "stdout",
     "output_type": "stream",
     "text": [
      "['0-0.png', '0-1.png', '0-2.png', 'nc0-0.png', 'nc0-1.png', 'nc0-2.png']\n",
      "style_file_name: {'Kerberos': ['19.png', '5.png']}\n",
      "map: {'Kerberos': {'0-0.png': '19.png', '0-1.png': '19.png', '0-2.png': '19.png', 'nc0-0.png': '5.png', 'nc0-1.png': '5.png', 'nc0-2.png': '5.png'}}\n",
      "content: Kerberos/0-0.png\n",
      "style: 19.png\n",
      "Transferring from /root/LLM_project/codes/data/.tmp/generate/Kerberos/0-0.png to /root/LLM_project/codes/data/style/illustration_style/19.png\n",
      "Building the style transfer model..\n"
     ]
    },
    {
     "name": "stderr",
     "output_type": "stream",
     "text": [
      "Style Loss : 0.049068 Content Loss: 0.270643:  80%|████████  | 40/50 [00:04<00:01,  9.35it/s]\n"
     ]
    },
    {
     "name": "stdout",
     "output_type": "stream",
     "text": [
      "Transfer from /root/LLM_project/codes/data/.tmp/generate/Kerberos/0-0.png to /root/LLM_project/codes/data/style/illustration_style/19.png done\n",
      "content: Kerberos/0-1.png\n",
      "style: 19.png\n",
      "Transferring from /root/LLM_project/codes/data/.tmp/generate/Kerberos/0-1.png to /root/LLM_project/codes/data/style/illustration_style/19.png\n",
      "Building the style transfer model..\n"
     ]
    },
    {
     "name": "stderr",
     "output_type": "stream",
     "text": [
      "Style Loss : 0.066875 Content Loss: 0.320130:  80%|████████  | 40/50 [00:04<00:01,  9.48it/s]\n"
     ]
    },
    {
     "name": "stdout",
     "output_type": "stream",
     "text": [
      "Transfer from /root/LLM_project/codes/data/.tmp/generate/Kerberos/0-1.png to /root/LLM_project/codes/data/style/illustration_style/19.png done\n",
      "content: Kerberos/0-2.png\n",
      "style: 19.png\n",
      "Transferring from /root/LLM_project/codes/data/.tmp/generate/Kerberos/0-2.png to /root/LLM_project/codes/data/style/illustration_style/19.png\n",
      "Building the style transfer model..\n"
     ]
    },
    {
     "name": "stderr",
     "output_type": "stream",
     "text": [
      "Style Loss : 0.052950 Content Loss: 0.255260:  80%|████████  | 40/50 [00:04<00:01,  9.48it/s]\n"
     ]
    },
    {
     "name": "stdout",
     "output_type": "stream",
     "text": [
      "Transfer from /root/LLM_project/codes/data/.tmp/generate/Kerberos/0-2.png to /root/LLM_project/codes/data/style/illustration_style/19.png done\n",
      "content: Kerberos/nc0-0.png\n",
      "style: 5.png\n",
      "Transferring from /root/LLM_project/codes/data/.tmp/generate/Kerberos/nc0-0.png to /root/LLM_project/codes/data/style/illustration_style/5.png\n",
      "Building the style transfer model..\n"
     ]
    },
    {
     "name": "stderr",
     "output_type": "stream",
     "text": [
      "Style Loss : 0.418165 Content Loss: 1.649557:  80%|████████  | 40/50 [00:04<00:01,  9.48it/s]\n"
     ]
    },
    {
     "name": "stdout",
     "output_type": "stream",
     "text": [
      "Transfer from /root/LLM_project/codes/data/.tmp/generate/Kerberos/nc0-0.png to /root/LLM_project/codes/data/style/illustration_style/5.png done\n",
      "content: Kerberos/nc0-1.png\n",
      "style: 5.png\n",
      "Transferring from /root/LLM_project/codes/data/.tmp/generate/Kerberos/nc0-1.png to /root/LLM_project/codes/data/style/illustration_style/5.png\n",
      "Building the style transfer model..\n"
     ]
    },
    {
     "name": "stderr",
     "output_type": "stream",
     "text": [
      "Style Loss : 0.350551 Content Loss: 1.469282:  80%|████████  | 40/50 [00:04<00:01,  9.47it/s]\n"
     ]
    },
    {
     "name": "stdout",
     "output_type": "stream",
     "text": [
      "Transfer from /root/LLM_project/codes/data/.tmp/generate/Kerberos/nc0-1.png to /root/LLM_project/codes/data/style/illustration_style/5.png done\n",
      "content: Kerberos/nc0-2.png\n",
      "style: 5.png\n",
      "Transferring from /root/LLM_project/codes/data/.tmp/generate/Kerberos/nc0-2.png to /root/LLM_project/codes/data/style/illustration_style/5.png\n",
      "Building the style transfer model..\n"
     ]
    },
    {
     "name": "stderr",
     "output_type": "stream",
     "text": [
      "Style Loss : 0.363506 Content Loss: 1.482159:  80%|████████  | 40/50 [00:04<00:01,  9.46it/s]\n"
     ]
    },
    {
     "name": "stdout",
     "output_type": "stream",
     "text": [
      "Transfer from /root/LLM_project/codes/data/.tmp/generate/Kerberos/nc0-2.png to /root/LLM_project/codes/data/style/illustration_style/5.png done\n"
     ]
    },
    {
     "data": {
      "text/plain": [
       "0"
      ]
     },
     "execution_count": 24,
     "metadata": {},
     "output_type": "execute_result"
    }
   ],
   "source": [
    "os.system(f'python style_transfer/style_transfer.py --data_path {DATA_PATH} --output_path {DATA_PATH}.tmp/style_transfer/ --style_path {STYLE_PATH} --content_path {CONTENT_PATH} -l_o --num_char {num_char} --num_non_char {num_non_char}')"
   ]
  }
 ],
 "metadata": {
  "kernelspec": {
   "display_name": "base",
   "language": "python",
   "name": "python3"
  },
  "language_info": {
   "codemirror_mode": {
    "name": "ipython",
    "version": 3
   },
   "file_extension": ".py",
   "mimetype": "text/x-python",
   "name": "python",
   "nbconvert_exporter": "python",
   "pygments_lexer": "ipython3",
   "version": "3.10.13"
  }
 },
 "nbformat": 4,
 "nbformat_minor": 2
}
