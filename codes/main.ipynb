{
 "cells": [
  {
   "cell_type": "markdown",
   "metadata": {},
   "source": [
    "We should call `.py` so that cuda memory will be automatically released after each part.\n",
    "\n",
    "This notebook is used to organize the codes"
   ]
  },
  {
   "cell_type": "markdown",
   "metadata": {},
   "source": [
    "## Setup"
   ]
  },
  {
   "cell_type": "markdown",
   "metadata": {},
   "source": [
    "### What you need to do\n",
    "\n",
    "- Throw audio files into `data/` directory\n",
    "\n",
    "- Correctly set `input_list`\n",
    "\n",
    "- Create a `.env` file in the `process/` directory if using `glm-4`"
   ]
  },
  {
   "cell_type": "code",
   "execution_count": 11,
   "metadata": {},
   "outputs": [],
   "source": [
    "import os"
   ]
  },
  {
   "cell_type": "code",
   "execution_count": 12,
   "metadata": {},
   "outputs": [],
   "source": [
    "DATA_PATH = os.getcwd() + '/data/'\n",
    "MODEL_PATH = '/ssdshare/LLMs/'\n",
    "MUSIC_PATH = os.getcwd() + '/data/music/'\n",
    "LLM_MODEL = \"glm-4\"\n",
    "GENRATE_MODEL = \"playground-v2.5-1024px-aesthetic\"\n",
    "CONTENT_PATH = DATA_PATH + '.tmp/generate/'\n",
    "STYLE_PATH = DATA_PATH + 'style/illustration_style/'\n",
    "\n",
    "if not os.path.exists(DATA_PATH + '.tmp/'):\n",
    "  os.makedirs(DATA_PATH + '.tmp/')\n",
    "\n",
    "list = ['extract/', 'generate/', 'process/', 'inprompt', 'style_transfer']\n",
    "\n",
    "for folder in list:\n",
    "  if not os.path.exists(DATA_PATH + '.tmp/' + folder):\n",
    "    os.makedirs(DATA_PATH + '.tmp/' + folder)\n"
   ]
  },
  {
   "cell_type": "code",
   "execution_count": 13,
   "metadata": {},
   "outputs": [],
   "source": [
    "input_list = [\n",
    "  'Protoflicker.mp3',\n",
    "  'Nhelv.mp3',\n",
    "]\n",
    "prompts = [r'''\n",
    "  The name of this song is \"Protoflicker\". \n",
    "''',\n",
    "r'''\n",
    "The name of this song is \"Nhelv\".\n",
    "'''\n",
    "]\n",
    "# Pick the style images in the style library\n",
    "style_list = [\n",
    "  # 'opia.png'\n",
    "]\n",
    "num_char = 1 # default 1\n",
    "num_non_char = 1 # default 1\n",
    "image_num = 2 \n",
    "# You should check both input_list and prompts modified!!!\n",
    "with open(DATA_PATH + 'input_list.txt', 'w') as f:\n",
    "  for item in input_list:\n",
    "    f.write(\"%s\\n\" % item)\n",
    "\n",
    "with open(DATA_PATH + 'style_list.txt', 'w') as f:\n",
    "  for item in style_list:\n",
    "    f.write(\"%s\\n\" % item)\n",
    "\n",
    "tmp_list = []\n",
    "for item in input_list:\n",
    "  tmp_list.append(item[:-4])\n",
    "input_list = tmp_list\n",
    "\n",
    "# if not os.path.exists(DATA_PATH + '.tmp/inprompt/'):\n",
    "#   os.makedirs(DATA_PATH + '.tmp/inprompt/')\n",
    "for (prompt, name) in zip(prompts, input_list):\n",
    "  with open(DATA_PATH + '.tmp/inprompt/' + name + '.prompt', 'w') as f:\n",
    "    f.write(prompt)"
   ]
  },
  {
   "cell_type": "markdown",
   "metadata": {},
   "source": [
    "## Extract"
   ]
  },
  {
   "cell_type": "code",
   "execution_count": 14,
   "metadata": {},
   "outputs": [
    {
     "name": "stdout",
     "output_type": "stream",
     "text": [
      "Protoflicker.mp3\n",
      "Nhelv.mp3\n",
      "['Protoflicker.wav', 'Nhelv.wav']\n",
      "audio_start_id: 155163, audio_end_id: 155164, audio_pad_id: 151851.\n"
     ]
    },
    {
     "name": "stderr",
     "output_type": "stream",
     "text": [
      "The model is automatically converting to bf16 for faster inference. If you want to disable the automatic precision, please manually add bf16/fp16/fp32=True to \"AutoModelForCausalLM.from_pretrained\".\n",
      "Try importing flash-attention for faster inference...\n",
      "Warning: import flash_attn rotary fail, please install FlashAttention rotary to get higher efficiency https://github.com/Dao-AILab/flash-attention/tree/main/csrc/rotary\n",
      "Warning: import flash_attn rms_norm fail, please install FlashAttention layer_norm to get higher efficiency https://github.com/Dao-AILab/flash-attention/tree/main/csrc/layer_norm\n",
      "Warning: import flash_attn fail, please install FlashAttention to get higher efficiency https://github.com/Dao-AILab/flash-attention\n",
      "Loading checkpoint shards: 100%|██████████| 9/9 [00:13<00:00,  1.46s/it]\n",
      "The model is automatically converting to bf16 for faster inference. If you want to disable the automatic precision, please manually add bf16/fp16/fp32=True to \"AutoModelForCausalLM.from_pretrained\".\n",
      "Try importing flash-attention for faster inference...\n",
      "Warning: import flash_attn rotary fail, please install FlashAttention rotary to get higher efficiency https://github.com/Dao-AILab/flash-attention/tree/main/csrc/rotary\n",
      "Warning: import flash_attn rms_norm fail, please install FlashAttention layer_norm to get higher efficiency https://github.com/Dao-AILab/flash-attention/tree/main/csrc/layer_norm\n",
      "Warning: import flash_attn fail, please install FlashAttention to get higher efficiency https://github.com/Dao-AILab/flash-attention\n",
      "Loading checkpoint shards: 100%|██████████| 9/9 [00:17<00:00,  1.90s/it]\n",
      "The model is automatically converting to bf16 for faster inference. If you want to disable the automatic precision, please manually add bf16/fp16/fp32=True to \"AutoModelForCausalLM.from_pretrained\".\n",
      "Try importing flash-attention for faster inference...\n",
      "Warning: import flash_attn rotary fail, please install FlashAttention rotary to get higher efficiency https://github.com/Dao-AILab/flash-attention/tree/main/csrc/rotary\n",
      "Warning: import flash_attn rms_norm fail, please install FlashAttention layer_norm to get higher efficiency https://github.com/Dao-AILab/flash-attention/tree/main/csrc/layer_norm\n",
      "Warning: import flash_attn fail, please install FlashAttention to get higher efficiency https://github.com/Dao-AILab/flash-attention\n",
      "Loading checkpoint shards: 100%|██████████| 9/9 [00:32<00:00,  3.63s/it]\n",
      "The model is automatically converting to bf16 for faster inference. If you want to disable the automatic precision, please manually add bf16/fp16/fp32=True to \"AutoModelForCausalLM.from_pretrained\".\n",
      "Try importing flash-attention for faster inference...\n",
      "Warning: import flash_attn rotary fail, please install FlashAttention rotary to get higher efficiency https://github.com/Dao-AILab/flash-attention/tree/main/csrc/rotary\n",
      "Warning: import flash_attn rms_norm fail, please install FlashAttention layer_norm to get higher efficiency https://github.com/Dao-AILab/flash-attention/tree/main/csrc/layer_norm\n",
      "Warning: import flash_attn fail, please install FlashAttention to get higher efficiency https://github.com/Dao-AILab/flash-attention\n",
      "Loading checkpoint shards: 100%|██████████| 9/9 [00:15<00:00,  1.77s/it]\n"
     ]
    },
    {
     "name": "stdout",
     "output_type": "stream",
     "text": [
      "using device 0\n",
      "No second element found in split lyrics NOLYRICS:\n",
      "using device 1\n",
      "using device 2\n",
      "using device 3\n",
      "using device 0\n",
      "using device 1\n",
      "using device 2\n",
      "successfully add prompt for Protoflicker.wav\n",
      "using device 3\n",
      "using device 0\n",
      "using device 1\n",
      "using device 2\n",
      "using device 3\n",
      "using device 0\n",
      "using device 1\n",
      "successfully add prompt for Nhelv.wav\n",
      "This music is cut into 7 pieces. Each piece has a length of 30 seconds and an overlap of 5 seconds. The description of each piece is as follows:\n",
      "Description piece 1: A powerful, energetic, motivational, uplifting, inspiring, powerful, motivational, energetic, uplifting, inspirational, dynamic, fresh, energetic, energetic, dynamic, fresh, uplifting, inspiring, motivational, powerful, dynamic, uplifting, fresh, dynamic, fresh, dynamic, energetic, uplifting, inspiring, dynamic, fresh, energetic, dynamic, fresh, uplifting, inspiring, motivational, powerful, dynamic, uplifting, fresh, dynamic, fresh, dynamic, energetic, uplifting, inspiring, motivational, powerful, dynamic, uplifting, fresh, dynamic, fresh, dynamic, energetic, uplifting, inspiring, motivational, powerful, dynamic, uplifting, fresh, dynamic, fresh, dynamic, energetic, uplifting, inspiring, motivational, powerful, dynamic, uplifting, fresh, dynamic, fresh, dynamic, energetic, uplifting, inspiring, motivational, powerful, dynamic, uplifting, fresh, dynamic, fresh, dynamic, energetic, uplifting, inspiring, motivational, powerful, dynamic, uplifting, fresh, dynamic, fresh, dynamic, energetic, uplifting, inspiring, motivational, powerful, dynamic, uplifting, fresh, dynamic, fresh, dynamic, energetic, uplifting, inspiring, motivational, powerful, dynamic, uplifting, fresh, dynamic, fresh, dynamic, energetic, uplifting, inspiring, motivational, powerful, dynamic, uplifting, fresh, dynamic, fresh, dynamic, energetic, uplifting, inspiring, motivational, powerful, dynamic, uplifting, fresh, dynamic, fresh, dynamic, energetic, uplifting, inspiring, motivational, powerful, dynamic, uplifting, fresh, dynamic, fresh, dynamic, energetic, uplifting, inspiring, motivational, powerful, dynamic, uplifting, fresh, dynamic, fresh, dynamic, energetic, uplifting, inspiring, motivational, powerful, dynamic, uplifting, fresh, dynamic, fresh, dynamic, energetic, uplifting, inspiring, motivational, powerful, dynamic, uplifting, fresh, dynamic, fresh, dynamic, energetic, uplifting, inspiring, motivational, powerful, dynamic, uplifting, fresh, dynamic, fresh, dynamic, energetic, uplifting, inspiring, motivational, powerful, dynamic, uplifting, fresh, dynamic, fresh, dynamic, energetic, uplifting, inspiring, motivational, powerful, dynamic, uplifting, fresh, dynamic, fresh, dynamic, energetic, uplifting, inspiring, motivational, powerful, dynamic, uplifting, fresh, dynamic, fresh, dynamic, energetic, uplifting, inspiring, motivational, powerful, dynamic, uplifting, fresh, dynamic, fresh, dynamic, energetic, uplifting, inspiring, motivational, powerful, dynamic, uplifting, fresh, dynamic, fresh, dynamic, energetic, uplifting,\n",
      "Description piece 2: This is a high energy electronic track with a strong beat, punchy bass and cool synth lines. It has a strong club feel and would be great for action, sports, fitness, or anything needing a dynamic, uplifting soundtrack.\n",
      "Description piece 3: This is a high-energy electronic track with a strong beat, soaring melodies, and a powerful build. The atmosphere is energetic, uplifting, and inspiring. It would be perfect for use in sports, fitness, or action scenes, as well as corporate or motivational videos.\n",
      "Description piece 4: The music is energetic, uplifting, and inspirational. It features a catchy melody, powerful drums, and atmospheric synths that create a powerful and uplifting mood. The music is perfect for use in corporate videos, business projects, presentations, commercials, advertising, TV ads, YouTube videos, vlogs, and more.\n",
      "Description piece 5: This is a track with a positive and uplifting mood. It features a catchy melody, powerful beats, and a groovy bassline. The track is perfect for use in corporate videos, commercials, advertising, presentations, and more.\n",
      "Description piece 6: This is a motivational, uplifting, positive, happy, uplifting, epic, atmospheric, atmospheric, powerful, inspirational, motivational, motivational, electronic, dance, electronic, electronic, dance, electro, electro, progressive, progressive, progressive house, progressive house, progressive house, uplifting, uplifting, uplifting, upbeat, upbeat, upbeat, bouncy, bouncy, bouncy, inspirational, inspirational, inspirational, inspirational, inspirational, inspirational, motivational, motivational, motivational, motivational, motivational, motivational, motivational, motivational, motivational, motivational, motivational, motivational, motivational, motivational, motivational, motivational, motivational, motivational, motivational, motivational, motivational, motivational, motivational, motivational, motivational, motivational, motivational, motivational, motivational, motivational, motivational, motivational, motivational, motivational, motivational, motivational, motivational, motivational, motivational, motivational, motivational, motivational, motivational, motivational, motivational, motivational, motivational, motivational, motivational, motivational, motivational, motivational, motivational, motivational, motivational, motivational, motivational, motivational, motivational, motivational, motivational, motivational, motivational, motivational, motivational, motivational, motivational, motivational, motivational, motivational, motivational, motivational, motivational, motivational, motivational, motivational, motivational, motivational, motivational, motivational, motivational, motivational, motivational, motivational, motivational, motivational, motivational, motivational, motivational, motivational, motivational, motivational, motivational, motivational, motivational, motivational, motivational, motivational, motivational, motivational, motivational, motivational, motivational, motivational, motivational, motivational, motivational, motivational, motivational, motivational, motivational, motivational, motivational, motivational, motivational, motivational, motivational, motivational, motivational, motivational, motivational, motivational, motivational, motivational, motivational, motivational, motivational, motivational, motivational, motivational, motivational, motivational, motivational, motivational, motivational, motivational, motivational, motivational, motivational, motivational, motivational, motivational, motivational, motivational, motivational, motivational, motivational, motivational, motivational, motivational, motivational, motivational, motivational, motivational, motivational, motivational, motivational, motivational, motivational, motivational, motivational, motivational, motivational, motivational, motivational, motivational, motivational, motivational, motivational, motivational, motivational, motivational, motivational, motivational, motivational, motivational, motivational, motivational, motivational, motivational, motivational, motivational, motivational, motivational, motivational, motivational, motivational, motivational, motivational, motivational, motivational, motivational, motivational, motivational, motivational, motivational, motivational, motivational, motivational, motivational, motivational, motivational, motivational, motivational, motivational, motivational, motivational, motivational, motivational, motivational, motivational, motivational,\n",
      "Description piece 7: This is a song whose genre is Electronic, and the lyrics are \"Ride on the wings of the night\".\n",
      "\n",
      "The lyrics are as follows:\n",
      "Till we meet again\n",
      "Fingers point to the sky\n",
      "Wanna go so high, wanna go so high\n",
      "I am the master of the universe\n",
      "I'm ready to go\n",
      "Dont let go\n",
      "\n",
      "successfully write prompt for Protoflicker.wav\n",
      "This music is cut into 7 pieces. Each piece has a length of 30 seconds and an overlap of 5 seconds. The description of each piece is as follows:\n",
      "Description piece 1: This is a powerful, energetic, epic, hybrid, cinematic, suspense, action, suspense, intense, powerful, cinematic, dramatic, background, movie, trailer, intro, video game, teaser, video, film, orchestral, hybrid, trailer, electronic, sport, action, advertising, dynamic, action, background, powerful, epic, cinematic, trailer, action, sport, energetic, hybrid, trailer, electronic, dynamic, powerful, energetic, hybrid, trailer, electronic, dynamic, powerful, energetic, hybrid, trailer, electronic, dynamic, powerful, energetic, hybrid, trailer, electronic, dynamic, powerful, energetic, hybrid, trailer, electronic, dynamic, powerful, energetic, hybrid, trailer, electronic, dynamic, powerful, energetic, hybrid, trailer, electronic, dynamic, powerful, energetic, hybrid, trailer, electronic, dynamic, powerful, energetic, hybrid, trailer, electronic, dynamic, powerful, energetic, hybrid, trailer, electronic, dynamic, powerful, energetic, hybrid, trailer, electronic, dynamic, powerful, energetic, hybrid, trailer, electronic, dynamic, powerful, energetic, hybrid, trailer, electronic, dynamic, powerful, energetic, hybrid, trailer, electronic, dynamic, powerful, energetic, hybrid, trailer, electronic, dynamic, powerful, energetic, hybrid, trailer, electronic, dynamic, powerful, energetic, hybrid, trailer, electronic, dynamic, powerful, energetic, hybrid, trailer, electronic, dynamic, powerful, energetic, hybrid, trailer, electronic, dynamic, powerful, energetic, hybrid, trailer, electronic, dynamic, powerful, energetic, hybrid, trailer, electronic, dynamic, powerful, energetic, hybrid, trailer, electronic, dynamic, powerful, energetic, hybrid, trailer, electronic, dynamic, powerful, energetic, hybrid, trailer, electronic, dynamic, powerful, energetic, hybrid, trailer, electronic, dynamic, powerful, energetic, hybrid, trailer, electronic, dynamic, powerful, energetic, hybrid, trailer, electronic, dynamic, powerful, energetic, hybrid, trailer, electronic, dynamic, powerful, energetic, hybrid, trailer, electronic, dynamic, powerful, energetic, hybrid, trailer, electronic, dynamic, powerful, energetic, hybrid, trailer, electronic, dynamic, powerful, energetic, hybrid, trailer, electronic, dynamic, powerful, energetic, hybrid, trailer, electronic, dynamic, powerful, energetic, hybrid, trailer, electronic, dynamic, powerful, energetic, hybrid, trailer, electronic, dynamic, powerful, energetic, hybrid, trailer, electronic, dynamic, powerful, energetic,\n",
      "Description piece 2: This is a techno, glitch, idm track. It is very fast-paced and features heavily distorted, glitchy sounds. There is a strong emphasis on the beats and rhythms, with the music feeling very dynamic and energetic. The track has a sense of tension and excitement, and would be well-suited for action scenes or high-energy sequences in a film or video game.\n",
      "Description piece 3: This is a fast-paced, energetic electronic track with a strong beat and a variety of synth sounds. It has a sense of urgency and excitement, and would be well-suited for action scenes or high-energy sequences in a film or video game. The music is fast-paced and has a strong beat and a variety of synth sounds. It has a sense of urgency and excitement, and would be well-suited for action scenes or high-energy sequences in a film or video game.\n",
      "Description piece 4: This is a fast-paced electronic track with a strong beat and a driving bassline. The high-pitched vocals add a sense of urgency and intensity to the music. The use of electronic instruments and effects gives the track a futuristic and edgy feel. This music would be well-suited for action scenes in movies or video games.\n",
      "Description piece 5: This is a fast-paced, intense electronic instrumental. The instruments used are electronic drums, synthesizers, and various percussion. The mood of this track is aggressive and intense. It would be suitable for action scenes in movies or video games.\n",
      "Description piece 6: The genre of this piece of music is electronic, experimental, glitch. The mood of this piece of music is intense, chaotic, and energetic. This piece of music would be perfect for action scenes in movies or video games, as well as scenes that require a sense of urgency or intensity. The instrumentation used in this piece of music includes drums, percussion, and electronic elements.\n",
      "Description piece 7: This is a fast-paced, aggressive electronic track. The instruments are a drum machine, synthesizers, and electronic percussion. The mood is intense and intense. This track is suitable for action, adventure, and sports videos.\n",
      "\n",
      "The lyrics are as follows:\n",
      "So I'm out of time, out of space\n",
      "I am a machine I am a machine\n",
      "I can't see what's in front of me\n",
      "They want to see you die\n",
      "I'll make it right\n",
      "\n",
      "successfully write prompt for Nhelv.wav\n"
     ]
    },
    {
     "data": {
      "text/plain": [
       "0"
      ]
     },
     "execution_count": 14,
     "metadata": {},
     "output_type": "execute_result"
    }
   ],
   "source": [
    "os.system(f'python extract/extract.py --model_path {MODEL_PATH} --data_path {DATA_PATH} --music_path {MUSIC_PATH} --output_path {DATA_PATH}.tmp/extract/ --device_num 4')"
   ]
  },
  {
   "cell_type": "markdown",
   "metadata": {},
   "source": [
    "## Process"
   ]
  },
  {
   "cell_type": "code",
   "execution_count": 16,
   "metadata": {},
   "outputs": [
    {
     "name": "stdout",
     "output_type": "stream",
     "text": [
      "['Protoflicker', 'Nhelv']\n",
      "Loading model\n",
      "Model loaded\n",
      "<class 'zhipuai._client.ZhipuAI'> <class 'NoneType'>\n",
      "Token spent: 43302\n"
     ]
    },
    {
     "data": {
      "text/plain": [
       "0"
      ]
     },
     "execution_count": 16,
     "metadata": {},
     "output_type": "execute_result"
    }
   ],
   "source": [
    "os.system(f'python process/process.py --model_path {MODEL_PATH} --data_path {DATA_PATH} --model {LLM_MODEL} --prompt_path {DATA_PATH}.tmp/extract/ --output_path {DATA_PATH}.tmp/process/ --num_char {num_char} --num_non_char {num_non_char}')"
   ]
  },
  {
   "cell_type": "code",
   "execution_count": 17,
   "metadata": {},
   "outputs": [
    {
     "name": "stdout",
     "output_type": "stream",
     "text": [
      "dynamic and inspiring scene, a person standing on top of a mountain, looking up at the sky with arms outstretched, wearing casual outdoor clothing, a determined and hopeful expression, sun rays breaking through clouds, vibrant colors of orange, yellow, and blue, sense of triumph and aspiration, background with abstract shapes and patterns, geometric forms, 8k resolution, 16:9 aspect ratio, 60fps\n",
      "vibrant cityscape at night, neon lights, dynamic silhouette of a person standing on top of a skyscraper, arms outstretched towards the stars, sense of ambition and determination, city lights reflecting off the windows, skyscrapers with futuristic designs, flying vehicles in the distance, glowing trails, starry sky above, energetic atmosphere, vivid colors, 8k resolution, 16:9 aspect ratio, 60fps\n",
      "b'dynamic, energetic, uplifting, inspiring, powerful, motivational, fresh, dynamic, fresh, uplifting, inspiring, motivational, powerful, dynamic, fresh, dynamic, fresh, dynamic, energetic, uplifting, inspiring, motivational, powerful, dynamic, fresh, dynamic, fresh, dynamic, energetic, uplifting, inspiring, motivational, powerful, dynamic, fresh, dynamic, fresh, dynamic, energetic, uplifting, inspiring, motivational, powerful, dynamic, fresh, dynamic, fresh, dynamic, energetic, uplifting, inspiring, motivational, powerful, dynamic, fresh, dynamic, fresh, dynamic, energetic, uplifting, inspiring, motivational, powerful, dynamic, fresh, dynamic, fresh, dynamic, energetic, uplifting, inspiring, motivational, powerful, dynamic, fresh, dynamic, fresh, dynamic, energetic, uplifting, inspiring, motivational, powerful, dynamic, fresh, dynamic, fresh, dynamic, energetic, uplifting, inspiring, motivational, powerful, dynamic, fresh, dynamic, fresh, dynamic, energetic, uplifting, inspiring, motivational, powerful, dynamic, fresh, dynamic, fresh, dynamic, energetic, uplifting, inspiring, motivational, powerful, dynamic, fresh, dynamic, fresh, dynamic, energetic, uplifting, inspiring, motivational, powerful, dynamic, fresh, dynamic, fresh, dynamic, energetic, uplifting, inspiring, motivational, powerful, dynamic, fresh, dynamic, fresh, dynamic, energetic, uplifting, inspiring, motivational, powerful, dynamic, fresh, dynamic, fresh, dynamic, energetic, uplifting, inspiring, motivational, powerful, dynamic, fresh, dynamic, fresh, dynamic, energetic, uplifting, inspiring, motivational, powerful, dynamic, fresh, dynamic, fresh, dynamic, energetic, uplifting, inspiring, motivational, powerful, dynamic, fresh, dynamic, fresh, dynamic, energetic, uplifting, inspiring, motivational, powerful, dynamic, fresh, dynamic, fresh, dynamic, energetic, uplifting, inspiring, motivational, powerful, dynamic, fresh, dynamic, fresh, dynamic, energetic, uplifting, inspiring, motivational, powerful, dynamic, fresh, dynamic, fresh, dynamic, energetic, uplifting, inspiring, motivational, powerful, dynamic, fresh, dynamic, fresh, dynamic, energetic, uplifting, inspiring, motivational, powerful, dynamic, fresh, dynamic, fresh, dynamic, energetic, uplifting, inspiring, motivational, powerful, dynamic, fresh, dynamic, fresh, dynamic, energetic, uplifting, inspiring, motivational, powerful, dynamic, fresh, dynamic, fresh, dynamic, energetic, uplifting, inspiring, motivational, powerful, dynamic, fresh, dynamic, fresh, dynamic, energetic, uplifting, inspiring, motivational, powerful, dynamic, fresh, dynamic, fresh, dynamic, energetic, uplifting, inspiring, motivational, powerful, dynamic, fresh, dynamic, fresh, dynamic, energetic, uplifting, inspiring, motivational, powerful, dynamic, fresh, dynamic, fresh, dynamic, energetic, uplifting, inspiring, motivational, powerful, dynamic, fresh, dynamic, fresh, dynamic, energetic, uplifting, inspiring, motivational, powerful, dynamic, fresh, dynamic, fresh, dynamic, energetic, uplifting, inspiring, motivational, powerful, dynamic, fresh, dynamic, fresh, dynamic, energetic, uplifting, inspiring, motivational, powerful, dynamic, fresh, dynamic, fresh, dynamic, energetic, uplifting, inspiring, motivational, powerful, dynamic, fresh, dynamic, fresh, dynamic, energetic, uplifting, inspiring, motivational, powerful, dynamic, fresh, dynamic, fresh, dynamic, energetic, uplifting, inspiring, motivational, powerful, dynamic, fresh, dynamic, fresh, dynamic, energetic, uplifting, inspiring, motivational, powerful, dynamic, fresh, dynamic, fresh, dynamic, energetic, uplifting, inspiring, motivational, powerful, dynamic, fresh, dynamic, fresh, dynamic, energetic, uplifting, inspiring, motivational, powerful, dynamic, fresh, dynamic, fresh, dynamic, energetic, uplifting, inspiring, motivational, powerful, dynamic, fresh, dynamic, fresh, dynamic, energetic, uplifting, inspiring, motivational, powerful, dynamic, fresh, dynamic, fresh, dynamic, energetic, uplifting, inspiring, motivational, powerful, dynamic, fresh, dynamic, fresh, dynamic, energetic, uplifting, inspiring, motivational, powerful, dynamic, fresh, dynamic, fresh, dynamic, energetic, uplifting, inspiring, motivational, powerful, dynamic, fresh, dynamic, fresh, dynamic, energetic, uplifting, inspiring, motivational, powerful, dynamic, fresh, dynamic, fresh, dynamic, energetic, uplifting, inspiring, motivational, powerful, dynamic, fresh, dynamic, fresh, dynamic, energetic, uplifting, inspiring, motivational, powerful, dynamic, fresh, dynamic, fresh, dynamic, energetic, uplifting, inspiring, motivational, powerful, dynamic, fresh, dynamic, fresh, dynamic, energetic, uplifting, inspiring, motivational, powerful, dynamic, fresh, dynamic, fresh, dynamic, energetic, uplifting, inspiring, motivational, powerful, dynamic, fresh, dynamic, fresh, dynamic, energetic, uplifting, inspiring, motivational, powerful, dynamic, fresh, dynamic, fresh, dynamic, energetic, uplifting, inspiring, motivational'\n",
      "b'Protoflicker, vibrant neon colors, abstract digital patterns, dynamic and energetic movement, futuristic cityscape with glowing lights and holograms, uplifting and motivational atmosphere, electronic music visualization, rhythm and beats represented through visual elements, 8k resolution, 16:9 aspect ratio, 60fps.'\n",
      "Dynamic and intense scene, neon lights, futuristic cityscape, abstract shapes, metallic textures, high-speed motion, glowing energy, shadowy figures, suspenseful atmosphere, vivid colors, 8k resolution, 16:9 aspect ratio, 60fps.\n",
      "dynamic and futuristic cityscape, neon lights, tall skyscrapers, flying vehicles, advanced technology, robot-like figure with glowing red eyes, a sense of motion and urgency, vivid colors, high contrast, cyberpunk atmosphere, 8k resolution, 16:9 aspect ratio, 60fps\n",
      "b'dynamic, cinematic, epic, suspenseful, action-packed, energetic, dramatic, orchestral, electronic, hybrid, powerful, futuristic, fast-paced, distorted, glitchy, idm, urgent, exciting, driving, bassline, high-pitched, futuristic, edgy, intense, aggressive, chaotic, chaotic, fast-paced, Nhelv, 8k resolution, 16:9 aspect ratio, 60fps'\n",
      "b'dark, futuristic cityscape, neon lights, intense energy, mechanical elements, abstract shapes, dynamic movement, suspenseful atmosphere, high-tech, action-packed, energetic, dramatic lighting, shadows and highlights, 8k resolution, 16:9 aspect ratio, 60fps'\n"
     ]
    }
   ],
   "source": [
    "for file_name in input_list:\n",
    "  for t in range(num_char):\n",
    "    with open(DATA_PATH + '.tmp/process/' + file_name + '.prompt' + str(t), 'r') as f:\n",
    "      print(f.read())\n",
    "  for t in range(num_non_char):\n",
    "    with open(DATA_PATH + '.tmp/process/' + file_name + '.prompt_nc' + str(t), 'rb') as f:\n",
    "      print(f.read())"
   ]
  },
  {
   "cell_type": "markdown",
   "metadata": {},
   "source": [
    "## Generate"
   ]
  },
  {
   "cell_type": "code",
   "execution_count": 21,
   "metadata": {},
   "outputs": [
    {
     "name": "stdout",
     "output_type": "stream",
     "text": [
      "Loading prompt from file\n",
      "Protoflicker.prompt\n",
      "Nhelv.prompt\n",
      "Prompt loaded\n",
      "Loading model\n"
     ]
    },
    {
     "name": "stderr",
     "output_type": "stream",
     "text": [
      "Loading pipeline components...: 100%|██████████| 7/7 [00:01<00:00,  4.57it/s]\n"
     ]
    },
    {
     "name": "stdout",
     "output_type": "stream",
     "text": [
      "Model loaded\n",
      "Generating for Protoflicker.prompt\n"
     ]
    },
    {
     "name": "stderr",
     "output_type": "stream",
     "text": [
      "Token indices sequence length is longer than the specified maximum sequence length for this model (84 > 77). Running this sequence through the model will result in indexing errors\n",
      "Token indices sequence length is longer than the specified maximum sequence length for this model (84 > 77). Running this sequence through the model will result in indexing errors\n",
      "  0%|          | 0/50 [00:00<?, ?it/s]/opt/conda/lib/python3.10/site-packages/torch/nn/modules/conv.py:456: UserWarning: Plan failed with a cudnnException: CUDNN_BACKEND_EXECUTION_PLAN_DESCRIPTOR: cudnnFinalize Descriptor Failed cudnn_status: CUDNN_STATUS_NOT_SUPPORTED (Triggered internally at ../aten/src/ATen/native/cudnn/Conv_v8.cpp:919.)\n",
      "  return F.conv2d(input, weight, bias, self.stride,\n",
      "100%|██████████| 50/50 [00:11<00:00,  4.37it/s]\n",
      "100%|██████████| 50/50 [00:11<00:00,  4.49it/s]\n"
     ]
    },
    {
     "name": "stdout",
     "output_type": "stream",
     "text": [
      "Generated for Protoflicker.prompt\n",
      "Generating for Nhelv.prompt\n"
     ]
    },
    {
     "name": "stderr",
     "output_type": "stream",
     "text": [
      "100%|██████████| 50/50 [00:11<00:00,  4.48it/s]\n",
      "100%|██████████| 50/50 [00:11<00:00,  4.47it/s]\n"
     ]
    },
    {
     "name": "stdout",
     "output_type": "stream",
     "text": [
      "Generated for Nhelv.prompt\n",
      "Loading prompt from file\n",
      "Generating image without characters\n",
      "Prompt loaded\n",
      "Generating for Protoflicker.prompt_nc\n"
     ]
    },
    {
     "name": "stderr",
     "output_type": "stream",
     "text": [
      "100%|██████████| 50/50 [00:12<00:00,  3.96it/s]\n",
      "100%|██████████| 50/50 [00:11<00:00,  4.46it/s]\n"
     ]
    },
    {
     "name": "stdout",
     "output_type": "stream",
     "text": [
      "Generated for Protoflicker.prompt_nc\n",
      "Generating for Nhelv.prompt_nc\n"
     ]
    },
    {
     "name": "stderr",
     "output_type": "stream",
     "text": [
      "100%|██████████| 50/50 [00:11<00:00,  4.44it/s]\n",
      "100%|██████████| 50/50 [00:11<00:00,  4.46it/s]\n"
     ]
    },
    {
     "name": "stdout",
     "output_type": "stream",
     "text": [
      "Generated for Nhelv.prompt_nc\n"
     ]
    },
    {
     "data": {
      "text/plain": [
       "0"
      ]
     },
     "execution_count": 21,
     "metadata": {},
     "output_type": "execute_result"
    }
   ],
   "source": [
    "os.system(f'python generate/generate.py --model_path {MODEL_PATH} --data_path {DATA_PATH} --model {GENRATE_MODEL} --output_path {DATA_PATH}.tmp/generate/ --prompt_path {DATA_PATH}.tmp/process/ --image_num {image_num} --num_char {num_char} --num_non_char {num_non_char}')"
   ]
  },
  {
   "cell_type": "markdown",
   "metadata": {},
   "source": [
    "# Style transfer"
   ]
  },
  {
   "cell_type": "code",
   "execution_count": 19,
   "metadata": {},
   "outputs": [
    {
     "name": "stderr",
     "output_type": "stream",
     "text": [
      "/opt/conda/lib/python3.10/site-packages/torchvision/io/image.py:13: UserWarning: Failed to load image Python extension: '/opt/conda/lib/python3.10/site-packages/torchvision/image.so: undefined symbol: _ZN3c1017RegisterOperatorsD1Ev'If you don't plan on using image functionality from `torchvision.io`, you can ignore this warning. Otherwise, there might be something wrong with your environment. Did you have `libjpeg` or `libpng` installed before building `torchvision` from source?\n",
      "  warn(\n"
     ]
    },
    {
     "name": "stdout",
     "output_type": "stream",
     "text": [
      "['0-0.png', '0-1.png']\n"
     ]
    },
    {
     "name": "stderr",
     "output_type": "stream",
     "text": [
      "Traceback (most recent call last):\n",
      "  File \"/root/LLM_project/codes/style_transfer/style_transfer.py\", line 64, in <module>\n",
      "    print(os.listdir(CONTENT_PATH+\"/\"+x))\n",
      "FileNotFoundError: [Errno 2] No such file or directory: '/root/LLM_project/codes/data/.tmp/generate//Nhelv'\n"
     ]
    },
    {
     "data": {
      "text/plain": [
       "256"
      ]
     },
     "execution_count": 19,
     "metadata": {},
     "output_type": "execute_result"
    }
   ],
   "source": [
    "os.system(f'python style_transfer/style_transfer.py --data_path {DATA_PATH} --output_path {DATA_PATH}.tmp/style_transfer/ --style_path {STYLE_PATH} --content_path {CONTENT_PATH} -l_o --num_char {num_char} --num_non_char {num_non_char}')"
   ]
  }
 ],
 "metadata": {
  "kernelspec": {
   "display_name": "base",
   "language": "python",
   "name": "python3"
  },
  "language_info": {
   "codemirror_mode": {
    "name": "ipython",
    "version": 3
   },
   "file_extension": ".py",
   "mimetype": "text/x-python",
   "name": "python",
   "nbconvert_exporter": "python",
   "pygments_lexer": "ipython3",
   "version": "3.10.13"
  }
 },
 "nbformat": 4,
 "nbformat_minor": 2
}
