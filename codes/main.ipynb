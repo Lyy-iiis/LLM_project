{
 "cells": [
  {
   "cell_type": "markdown",
   "metadata": {},
   "source": [
    "We should call `.py` so that cuda memory will be automatically released after each part.\n",
    "\n",
    "This notebook is used to organize the codes"
   ]
  },
  {
   "cell_type": "markdown",
   "metadata": {},
   "source": [
    "## Setup"
   ]
  },
  {
   "cell_type": "markdown",
   "metadata": {},
   "source": [
    "### What you need to do\n",
    "\n",
    "- Throw audio files into `data/` directory\n",
    "\n",
    "- Correctly set `input_list`\n",
    "\n",
    "- Create a `.env` file in the `process/` directory if using `glm-4`"
   ]
  },
  {
   "cell_type": "code",
   "execution_count": 1,
   "metadata": {},
   "outputs": [],
   "source": [
    "import os"
   ]
  },
  {
   "cell_type": "code",
   "execution_count": 2,
   "metadata": {},
   "outputs": [],
   "source": [
    "DATA_PATH = os.getcwd() + '/data/'\n",
    "MODEL_PATH = '/ssdshare/LLMs/'\n",
    "MUSIC_PATH = os.getcwd() + '/data/music/'\n",
    "LLM_MODEL = \"glm-4\"\n",
    "GENRATE_MODEL = \"playground-v2.5-1024px-aesthetic\"\n",
    "CONTENT_PATH = DATA_PATH + '.tmp/generate/'\n",
    "STYLE_PATH = DATA_PATH + 'style/illustration_style/'\n",
    "\n",
    "if not os.path.exists(DATA_PATH + '.tmp/'):\n",
    "  os.makedirs(DATA_PATH + '.tmp/')\n",
    "\n",
    "list = ['extract/', 'generate/', 'process/', 'inprompt', 'style_transfer']\n",
    "\n",
    "for folder in list:\n",
    "  if not os.path.exists(DATA_PATH + '.tmp/' + folder):\n",
    "    os.makedirs(DATA_PATH + '.tmp/' + folder)\n"
   ]
  },
  {
   "cell_type": "code",
   "execution_count": 3,
   "metadata": {},
   "outputs": [],
   "source": [
    "input_list = [\n",
    "  'cryout.mp3',\n",
    "]\n",
    "prompts = [r'''\n",
    "  The name of this song is \"cryout\". \n",
    "''',\n",
    "]\n",
    "# Pick the style images in the style library\n",
    "style_list = [\n",
    "  # 'opia.png'\n",
    "]\n",
    "num_char = 2 # default 1\n",
    "num_non_char = 2 # default 1\n",
    "image_num = 1 \n",
    "# You should check both input_list and prompts modified!!!\n",
    "with open(DATA_PATH + 'input_list.txt', 'w') as f:\n",
    "  for item in input_list:\n",
    "    f.write(\"%s\\n\" % item)\n",
    "\n",
    "with open(DATA_PATH + 'style_list.txt', 'w') as f:\n",
    "  for item in style_list:\n",
    "    f.write(\"%s\\n\" % item)\n",
    "\n",
    "tmp_list = []\n",
    "for item in input_list:\n",
    "  tmp_list.append(item[:-4])\n",
    "input_list = tmp_list\n",
    "\n",
    "# if not os.path.exists(DATA_PATH + '.tmp/inprompt/'):\n",
    "#   os.makedirs(DATA_PATH + '.tmp/inprompt/')\n",
    "for (prompt, name) in zip(prompts, input_list):\n",
    "  with open(DATA_PATH + '.tmp/inprompt/' + name + '.prompt', 'w') as f:\n",
    "    f.write(prompt)"
   ]
  },
  {
   "cell_type": "markdown",
   "metadata": {},
   "source": [
    "## Extract"
   ]
  },
  {
   "cell_type": "code",
   "execution_count": 4,
   "metadata": {},
   "outputs": [
    {
     "name": "stdout",
     "output_type": "stream",
     "text": [
      "cryout.mp3\n",
      "['cryout.wav']\n",
      "audio_start_id: 155163, audio_end_id: 155164, audio_pad_id: 151851.\n"
     ]
    },
    {
     "name": "stderr",
     "output_type": "stream",
     "text": [
      "The model is automatically converting to bf16 for faster inference. If you want to disable the automatic precision, please manually add bf16/fp16/fp32=True to \"AutoModelForCausalLM.from_pretrained\".\n",
      "Try importing flash-attention for faster inference...\n",
      "Warning: import flash_attn rotary fail, please install FlashAttention rotary to get higher efficiency https://github.com/Dao-AILab/flash-attention/tree/main/csrc/rotary\n",
      "Warning: import flash_attn rms_norm fail, please install FlashAttention layer_norm to get higher efficiency https://github.com/Dao-AILab/flash-attention/tree/main/csrc/layer_norm\n",
      "Warning: import flash_attn fail, please install FlashAttention to get higher efficiency https://github.com/Dao-AILab/flash-attention\n",
      "Loading checkpoint shards: 100%|██████████| 9/9 [00:41<00:00,  4.64s/it]\n",
      "The model is automatically converting to bf16 for faster inference. If you want to disable the automatic precision, please manually add bf16/fp16/fp32=True to \"AutoModelForCausalLM.from_pretrained\".\n",
      "Try importing flash-attention for faster inference...\n",
      "Warning: import flash_attn rotary fail, please install FlashAttention rotary to get higher efficiency https://github.com/Dao-AILab/flash-attention/tree/main/csrc/rotary\n",
      "Warning: import flash_attn rms_norm fail, please install FlashAttention layer_norm to get higher efficiency https://github.com/Dao-AILab/flash-attention/tree/main/csrc/layer_norm\n",
      "Warning: import flash_attn fail, please install FlashAttention to get higher efficiency https://github.com/Dao-AILab/flash-attention\n",
      "Loading checkpoint shards: 100%|██████████| 9/9 [00:40<00:00,  4.49s/it]\n",
      "The model is automatically converting to bf16 for faster inference. If you want to disable the automatic precision, please manually add bf16/fp16/fp32=True to \"AutoModelForCausalLM.from_pretrained\".\n",
      "Try importing flash-attention for faster inference...\n",
      "Warning: import flash_attn rotary fail, please install FlashAttention rotary to get higher efficiency https://github.com/Dao-AILab/flash-attention/tree/main/csrc/rotary\n",
      "Warning: import flash_attn rms_norm fail, please install FlashAttention layer_norm to get higher efficiency https://github.com/Dao-AILab/flash-attention/tree/main/csrc/layer_norm\n",
      "Warning: import flash_attn fail, please install FlashAttention to get higher efficiency https://github.com/Dao-AILab/flash-attention\n",
      "Loading checkpoint shards: 100%|██████████| 9/9 [00:40<00:00,  4.47s/it]\n",
      "The model is automatically converting to bf16 for faster inference. If you want to disable the automatic precision, please manually add bf16/fp16/fp32=True to \"AutoModelForCausalLM.from_pretrained\".\n",
      "Try importing flash-attention for faster inference...\n",
      "Warning: import flash_attn rotary fail, please install FlashAttention rotary to get higher efficiency https://github.com/Dao-AILab/flash-attention/tree/main/csrc/rotary\n",
      "Warning: import flash_attn rms_norm fail, please install FlashAttention layer_norm to get higher efficiency https://github.com/Dao-AILab/flash-attention/tree/main/csrc/layer_norm\n",
      "Warning: import flash_attn fail, please install FlashAttention to get higher efficiency https://github.com/Dao-AILab/flash-attention\n",
      "Loading checkpoint shards: 100%|██████████| 9/9 [00:24<00:00,  2.77s/it]\n"
     ]
    },
    {
     "name": "stdout",
     "output_type": "stream",
     "text": [
      "using device 0\n",
      "using device 1\n",
      "using device 2\n",
      "using device 3\n",
      "using device 0\n",
      "successfully add prompt for cryout.wav\n",
      "This music is cut into 5 pieces. Each piece has a length of 30 seconds and an overlap of 5 seconds. The description of each piece is as follows:\n",
      "Description piece 1: A cinematic track with a mix of suspense, hope, and optimism.\n",
      "Description piece 2: A cinematic track with piano, drums, and electronic elements. Perfect for vlogs, commercials, and more.\n",
      "Description piece 3: This is a dynamic, intense, and upbeat electronic track featuring drums, bass, and various synths. The music is energetic, powerful, and exciting, making it perfect for action scenes, trailers, and commercials. The track has a strong beat and a catchy melody that will stick in your head. The overall sound is modern and fresh, making it ideal for contemporary projects.\n",
      "Description piece 4: This is a high energy electronic track that is perfect for any type of action or sports video. The track features a fast paced drum beat, synth leads, and a catchy melody that will get stuck in your head. The track is also very dynamic and has a lot of variation, which makes it perfect for use in different parts of a video. Overall, this is a very powerful and energetic track that will add a lot of energy to any video.\n",
      "Description piece 5: This is a fast paced drum and bass track with heavy bass, hard hitting drums and cool synths. This music is great for fast paced action scenes, workout videos, and high intensity sports.\n",
      "\n",
      "The lyrics are as follows:\n",
      "望不到的未来 爱情里我们都很无奈\n",
      "As I watch the rain fall down on the city streets\n",
      "Oh, you can't take me there\n",
      "Sunshine - SUGA feat. RM\n",
      "And it's all that I need\n",
      "\n",
      "successfully write prompt for cryout.wav\n"
     ]
    },
    {
     "data": {
      "text/plain": [
       "0"
      ]
     },
     "execution_count": 4,
     "metadata": {},
     "output_type": "execute_result"
    }
   ],
   "source": [
    "os.system(f'python extract/extract.py --model_path {MODEL_PATH} --data_path {DATA_PATH} --music_path {MUSIC_PATH} --output_path {DATA_PATH}.tmp/extract/ --device_num 4')"
   ]
  },
  {
   "cell_type": "markdown",
   "metadata": {},
   "source": [
    "## Process"
   ]
  },
  {
   "cell_type": "code",
   "execution_count": 5,
   "metadata": {},
   "outputs": [
    {
     "name": "stdout",
     "output_type": "stream",
     "text": [
      "['cryout']\n",
      "Loading model\n",
      "Model loaded\n",
      "<class 'zhipuai._client.ZhipuAI'> <class 'NoneType'>\n",
      "Token spent: 17002\n"
     ]
    },
    {
     "data": {
      "text/plain": [
       "0"
      ]
     },
     "execution_count": 5,
     "metadata": {},
     "output_type": "execute_result"
    }
   ],
   "source": [
    "os.system(f'python process/process.py --model_path {MODEL_PATH} --data_path {DATA_PATH} --model {LLM_MODEL} --prompt_path {DATA_PATH}.tmp/extract/ --output_path {DATA_PATH}.tmp/process/ --num_char {num_char} --num_non_char {num_non_char}')"
   ]
  },
  {
   "cell_type": "code",
   "execution_count": 6,
   "metadata": {},
   "outputs": [
    {
     "name": "stdout",
     "output_type": "stream",
     "text": [
      "solo figure, looking upwards, expressive face, tears streaming down cheeks, rain falling, city streets, emotional turmoil, mix of hope and despair, cinematic atmosphere, bright light in distance,象征性光明, modern fashion, urban setting, blue and silver color scheme, fast-paced motion blur, energetic feel, drum and bass rhythm, synths in background, powerful imagery, 8k resolution, 16:9 aspect ratio, 60fps.\n",
      "lonely figure, looking out over a cityscape, rain falling, somber expression, hoodie or jacket, wet streets reflecting city lights, sense of contemplation, mix of electronic and organic elements in background, abstract shapes representing hope and suspense, vibrant colors contrasting with the dark mood, neon lights, fast-paced motion blur, intense atmosphere, 8k resolution, 16:9 aspect ratio, 60fps.\n",
      "b'ethereal sky with floating clouds, a glimpse of sunlight breaking through, cityscape in the distance with rain falling, abstract representation of emotions with colorful streams of light, reflective puddles on the ground, sense of hope and longing, warm tones contrasting with cool blues, no human figures, fast-paced motion in the background, dynamic and intense energy, drum and bass rhythm visualized in pulsating lights or patterns, synthesizer notes as glowing orbs or streaks, urban yet dreamy atmosphere, emotional depth, 8k resolution, 16:9 aspect ratio, 60fps.'\n",
      "b'ethereal sky with floating clouds, a hint of melancholy, cityscape in the distance with rain falling, soft golden sunlight breaking through, mixed emotions of hope and suspense, abstract shapes representing inner turmoil, deep blues and purples with splashes of warm yellow, reflective surface with raindrops creating ripples, intense dynamic energy in the foreground, fast-paced moving lines and shapes, energetic synth waves, powerful drum beats visualized, no human figures, urban yet dreamy, emotional atmosphere, 8k resolution, 16:9 aspect ratio, 60fps.'\n"
     ]
    }
   ],
   "source": [
    "for file_name in input_list:\n",
    "  for t in range(num_char):\n",
    "    with open(DATA_PATH + '.tmp/process/' + file_name + '.prompt' + str(t), 'r') as f:\n",
    "      print(f.read())\n",
    "  for t in range(num_non_char):\n",
    "    with open(DATA_PATH + '.tmp/process/' + file_name + '.prompt_nc' + str(t), 'rb') as f:\n",
    "      print(f.read())"
   ]
  },
  {
   "cell_type": "markdown",
   "metadata": {},
   "source": [
    "## Generate"
   ]
  },
  {
   "cell_type": "code",
   "execution_count": 7,
   "metadata": {},
   "outputs": [
    {
     "name": "stdout",
     "output_type": "stream",
     "text": [
      "Loading prompt from file\n",
      "cryout.prompt\n",
      "Prompt loaded\n",
      "Loading model\n"
     ]
    },
    {
     "name": "stderr",
     "output_type": "stream",
     "text": [
      "Loading pipeline components...: 100%|██████████| 7/7 [00:02<00:00,  2.89it/s]\n"
     ]
    },
    {
     "name": "stdout",
     "output_type": "stream",
     "text": [
      "Model loaded\n",
      "Generating for cryout.prompt\n"
     ]
    },
    {
     "name": "stderr",
     "output_type": "stream",
     "text": [
      "Token indices sequence length is longer than the specified maximum sequence length for this model (102 > 77). Running this sequence through the model will result in indexing errors\n",
      "Token indices sequence length is longer than the specified maximum sequence length for this model (102 > 77). Running this sequence through the model will result in indexing errors\n",
      "  0%|          | 0/50 [00:00<?, ?it/s]/opt/conda/lib/python3.10/site-packages/torch/nn/modules/conv.py:456: UserWarning: Plan failed with a cudnnException: CUDNN_BACKEND_EXECUTION_PLAN_DESCRIPTOR: cudnnFinalize Descriptor Failed cudnn_status: CUDNN_STATUS_NOT_SUPPORTED (Triggered internally at ../aten/src/ATen/native/cudnn/Conv_v8.cpp:919.)\n",
      "  return F.conv2d(input, weight, bias, self.stride,\n",
      "100%|██████████| 50/50 [00:06<00:00,  7.71it/s]\n",
      "100%|██████████| 50/50 [00:06<00:00,  8.32it/s]\n"
     ]
    },
    {
     "name": "stdout",
     "output_type": "stream",
     "text": [
      "Generated for cryout.prompt\n",
      "Loading prompt from file\n",
      "Generating image without characters\n",
      "Prompt loaded\n",
      "Generating for cryout.prompt_nc\n"
     ]
    },
    {
     "name": "stderr",
     "output_type": "stream",
     "text": [
      "100%|██████████| 50/50 [00:06<00:00,  8.28it/s]\n",
      "100%|██████████| 50/50 [00:06<00:00,  8.27it/s]\n"
     ]
    },
    {
     "name": "stdout",
     "output_type": "stream",
     "text": [
      "Generated for cryout.prompt_nc\n"
     ]
    },
    {
     "data": {
      "text/plain": [
       "0"
      ]
     },
     "execution_count": 7,
     "metadata": {},
     "output_type": "execute_result"
    }
   ],
   "source": [
    "os.system(f'python generate/generate.py --model_path {MODEL_PATH} --data_path {DATA_PATH} --model {GENRATE_MODEL} --output_path {DATA_PATH}.tmp/generate/ --prompt_path {DATA_PATH}.tmp/process/ --image_num {image_num} --num_char {num_char} --num_non_char {num_non_char}')"
   ]
  },
  {
   "cell_type": "markdown",
   "metadata": {},
   "source": [
    "# Style transfer"
   ]
  },
  {
   "cell_type": "code",
   "execution_count": 10,
   "metadata": {},
   "outputs": [
    {
     "name": "stderr",
     "output_type": "stream",
     "text": [
      "/opt/conda/lib/python3.10/site-packages/torchvision/io/image.py:13: UserWarning: Failed to load image Python extension: '/opt/conda/lib/python3.10/site-packages/torchvision/image.so: undefined symbol: _ZN3c1017RegisterOperatorsD1Ev'If you don't plan on using image functionality from `torchvision.io`, you can ignore this warning. Otherwise, there might be something wrong with your environment. Did you have `libjpeg` or `libpng` installed before building `torchvision` from source?\n",
      "  warn(\n"
     ]
    },
    {
     "name": "stdout",
     "output_type": "stream",
     "text": [
      "['0-0.png', '1-0.png', 'nc0-0.png', 'nc1-0.png']\n",
      "content: cryout/0-0.png\n",
      "style: 10.png\n",
      "Transferring from /root/LLM_project/codes/data/.tmp/generate/cryout/0-0.png to /root/LLM_project/codes/data/style/illustration_style/10.png\n",
      "Building the style transfer model..\n"
     ]
    },
    {
     "name": "stderr",
     "output_type": "stream",
     "text": [
      "Style Loss : 0.829802 Content Loss: 2.775409:  80%|████████  | 40/50 [00:04<00:01,  9.19it/s] \n"
     ]
    },
    {
     "name": "stdout",
     "output_type": "stream",
     "text": [
      "Transfer from /root/LLM_project/codes/data/.tmp/generate/cryout/0-0.png to /root/LLM_project/codes/data/style/illustration_style/10.png done\n",
      "content: cryout/1-0.png\n",
      "style: 10.png\n",
      "Transferring from /root/LLM_project/codes/data/.tmp/generate/cryout/1-0.png to /root/LLM_project/codes/data/style/illustration_style/10.png\n",
      "Building the style transfer model..\n"
     ]
    },
    {
     "name": "stderr",
     "output_type": "stream",
     "text": [
      "Style Loss : 0.351353 Content Loss: 1.966159:  80%|████████  | 40/50 [00:04<00:01,  9.47it/s]\n"
     ]
    },
    {
     "name": "stdout",
     "output_type": "stream",
     "text": [
      "Transfer from /root/LLM_project/codes/data/.tmp/generate/cryout/1-0.png to /root/LLM_project/codes/data/style/illustration_style/10.png done\n",
      "content: cryout/nc0-0.png\n",
      "style: 10.png\n",
      "Transferring from /root/LLM_project/codes/data/.tmp/generate/cryout/nc0-0.png to /root/LLM_project/codes/data/style/illustration_style/10.png\n",
      "Building the style transfer model..\n"
     ]
    },
    {
     "name": "stderr",
     "output_type": "stream",
     "text": [
      "Style Loss : 0.699911 Content Loss: 2.372981:  80%|████████  | 40/50 [00:04<00:01,  9.47it/s] \n"
     ]
    },
    {
     "name": "stdout",
     "output_type": "stream",
     "text": [
      "Transfer from /root/LLM_project/codes/data/.tmp/generate/cryout/nc0-0.png to /root/LLM_project/codes/data/style/illustration_style/10.png done\n",
      "content: cryout/nc1-0.png\n",
      "style: 10.png\n",
      "Transferring from /root/LLM_project/codes/data/.tmp/generate/cryout/nc1-0.png to /root/LLM_project/codes/data/style/illustration_style/10.png\n",
      "Building the style transfer model..\n"
     ]
    },
    {
     "name": "stderr",
     "output_type": "stream",
     "text": [
      "Style Loss : 0.850943 Content Loss: 3.052303:  80%|████████  | 40/50 [00:04<00:01,  9.47it/s] \n"
     ]
    },
    {
     "name": "stdout",
     "output_type": "stream",
     "text": [
      "Transfer from /root/LLM_project/codes/data/.tmp/generate/cryout/nc1-0.png to /root/LLM_project/codes/data/style/illustration_style/10.png done\n"
     ]
    },
    {
     "data": {
      "text/plain": [
       "0"
      ]
     },
     "execution_count": 10,
     "metadata": {},
     "output_type": "execute_result"
    }
   ],
   "source": [
    "os.system(f'python style_transfer/style_transfer.py --data_path {DATA_PATH} --output_path {DATA_PATH}.tmp/style_transfer/ --style_path {STYLE_PATH} --content_path {CONTENT_PATH} -l_o --num_char {num_char} --num_non_char {num_non_char}')"
   ]
  }
 ],
 "metadata": {
  "kernelspec": {
   "display_name": "base",
   "language": "python",
   "name": "python3"
  },
  "language_info": {
   "codemirror_mode": {
    "name": "ipython",
    "version": 3
   },
   "file_extension": ".py",
   "mimetype": "text/x-python",
   "name": "python",
   "nbconvert_exporter": "python",
   "pygments_lexer": "ipython3",
   "version": "3.10.13"
  }
 },
 "nbformat": 4,
 "nbformat_minor": 2
}
