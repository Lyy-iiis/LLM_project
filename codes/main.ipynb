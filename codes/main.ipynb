{
 "cells": [
  {
   "cell_type": "markdown",
   "metadata": {},
   "source": [
    "We should call `.py` so that cuda memory will be automatically released after each part.\n",
    "\n",
    "This notebook is used to organize the codes"
   ]
  },
  {
   "cell_type": "markdown",
   "metadata": {},
   "source": [
    "## Setup"
   ]
  },
  {
   "cell_type": "markdown",
   "metadata": {},
   "source": [
    "### What you need to do\n",
    "\n",
    "- Throw audio files into `data/` directory\n",
    "\n",
    "- Correctly set `input_list`\n",
    "\n",
    "- Create a `.env` file in the `process/` directory if using `glm-4`"
   ]
  },
  {
   "cell_type": "code",
   "execution_count": 1,
   "metadata": {},
   "outputs": [],
   "source": [
    "import os"
   ]
  },
  {
   "cell_type": "code",
   "execution_count": 2,
   "metadata": {},
   "outputs": [],
   "source": [
    "DATA_PATH = os.getcwd() + '/data/'\n",
    "MODEL_PATH = '/ssdshare/LLMs/'\n",
    "MUSIC_PATH = os.getcwd() + '/data/music/'\n",
    "LLM_MODEL = \"glm-4\"\n",
    "GENRATE_MODEL = \"playground-v2.5-1024px-aesthetic\"\n",
    "CONTENT_PATH = DATA_PATH + '.tmp/generate/'\n",
    "STYLE_PATH = DATA_PATH + 'style/illustration_style/'\n",
    "\n",
    "if not os.path.exists(DATA_PATH + '.tmp/'):\n",
    "  os.makedirs(DATA_PATH + '.tmp/')\n",
    "\n",
    "list = ['extract/', 'generate/', 'process/', 'inprompt', 'style_transfer']\n",
    "\n",
    "for folder in list:\n",
    "  if not os.path.exists(DATA_PATH + '.tmp/' + folder):\n",
    "    os.makedirs(DATA_PATH + '.tmp/' + folder)\n"
   ]
  },
  {
   "cell_type": "code",
   "execution_count": 3,
   "metadata": {},
   "outputs": [],
   "source": [
    "input_list = [\n",
    "  'out.mp3',\n",
    "]\n",
    "prompts = [r'''\n",
    "\n",
    "''',\n",
    "]\n",
    "# Pick the style images in the style library\n",
    "style_list = [\n",
    "  # 'opia.png'\n",
    "]\n",
    "num_char = 2 # default 1\n",
    "num_non_char = 2 # default 1\n",
    "image_num = 1 \n",
    "# You should check both input_list and prompts modified!!!\n",
    "with open(DATA_PATH + 'input_list.txt', 'w') as f:\n",
    "  for item in input_list:\n",
    "    f.write(\"%s\\n\" % item)\n",
    "\n",
    "with open(DATA_PATH + 'style_list.txt', 'w') as f:\n",
    "  for item in style_list:\n",
    "    f.write(\"%s\\n\" % item)\n",
    "\n",
    "tmp_list = []\n",
    "for item in input_list:\n",
    "  tmp_list.append(item[:-4])\n",
    "input_list = tmp_list\n",
    "\n",
    "# if not os.path.exists(DATA_PATH + '.tmp/inprompt/'):\n",
    "#   os.makedirs(DATA_PATH + '.tmp/inprompt/')\n",
    "for (prompt, name) in zip(prompts, input_list):\n",
    "  with open(DATA_PATH + '.tmp/inprompt/' + name + '.prompt', 'w') as f:\n",
    "    f.write(prompt)"
   ]
  },
  {
   "cell_type": "markdown",
   "metadata": {},
   "source": [
    "## Extract"
   ]
  },
  {
   "cell_type": "code",
   "execution_count": 4,
   "metadata": {},
   "outputs": [
    {
     "name": "stdout",
     "output_type": "stream",
     "text": [
      "out.mp3\n",
      "['out.wav']\n",
      "audio_start_id: 155163, audio_end_id: 155164, audio_pad_id: 151851.\n"
     ]
    },
    {
     "name": "stderr",
     "output_type": "stream",
     "text": [
      "The model is automatically converting to bf16 for faster inference. If you want to disable the automatic precision, please manually add bf16/fp16/fp32=True to \"AutoModelForCausalLM.from_pretrained\".\n",
      "Try importing flash-attention for faster inference...\n",
      "Loading checkpoint shards: 100%|██████████| 9/9 [00:03<00:00,  2.31it/s]\n",
      "The model is automatically converting to bf16 for faster inference. If you want to disable the automatic precision, please manually add bf16/fp16/fp32=True to \"AutoModelForCausalLM.from_pretrained\".\n",
      "Try importing flash-attention for faster inference...\n",
      "Loading checkpoint shards: 100%|██████████| 9/9 [00:03<00:00,  2.33it/s]\n"
     ]
    },
    {
     "name": "stdout",
     "output_type": "stream",
     "text": [
      "using device 0\n",
      "using device 1\n",
      "using device 0\n",
      "using device 1\n",
      "using device 0\n",
      "using device 1\n",
      "using device 0\n",
      "using device 1\n",
      "using device 0\n",
      "using device 1\n",
      "using device 0\n",
      "successfully add prompt for out.wav\n",
      "This music is cut into 11 pieces. Each piece has a length of 30 seconds and an overlap of 5 seconds. The description of each piece is as follows:\n",
      "Description piece 1: The song is an upbeat and energetic pop rock track. It features a catchy guitar riff, a powerful drum beat, and a catchy vocal melody. The song is about a person who is feeling down and lonely, but finds hope and happiness when they meet someone special. The lyrics are emotional and heartfelt, and the melody is uplifting and inspiring. Overall, the song is a powerful and inspiring anthem about the power of love and the importance of finding happiness in life.\n",
      "Description piece 2: The song is an upbeat and energetic pop rock track. It features a catchy melody, powerful drums, and groovy bass lines. The song is about a person who is feeling down and wants to escape from their current situation. The lyrics are full of hope and determination, as the singer sings about wanting to leave their problems behind and start a new life. The overall feeling of the song is one of optimism and determination, as the singer sings about finding the strength to move forward and overcome their challenges.\n",
      "Description piece 3: This is a song whose genre is Pop, and the lyrics are \" 如果我想到画满世界彩虹 为你翘首的那一天 纸上的世界到哪里 也许那一天 我怎么看不见 朝夕的阳光 跟我幻想在另一边 当你升上天际线的勇气 我还留着 好像这为必别 不会懂的还是你\".\n",
      "Description piece 4: This is a song whose genre is Pop, and the lyrics are \"会不会等到那一天 你才会出现 还要多久我才能在你身边 等到放晴\".\n",
      "Description piece 5: This is a song whose genre is Pop, and the lyrics are \"在你身边的那平凡的那天 也许我会比较好一点 从前从前 有个人爱你很久 但渐渐风渐渐 把距离吹的好远 好不容易 也能再多爱一天\".\n",
      "Description piece 6: The song is an upbeat pop rock song. The melody is catchy and the rhythm is energetic. The song is about a person who is in love and wants to be with their partner forever. The lyrics are emotional and express the singer's feelings of love and devotion. The song is a celebration of love and the singer's commitment to their partner.\n",
      "Description piece 7: The song is an upbeat and catchy pop song. The melody is catchy and easy to remember, with a strong hook that sticks in your head. The instrumentation includes acoustic and electric guitars, bass, and drums. The vocals are powerful and energetic, with a sense of determination and hope. The lyrics are about overcoming obstacles and holding onto hope, even when things seem difficult. Overall, the song is a powerful and inspiring anthem that encourages listeners to keep pushing forward and never give up.\n",
      "Description piece 8: This is a song whose genre is Pop, and the lyrics are \"还剩离开 风停了这天 我试过留着你 就算点点一滴滴 都代表我带你走远\".\n",
      "Description piece 9: This is a song whose genre is Pop, and the lyrics are \"等到放弃了那天 也许我会比较好一点 从前从前 有个人爱你很久 点点滴滴 都在回忆里睡着\".\n",
      "Description piece 10: A pop rock song with a passionate and determined vocal performance. The driving rhythm and guitar melody create a sense of urgency and longing. The piano adds a sense of sadness and longing. The song's lyrics express a desire to overcome obstacles and hold onto love. The song's emotional and heartfelt delivery creates a sense of determination and resilience.\n",
      "Description piece 11: This song is an emotional ballad. The piano plays the main melody with a sad, melancholic and nostalgic touch. The bass guitar plays a simple, yet profound bass line. The drums are playing a simple beat that supports the melody. The singer sings with a lot of emotion and feeling. The song is about a person who is still in love with someone who left them a long time ago. The person is trying to forget about the past, but it's not easy. The song is very emotional and it will make you feel sad and nostalgic.\n",
      "\n",
      "successfully write prompt for out.wav\n"
     ]
    },
    {
     "data": {
      "text/plain": [
       "0"
      ]
     },
     "execution_count": 4,
     "metadata": {},
     "output_type": "execute_result"
    }
   ],
   "source": [
    "os.system(f'python extract/extract.py --model_path {MODEL_PATH} --data_path {DATA_PATH} --music_path {MUSIC_PATH} --output_path {DATA_PATH}.tmp/extract/ --device_num 2 --ignore_lyrics False')"
   ]
  },
  {
   "cell_type": "markdown",
   "metadata": {},
   "source": [
    "## Process"
   ]
  },
  {
   "cell_type": "code",
   "execution_count": 8,
   "metadata": {},
   "outputs": [
    {
     "name": "stdout",
     "output_type": "stream",
     "text": [
      "['out']\n",
      "Loading model\n",
      "Model loaded\n",
      "<class 'zhipuai._client.ZhipuAI'> <class 'NoneType'>\n",
      "16\n",
      "16\n",
      "1\n",
      "16\n",
      "Token spent: 35548\n"
     ]
    },
    {
     "data": {
      "text/plain": [
       "0"
      ]
     },
     "execution_count": 8,
     "metadata": {},
     "output_type": "execute_result"
    }
   ],
   "source": [
    "os.system(f'python process/process.py --model_path {MODEL_PATH} --data_path {DATA_PATH} --model {LLM_MODEL} --prompt_path {DATA_PATH}.tmp/extract/ --output_path {DATA_PATH}.tmp/process/ --num_char {num_char} --num_non_char {num_non_char}')"
   ]
  },
  {
   "cell_type": "code",
   "execution_count": 9,
   "metadata": {},
   "outputs": [
    {
     "name": "stdout",
     "output_type": "stream",
     "text": [
      "upbeat scene, young couple holding hands, smiling, sunny park, guitar, drums, vibrant colors, emotional atmosphere, broken heart, rain, umbrella, silhouette, sunset, long shadow, heart-shaped cloud, 8k resolution, 16:9 aspect ratio, 60fps\n",
      "upbeat, energetic, pop rock, guitar riff, drum beat, vocal melody, emotional, heartfelt, uplifting, inspiring, power of love, happiness, nostalgia, longing, past relationship, regrets, mistakes, emotional, powerful, make things right, acoustic guitar, electric guitar, bass, rhythmic background, enthusiastic drums, high-pitched vocals, happy, carefree, summer road trip, party, friends, sadness, hope, rock ballad, electric guitar, piano, steady drums, longing, regret, moving on, breakup, determination, resilience, emotional goodbye, ex-partner, 8k resolution, 16:9 aspect ratio, 60fps\n",
      "b'vibrant and colorful abstract image, blending warm tones with cool accents, multiple overlapping circles representing connections and relationships, floating ethereal shapes like hearts and feathers, emotional expressions depicted through fluid brushstrokes, hope and sadness contrast, golden sunlight breaking through stormy clouds, motivational lyrics subtly weaved into the background, acoustic and electric guitar strings visible as glowing lines, abstract flowers blooming and withering, scenic landscapes in the distance, tranquil water reflection, day-to-night transition, resilience and determination shown through strong geometric shapes, 8k resolution, 16:9 aspect ratio, 60fps, no human figures present.'\n",
      "b\"vibrant and lively color palette, abstract shapes resembling musical notes floating in the air, rotating and moving with the rhythm, warm tones of yellow and orange to convey hope and happiness, contrasted with cooler blues and purples for emotional depth, intricate patterns of light and shadow, sunbeams breaking through clouds, metaphor for finding light in darkness, lush greenery in the background symbolizing growth and renewal, items from relationships like an empty chair, a half-empty glass, a forgotten book, to represent memories and loss, a sense of motion and fluidity to reflect the music's energy, no human figures, emotional journey, resolution and acceptance, 8k resolution, 16:9 aspect ratio, 60fps.\"\n"
     ]
    }
   ],
   "source": [
    "for file_name in input_list:\n",
    "  for t in range(num_char):\n",
    "    with open(DATA_PATH + '.tmp/process/' + file_name + '.prompt' + str(t), 'r') as f:\n",
    "      print(f.read())\n",
    "  for t in range(num_non_char):\n",
    "    with open(DATA_PATH + '.tmp/process/' + file_name + '.prompt_nc' + str(t), 'rb') as f:\n",
    "      print(f.read())"
   ]
  },
  {
   "cell_type": "markdown",
   "metadata": {},
   "source": [
    "## Generate"
   ]
  },
  {
   "cell_type": "code",
   "execution_count": 10,
   "metadata": {},
   "outputs": [
    {
     "name": "stdout",
     "output_type": "stream",
     "text": [
      "Loading prompt from file\n",
      "out.prompt\n",
      "Prompt loaded\n",
      "Loading model\n"
     ]
    },
    {
     "name": "stderr",
     "output_type": "stream",
     "text": [
      "Loading pipeline components...: 100%|██████████| 7/7 [00:02<00:00,  3.38it/s]\n"
     ]
    },
    {
     "name": "stdout",
     "output_type": "stream",
     "text": [
      "Model loaded\n",
      "Generating for out.prompt\n"
     ]
    },
    {
     "name": "stderr",
     "output_type": "stream",
     "text": [
      "100%|██████████| 50/50 [00:06<00:00,  7.51it/s]\n",
      "Token indices sequence length is longer than the specified maximum sequence length for this model (132 > 77). Running this sequence through the model will result in indexing errors\n",
      "Token indices sequence length is longer than the specified maximum sequence length for this model (132 > 77). Running this sequence through the model will result in indexing errors\n",
      "100%|██████████| 50/50 [00:06<00:00,  7.76it/s]\n"
     ]
    },
    {
     "name": "stdout",
     "output_type": "stream",
     "text": [
      "Generated for out.prompt\n",
      "Loading prompt from file\n",
      "Generating image without characters\n",
      "Prompt loaded\n",
      "Generating for out.prompt_nc\n"
     ]
    },
    {
     "name": "stderr",
     "output_type": "stream",
     "text": [
      "100%|██████████| 50/50 [00:06<00:00,  7.78it/s]\n",
      "100%|██████████| 50/50 [00:06<00:00,  7.74it/s]\n"
     ]
    },
    {
     "name": "stdout",
     "output_type": "stream",
     "text": [
      "Generated for out.prompt_nc\n"
     ]
    },
    {
     "data": {
      "text/plain": [
       "0"
      ]
     },
     "execution_count": 10,
     "metadata": {},
     "output_type": "execute_result"
    }
   ],
   "source": [
    "os.system(f'python generate/generate.py --model_path {MODEL_PATH} --data_path {DATA_PATH} --model {GENRATE_MODEL} --output_path {DATA_PATH}.tmp/generate/ --prompt_path {DATA_PATH}.tmp/process/ --image_num {image_num} --num_char {num_char} --num_non_char {num_non_char}')"
   ]
  },
  {
   "cell_type": "markdown",
   "metadata": {},
   "source": [
    "# Style transfer"
   ]
  },
  {
   "cell_type": "markdown",
   "metadata": {},
   "source": [
    "If you don't want to keep the previous images, run the line below to remove them (so that we can show the images generated)."
   ]
  },
  {
   "cell_type": "code",
   "execution_count": 11,
   "metadata": {},
   "outputs": [],
   "source": [
    "import os, glob\n",
    "for file_name in input_list:\n",
    "    [os.remove(f) for f in glob.glob(DATA_PATH + '.tmp/style_transfer/' + file_name + '/*')]"
   ]
  },
  {
   "cell_type": "code",
   "execution_count": 12,
   "metadata": {},
   "outputs": [
    {
     "name": "stderr",
     "output_type": "stream",
     "text": [
      "Downloading: \"https://download.pytorch.org/models/vgg19-dcbb9e9d.pth\" to /root/.cache/torch/hub/checkpoints/vgg19-dcbb9e9d.pth\n",
      "100%|██████████| 548M/548M [00:15<00:00, 37.6MB/s] \n"
     ]
    },
    {
     "name": "stdout",
     "output_type": "stream",
     "text": [
      "['0-0.png', '1-0.png', 'nc0-0.png', 'nc1-0.png']\n",
      "content: out/0-0.png\n",
      "style: 16.png\n",
      "Transferring from /root/LLM_project/codes/data/.tmp/generate/out/0-0.png to /root/LLM_project/codes/data/style/illustration_style/16.png\n",
      "Building the style transfer model..\n"
     ]
    },
    {
     "name": "stderr",
     "output_type": "stream",
     "text": [
      "Style Loss : 0.160040 Content Loss: 0.783442:  80%|████████  | 40/50 [00:04<00:01,  9.28it/s]\n"
     ]
    },
    {
     "name": "stdout",
     "output_type": "stream",
     "text": [
      "Transfer from /root/LLM_project/codes/data/.tmp/generate/out/0-0.png to /root/LLM_project/codes/data/style/illustration_style/16.png done\n",
      "content: out/1-0.png\n",
      "style: 16.png\n",
      "Transferring from /root/LLM_project/codes/data/.tmp/generate/out/1-0.png to /root/LLM_project/codes/data/style/illustration_style/16.png\n",
      "Building the style transfer model..\n"
     ]
    },
    {
     "name": "stderr",
     "output_type": "stream",
     "text": [
      "Style Loss : 0.265663 Content Loss: 1.053154:  80%|████████  | 40/50 [00:04<00:01,  9.47it/s]\n"
     ]
    },
    {
     "name": "stdout",
     "output_type": "stream",
     "text": [
      "Transfer from /root/LLM_project/codes/data/.tmp/generate/out/1-0.png to /root/LLM_project/codes/data/style/illustration_style/16.png done\n",
      "content: out/nc0-0.png\n",
      "style: 16.png\n",
      "Transferring from /root/LLM_project/codes/data/.tmp/generate/out/nc0-0.png to /root/LLM_project/codes/data/style/illustration_style/16.png\n",
      "Building the style transfer model..\n"
     ]
    },
    {
     "name": "stderr",
     "output_type": "stream",
     "text": [
      "Style Loss : 0.513660 Content Loss: 2.372728:  80%|████████  | 40/50 [00:04<00:01,  9.41it/s] \n"
     ]
    },
    {
     "name": "stdout",
     "output_type": "stream",
     "text": [
      "Transfer from /root/LLM_project/codes/data/.tmp/generate/out/nc0-0.png to /root/LLM_project/codes/data/style/illustration_style/16.png done\n",
      "content: out/nc1-0.png\n",
      "style: 16.png\n",
      "Transferring from /root/LLM_project/codes/data/.tmp/generate/out/nc1-0.png to /root/LLM_project/codes/data/style/illustration_style/16.png\n",
      "Building the style transfer model..\n"
     ]
    },
    {
     "name": "stderr",
     "output_type": "stream",
     "text": [
      "Style Loss : 0.468164 Content Loss: 2.420445:  80%|████████  | 40/50 [00:04<00:01,  9.40it/s] \n"
     ]
    },
    {
     "name": "stdout",
     "output_type": "stream",
     "text": [
      "Transfer from /root/LLM_project/codes/data/.tmp/generate/out/nc1-0.png to /root/LLM_project/codes/data/style/illustration_style/16.png done\n"
     ]
    },
    {
     "data": {
      "text/plain": [
       "0"
      ]
     },
     "execution_count": 12,
     "metadata": {},
     "output_type": "execute_result"
    }
   ],
   "source": [
    "os.system(f'python style_transfer/style_transfer.py --data_path {DATA_PATH} --output_path {DATA_PATH}.tmp/style_transfer/ --style_path {STYLE_PATH} --content_path {CONTENT_PATH} -l_o --num_char {num_char} --num_non_char {num_non_char}')"
   ]
  },
  {
   "cell_type": "markdown",
   "metadata": {},
   "source": [
    "# Final Results"
   ]
  },
  {
   "cell_type": "code",
   "execution_count": null,
   "metadata": {},
   "outputs": [],
   "source": [
    "import matplotlib.pyplot as plt\n",
    "from PIL import Image\n",
    "\n",
    "result = {}\n",
    "for music in input_list:\n",
    "  result[music] = os.listdir(DATA_PATH + '.tmp/style_transfer/'+music)\n",
    "\n",
    "for (music, pics) in zip(result.keys(), result.values()):\n",
    "  print(music)\n",
    "  for pic in pics:\n",
    "    if pic.endswith('.png'):\n",
    "      image = Image.open((DATA_PATH + '.tmp/style_transfer/'+music+'/'+pic))\n",
    "      plt.imshow(image)\n",
    "      plt.axis('off')\n",
    "      plt.show()"
   ]
  }
 ],
 "metadata": {
  "kernelspec": {
   "display_name": "base",
   "language": "python",
   "name": "python3"
  },
  "language_info": {
   "codemirror_mode": {
    "name": "ipython",
    "version": 3
   },
   "file_extension": ".py",
   "mimetype": "text/x-python",
   "name": "python",
   "nbconvert_exporter": "python",
   "pygments_lexer": "ipython3",
   "version": "3.10.13"
  }
 },
 "nbformat": 4,
 "nbformat_minor": 2
}
