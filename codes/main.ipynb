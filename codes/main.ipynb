{
 "cells": [
  {
   "cell_type": "markdown",
   "metadata": {},
   "source": [
    "We should call `.py` so that cuda memory will be automatically released after each part.\n",
    "\n",
    "This notebook is used to organize the codes"
   ]
  },
  {
   "cell_type": "markdown",
   "metadata": {},
   "source": [
    "## Setup"
   ]
  },
  {
   "cell_type": "markdown",
   "metadata": {},
   "source": [
    "### What you need to do\n",
    "\n",
    "- Throw audio files into `data/` directory\n",
    "\n",
    "- Correctly set `input_list`\n",
    "\n",
    "- Create a `.env` file in the `process/` directory if using `glm-4`"
   ]
  },
  {
   "cell_type": "code",
   "execution_count": 20,
   "metadata": {},
   "outputs": [],
   "source": [
    "import os"
   ]
  },
  {
   "cell_type": "code",
   "execution_count": 21,
   "metadata": {},
   "outputs": [],
   "source": [
    "DATA_PATH = os.getcwd() + '/data/'\n",
    "MODEL_PATH = '/ssdshare/LLMs/'\n",
    "MUSIC_PATH = os.getcwd() + '/data/music/'\n",
    "LLM_MODEL = \"glm-4\"\n",
    "GENRATE_MODEL = \"playground-v2.5-1024px-aesthetic\"\n",
    "CONTENT_PATH = DATA_PATH + '.tmp/generate/'\n",
    "STYLE_PATH = DATA_PATH + 'style/illustration_style/'\n",
    "\n",
    "if not os.path.exists(DATA_PATH + '.tmp/'):\n",
    "  os.makedirs(DATA_PATH + '.tmp/')\n",
    "\n",
    "list = ['extract/', 'generate/', 'process/', 'inprompt', 'style_transfer']\n",
    "\n",
    "for folder in list:\n",
    "  if not os.path.exists(DATA_PATH + '.tmp/' + folder):\n",
    "    os.makedirs(DATA_PATH + '.tmp/' + folder)\n"
   ]
  },
  {
   "cell_type": "code",
   "execution_count": 22,
   "metadata": {},
   "outputs": [],
   "source": [
    "input_list = [\n",
    "  'Distorted Fate.mp3',\n",
    "]\n",
    "prompts = [r'''\n",
    "\n",
    "''',\n",
    "]\n",
    "# Pick the style images in the style library\n",
    "style_list = [\n",
    "  # 'opia.png'\n",
    "]\n",
    "num_char = 2 # default 1\n",
    "num_non_char = 2 # default 1\n",
    "image_num = 1 \n",
    "# You should check both input_list and prompts modified!!!\n",
    "with open(DATA_PATH + 'input_list.txt', 'w') as f:\n",
    "  for item in input_list:\n",
    "    f.write(\"%s\\n\" % item)\n",
    "\n",
    "with open(DATA_PATH + 'style_list.txt', 'w') as f:\n",
    "  for item in style_list:\n",
    "    f.write(\"%s\\n\" % item)\n",
    "\n",
    "tmp_list = []\n",
    "for item in input_list:\n",
    "  tmp_list.append(item[:-4])\n",
    "input_list = tmp_list\n",
    "\n",
    "# if not os.path.exists(DATA_PATH + '.tmp/inprompt/'):\n",
    "#   os.makedirs(DATA_PATH + '.tmp/inprompt/')\n",
    "for (prompt, name) in zip(prompts, input_list):\n",
    "  with open(DATA_PATH + '.tmp/inprompt/' + name + '.prompt', 'w') as f:\n",
    "    f.write(prompt)"
   ]
  },
  {
   "cell_type": "markdown",
   "metadata": {},
   "source": [
    "## Extract"
   ]
  },
  {
   "cell_type": "code",
   "execution_count": 25,
   "metadata": {},
   "outputs": [
    {
     "name": "stdout",
     "output_type": "stream",
     "text": [
      "Distorted Fate.mp3\n",
      "['Distorted Fate.wav']\n",
      "audio_start_id: 155163, audio_end_id: 155164, audio_pad_id: 151851.\n"
     ]
    },
    {
     "name": "stderr",
     "output_type": "stream",
     "text": [
      "The model is automatically converting to bf16 for faster inference. If you want to disable the automatic precision, please manually add bf16/fp16/fp32=True to \"AutoModelForCausalLM.from_pretrained\".\n",
      "Try importing flash-attention for faster inference...\n",
      "Warning: import flash_attn rotary fail, please install FlashAttention rotary to get higher efficiency https://github.com/Dao-AILab/flash-attention/tree/main/csrc/rotary\n",
      "Warning: import flash_attn rms_norm fail, please install FlashAttention layer_norm to get higher efficiency https://github.com/Dao-AILab/flash-attention/tree/main/csrc/layer_norm\n",
      "Warning: import flash_attn fail, please install FlashAttention to get higher efficiency https://github.com/Dao-AILab/flash-attention\n",
      "Loading checkpoint shards: 100%|██████████| 9/9 [00:45<00:00,  5.09s/it]\n",
      "The model is automatically converting to bf16 for faster inference. If you want to disable the automatic precision, please manually add bf16/fp16/fp32=True to \"AutoModelForCausalLM.from_pretrained\".\n",
      "Try importing flash-attention for faster inference...\n",
      "Warning: import flash_attn rotary fail, please install FlashAttention rotary to get higher efficiency https://github.com/Dao-AILab/flash-attention/tree/main/csrc/rotary\n",
      "Warning: import flash_attn rms_norm fail, please install FlashAttention layer_norm to get higher efficiency https://github.com/Dao-AILab/flash-attention/tree/main/csrc/layer_norm\n",
      "Warning: import flash_attn fail, please install FlashAttention to get higher efficiency https://github.com/Dao-AILab/flash-attention\n",
      "Loading checkpoint shards: 100%|██████████| 9/9 [00:46<00:00,  5.15s/it]\n"
     ]
    },
    {
     "name": "stdout",
     "output_type": "stream",
     "text": [
      "using device 0\n",
      "using device 1\n",
      "using device 0\n",
      "using device 1\n",
      "using device 0\n",
      "using device 1\n",
      "using device 0\n",
      "successfully add prompt for Distorted Fate.wav\n",
      "This music is cut into 7 pieces. Each piece has a length of 30 seconds and an overlap of 5 seconds. The description of each piece is as follows:\n",
      "Description piece 1: A powerful, energetic, intense, aggressive, powerful dubstep track with strong beats, powerful bass, extreme synthesizers, aggressive sound effects, and other powerful elements.\n",
      "Description piece 2: This is a high-energy electronic track that is perfect for any type of action scene or high-speed chase. The beat is intense and driving, with heavy basslines and distorted synths that create a sense of urgency and excitement. The track also features a variety of sound effects, such as beeping and screeching, that add to the sense of intensity and danger. Overall, this track is perfect for adding a sense of excitement and energy to any project.\n",
      "Description piece 3: The genre of this piece of music is electronic, experimental, glitch. The mood of this piece of music is intense, loud, powerful. The instruments used in this piece of music are synthesizer, drum machine.\n",
      "Description piece 4: This is a high-energy, electronic, dubstep track. It features a heavy, distorted bassline, aggressive synthesizers, and hard-hitting drums. The mood is intense and powerful, with a sense of urgency and energy. This track would be well-suited for action scenes, sports montages, or any situation where a sense of intensity and energy is needed.\n",
      "Description piece 5: This is a high-energy electronic instrumental with a strong beat and distorted synths. It has a futuristic and intense feel, with a sense of urgency and intensity. The music is aggressive and edgy, with a strong bassline and heavy percussion. It is suitable for action scenes, sports, and extreme sports.\n",
      "Description piece 6: This is a powerful and intense electronic track with distorted guitar riffs, pounding drums, glitchy effects, and heavy bass. It has a dark and edgy vibe that evokes feelings of aggression, determination, and intensity. It would be perfect for use in action movies, video games, or sports videos to create a sense of excitement and intensity.\n",
      "Description piece 7: This one is a dark and edgy cinematic logo with a heavy bass and a powerful hit. It will certainly work well with corporate videos, business projects, presentations, commercials, advertising, TV ads, YouTube videos, vlogs and more.\n",
      "\n",
      "The lyrics are as follows:\n",
      "No one can stop me I'm a star\n",
      "I'm a star I'm a star\n",
      "I'm a star I'm a star\n",
      "We can't escape the madness\n",
      "We can't escape the darkness\n",
      "Tighten up your skin,  Put on your make-up,  Get ready to win,  You're the queen of the night\n",
      "This is the end of the line This is the end of the line\n",
      "It's a dream it's a dream\n",
      "Under the moonlight, we'll find the answers\n",
      "I can see the sun shining through the trees I can see the stars shining in the sky\n",
      "\n",
      "successfully write prompt for Distorted Fate.wav\n"
     ]
    },
    {
     "data": {
      "text/plain": [
       "0"
      ]
     },
     "execution_count": 25,
     "metadata": {},
     "output_type": "execute_result"
    }
   ],
   "source": [
    "os.system(f'python extract/extract.py --model_path {MODEL_PATH} --data_path {DATA_PATH} --music_path {MUSIC_PATH} --output_path {DATA_PATH}.tmp/extract/ --device_num 2')"
   ]
  },
  {
   "cell_type": "markdown",
   "metadata": {},
   "source": [
    "## Process"
   ]
  },
  {
   "cell_type": "code",
   "execution_count": 24,
   "metadata": {},
   "outputs": [
    {
     "name": "stdout",
     "output_type": "stream",
     "text": [
      "['Distorted Fate']\n",
      "Loading model\n",
      "Model loaded\n",
      "<class 'zhipuai._client.ZhipuAI'> <class 'NoneType'>\n",
      "16\n",
      "7\n",
      "3\n",
      "12\n",
      "Token spent: 32871\n"
     ]
    },
    {
     "data": {
      "text/plain": [
       "0"
      ]
     },
     "execution_count": 24,
     "metadata": {},
     "output_type": "execute_result"
    }
   ],
   "source": [
    "os.system(f'python process/process.py --model_path {MODEL_PATH} --data_path {DATA_PATH} --model {LLM_MODEL} --prompt_path {DATA_PATH}.tmp/extract/ --output_path {DATA_PATH}.tmp/process/ --num_char {num_char} --num_non_char {num_non_char}')"
   ]
  },
  {
   "cell_type": "code",
   "execution_count": null,
   "metadata": {},
   "outputs": [
    {
     "name": "stdout",
     "output_type": "stream",
     "text": [
      "dynamic solo figure, intense expression, starry eyes, confident posture, night scene, urban backdrop, glowing city lights, tightfitting outfit, makeup, winning attitude, queen of the night, end of the line, dreamlike atmosphere, moonlight, searching for answers, sunlight through trees, stars in the sky, vivid colors, neon accents, 8k resolution, 16:9 aspect ratio, 60fps.\n",
      "dynamic solo figure, confident posture, stars adorned on clothing, intense gaze, nightlife setting, make-up, winner's mindset, abstract skin texture, dark urban background with moonlight, tight clothing, edgy aesthetics, shining sunlight breaking through, tree silhouettes, starry sky, sense of determination, aggressive energy, 8k resolution, 16:9 aspect ratio, 60fps.\n",
      "b'dynamic solo figure, confident posture, starry attire, vivid makeup, intense gaze, nightclub setting, neon lights, abstract patterns, dark background with contrasting highlights, sense of power and aggression, distorted shapes and textures, heavy bass visualized as ripples or vibrations, 8k resolution, 16:9 aspect ratio, 60fps, cinematic logo with a strong impact, corporate elegance with an edge.'\n",
      "b'dynamic solo figure, intense expression, confident posture, starry background, dark urban landscape, glowing neon lights, tight outfit, makeup, queen of the night theme, abstract shapes, aggressive lines, deep colors, purple and blue tones, sense of power and energy, bass vibrations, 8k resolution, 16:9 aspect ratio, 60fps.'\n",
      "energetic scene, secret garden, sun warmth, mythical beast, burden, forward-looking, vibrant colors, fast-paced movement, electronic elements, abstract shapes, contrasting light and shadow, 8k resolution, 16:9 aspect ratio, 60fps.\n",
      "dynamic and intense scene, mythical garden, powerful creatures, sun's warmth, beast of burden, forward-looking posture, determined expression, vibrant colors, fast-paced motion, abstract shapes, electronic textures, drums and synthesizers, high energy, 8k resolution, 16:9 aspect ratio, 60fps.\n",
      "b'dynamic battle scene, two warriors, futuristic armor, intense expressions, rapid movements, glowing weapons, ethereal landscape, sunbeams piercing through clouds, fast-paced action, abstract patterns, energetic color palette, reds and oranges, highlights of blue and silver, sense of urgency, determination, 8k resolution, 16:9 aspect ratio, 60fps.'\n",
      "b'energetic scene, dynamic movement, secret garden, sun symbolism, beast of burden metaphor, forward-looking posture, intense expressions, fast-paced environment, abstract shapes, vivid colors, action-oriented, 8k resolution, 16:9 aspect ratio, 60fps.'\n",
      "lone figure, intense expression, standing against a backdrop of a setting sun, flames licked around the edges,VR goggles, futuristic armor or suit, red and orange hues, aggressive and dynamic, abstract patterns, high-tech interface, fast-paced motion lines, urban cityscape in the distance, sense of rebellion, independence, 8k resolution, 16:9 aspect ratio, 60fps.\n",
      "lone warrior, intense expression, fiery background, glowing horizon, fast-paced movement, dynamic angles, armor, weapons, sense of adventure, electronic elements, abstract shapes, red and orange hues, aggressive styling, 8k resolution, 16:9 aspect ratio, 60fps.\n",
      "b'dynamic and intense scene, fiery background, abstract shapes of fire and energy, male figure in center, determined expression, wearing urban streetwear, red and black colors, headphones, hand on hip,\\xe5\\x8f\\xa6\\xe4\\xb8\\x80\\xe4\\xb8\\xaa\\xe4\\xba\\xba\\xe5\\xbd\\xb1\\xe5\\x9c\\xa8\\xe8\\x83\\x8c\\xe6\\x99\\xaf\\xe4\\xb8\\xad\\xef\\xbc\\x8c\\xe6\\xa8\\xa1\\xe7\\xb3\\x8a\\xef\\xbc\\x8c\\xe8\\xad\\xa6\\xe5\\xaf\\x9f\\xe5\\x88\\xb6\\xe6\\x9c\\x8d\\xef\\xbc\\x8c neon lights flashing, fast-paced cityscape in background, aggressive and energetic atmosphere, high contrast colors, reds and blues, 8k resolution, 16:9 aspect ratio, 60fps.'\n",
      "b'dynamic and intense scene, fiery background, abstract shapes of fire and energy, male figure in center, determined expression, wearing armor or high-tech suit, sense of battle readiness, glowing aura, red and orange hues, contrasting blue highlights, fast-moving particles, aggressive atmosphere, 8k resolution, 16:9 aspect ratio, 60fps.'\n"
     ]
    }
   ],
   "source": [
    "for file_name in input_list:\n",
    "  for t in range(num_char):\n",
    "    with open(DATA_PATH + '.tmp/process/' + file_name + '.prompt' + str(t), 'r') as f:\n",
    "      print(f.read())\n",
    "  for t in range(num_non_char):\n",
    "    with open(DATA_PATH + '.tmp/process/' + file_name + '.prompt_nc' + str(t), 'rb') as f:\n",
    "      print(f.read())"
   ]
  },
  {
   "cell_type": "markdown",
   "metadata": {},
   "source": [
    "## Generate"
   ]
  },
  {
   "cell_type": "code",
   "execution_count": null,
   "metadata": {},
   "outputs": [
    {
     "name": "stdout",
     "output_type": "stream",
     "text": [
      "Loading prompt from file\n",
      "Distorted Fate.prompt\n",
      "Chronostasis.prompt\n",
      "Disorder.prompt\n",
      "Prompt loaded\n",
      "Loading model\n"
     ]
    },
    {
     "name": "stderr",
     "output_type": "stream",
     "text": [
      "Loading pipeline components...: 100%|██████████| 7/7 [00:02<00:00,  3.46it/s]\n"
     ]
    },
    {
     "name": "stdout",
     "output_type": "stream",
     "text": [
      "Model loaded\n",
      "Generating for Distorted Fate.prompt\n"
     ]
    },
    {
     "name": "stderr",
     "output_type": "stream",
     "text": [
      "Token indices sequence length is longer than the specified maximum sequence length for this model (84 > 77). Running this sequence through the model will result in indexing errors\n",
      "Token indices sequence length is longer than the specified maximum sequence length for this model (84 > 77). Running this sequence through the model will result in indexing errors\n",
      "  0%|          | 0/50 [00:00<?, ?it/s]/opt/conda/lib/python3.10/site-packages/torch/nn/modules/conv.py:456: UserWarning: Plan failed with a cudnnException: CUDNN_BACKEND_EXECUTION_PLAN_DESCRIPTOR: cudnnFinalize Descriptor Failed cudnn_status: CUDNN_STATUS_NOT_SUPPORTED (Triggered internally at ../aten/src/ATen/native/cudnn/Conv_v8.cpp:919.)\n",
      "  return F.conv2d(input, weight, bias, self.stride,\n",
      "100%|██████████| 50/50 [00:06<00:00,  7.80it/s]\n",
      "100%|██████████| 50/50 [00:06<00:00,  8.33it/s]\n"
     ]
    },
    {
     "name": "stdout",
     "output_type": "stream",
     "text": [
      "Generated for Distorted Fate.prompt\n",
      "Generating for Chronostasis.prompt\n"
     ]
    },
    {
     "name": "stderr",
     "output_type": "stream",
     "text": [
      "100%|██████████| 50/50 [00:06<00:00,  8.31it/s]\n",
      "100%|██████████| 50/50 [00:06<00:00,  8.33it/s]\n"
     ]
    },
    {
     "name": "stdout",
     "output_type": "stream",
     "text": [
      "Generated for Chronostasis.prompt\n",
      "Generating for Disorder.prompt\n"
     ]
    },
    {
     "name": "stderr",
     "output_type": "stream",
     "text": [
      "100%|██████████| 50/50 [00:06<00:00,  8.30it/s]\n",
      "100%|██████████| 50/50 [00:06<00:00,  8.30it/s]\n"
     ]
    },
    {
     "name": "stdout",
     "output_type": "stream",
     "text": [
      "Generated for Disorder.prompt\n",
      "Loading prompt from file\n",
      "Generating image without characters\n",
      "Prompt loaded\n",
      "Generating for Distorted Fate.prompt_nc\n"
     ]
    },
    {
     "name": "stderr",
     "output_type": "stream",
     "text": [
      "100%|██████████| 50/50 [00:06<00:00,  8.29it/s]\n",
      "100%|██████████| 50/50 [00:06<00:00,  8.28it/s]\n"
     ]
    },
    {
     "name": "stdout",
     "output_type": "stream",
     "text": [
      "Generated for Distorted Fate.prompt_nc\n",
      "Generating for Chronostasis.prompt_nc\n"
     ]
    },
    {
     "name": "stderr",
     "output_type": "stream",
     "text": [
      "100%|██████████| 50/50 [00:06<00:00,  8.28it/s]\n",
      "100%|██████████| 50/50 [00:06<00:00,  8.26it/s]\n"
     ]
    },
    {
     "name": "stdout",
     "output_type": "stream",
     "text": [
      "Generated for Chronostasis.prompt_nc\n",
      "Generating for Disorder.prompt_nc\n"
     ]
    },
    {
     "name": "stderr",
     "output_type": "stream",
     "text": [
      "100%|██████████| 50/50 [00:06<00:00,  8.22it/s]\n",
      "100%|██████████| 50/50 [00:06<00:00,  8.28it/s]\n"
     ]
    },
    {
     "name": "stdout",
     "output_type": "stream",
     "text": [
      "Generated for Disorder.prompt_nc\n"
     ]
    },
    {
     "data": {
      "text/plain": [
       "0"
      ]
     },
     "execution_count": 17,
     "metadata": {},
     "output_type": "execute_result"
    }
   ],
   "source": [
    "os.system(f'python generate/generate.py --model_path {MODEL_PATH} --data_path {DATA_PATH} --model {GENRATE_MODEL} --output_path {DATA_PATH}.tmp/generate/ --prompt_path {DATA_PATH}.tmp/process/ --image_num {image_num} --num_char {num_char} --num_non_char {num_non_char}')"
   ]
  },
  {
   "cell_type": "markdown",
   "metadata": {},
   "source": [
    "# Style transfer"
   ]
  },
  {
   "cell_type": "code",
   "execution_count": null,
   "metadata": {},
   "outputs": [
    {
     "name": "stderr",
     "output_type": "stream",
     "text": [
      "Error: mkl-service + Intel(R) MKL: MKL_THREADING_LAYER=INTEL is incompatible with libgomp-a34b3233.so.1 library.\n",
      "\tTry to import numpy first or set the threading layer accordingly. Set MKL_SERVICE_FORCE_INTEL to force it.\n"
     ]
    },
    {
     "data": {
      "text/plain": [
       "256"
      ]
     },
     "execution_count": 18,
     "metadata": {},
     "output_type": "execute_result"
    }
   ],
   "source": [
    "os.system(f'python style_transfer/style_transfer.py --data_path {DATA_PATH} --output_path {DATA_PATH}.tmp/style_transfer/ --style_path {STYLE_PATH} --content_path {CONTENT_PATH} -l_o --num_char {num_char} --num_non_char {num_non_char}')"
   ]
  },
  {
   "cell_type": "markdown",
   "metadata": {},
   "source": [
    "# Final Results"
   ]
  },
  {
   "cell_type": "code",
   "execution_count": null,
   "metadata": {},
   "outputs": [],
   "source": [
    "import matplotlib.pyplot as plt\n",
    "from PIL import Image\n",
    "\n",
    "result = {}\n",
    "for music in input_list:\n",
    "  result[music] = os.listdir(DATA_PATH + '.tmp/style_transfer/'+music)\n",
    "\n",
    "for (music, pics) in zip(result.keys(), result.values()):\n",
    "  print(music)\n",
    "  for pic in pics:\n",
    "    if pic.endswith('.png'):\n",
    "      image = Image.open((DATA_PATH + '.tmp/style_transfer/'+music+'/'+pic))\n",
    "      plt.imshow(image)\n",
    "      plt.axis('off')\n",
    "      plt.show()"
   ]
  }
 ],
 "metadata": {
  "kernelspec": {
   "display_name": "base",
   "language": "python",
   "name": "python3"
  },
  "language_info": {
   "codemirror_mode": {
    "name": "ipython",
    "version": 3
   },
   "file_extension": ".py",
   "mimetype": "text/x-python",
   "name": "python",
   "nbconvert_exporter": "python",
   "pygments_lexer": "ipython3",
   "version": "3.10.13"
  }
 },
 "nbformat": 4,
 "nbformat_minor": 2
}
