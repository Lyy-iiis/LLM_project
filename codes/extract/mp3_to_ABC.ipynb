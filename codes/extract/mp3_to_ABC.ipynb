{
 "cells": [
  {
   "cell_type": "code",
   "execution_count": 24,
   "metadata": {},
   "outputs": [],
   "source": [
    "from pydub import AudioSegment\n",
    "import librosa\n",
    "import numpy as np"
   ]
  },
  {
   "cell_type": "code",
   "execution_count": 33,
   "metadata": {},
   "outputs": [],
   "source": [
    "DATA_PATH = \"./\"\n",
    "STRIDE = 1024\n",
    "audio_file_name = \"HyuN - Infinity Heaven\""
   ]
  },
  {
   "cell_type": "code",
   "execution_count": 6,
   "metadata": {},
   "outputs": [
    {
     "data": {
      "text/plain": [
       "<_io.BufferedRandom name='./HyuN - Infinity Heaven.wav'>"
      ]
     },
     "execution_count": 6,
     "metadata": {},
     "output_type": "execute_result"
    }
   ],
   "source": [
    "# 1. Convert MP3 to WAV\n",
    "song = AudioSegment.from_mp3(DATA_PATH + audio_file_name + \".mp3\")\n",
    "song.export(DATA_PATH + audio_file_name + \".wav\", format=\"wav\")\n"
   ]
  },
  {
   "cell_type": "code",
   "execution_count": 17,
   "metadata": {},
   "outputs": [],
   "source": [
    "def note_to_ABC(note) :\n",
    "    # if note == 'C7' or note == 'C♯7' :\n",
    "    #     return None\n",
    "    char = note[0]\n",
    "    half = (note[1] == '♯')\n",
    "    if half :\n",
    "        digit = int(note[2])\n",
    "    else :\n",
    "        digit = int(note[1])\n",
    "    ret = ''\n",
    "    if half :\n",
    "        ret += '^'\n",
    "    ret += char\n",
    "    if digit < 4 :\n",
    "        for i in range(4 - digit) :\n",
    "            ret += ','\n",
    "    elif digit > 4 :\n",
    "        for i in range(digit - 4) :\n",
    "            ret += \"'\"\n",
    "    return ret\n"
   ]
  },
  {
   "cell_type": "code",
   "execution_count": 34,
   "metadata": {},
   "outputs": [
    {
     "name": "stdout",
     "output_type": "stream",
     "text": [
      "F, E' E B, ^C' E, ^F' ^D' B ^G,, G' ^D, E' C' ^A G' ^G ^D' ^D' E' C, ^C ^D D, F ^F G ^A ^D, G, ^G' A' ^C' E G' G' F, D E C G D, ^A, ^D, ^F' ^D, ^D, D, ^A A D' F' ^C E' F' ^F, A D' G' E, ^G, ^C' D' ^D, A D' ^G' G, F' ^A,, C, ^G' ^F, ^G, ^C' B ^F, G, E F, ^C' G' ^G, G ^F ^D' B C F, A F ^D, F ^F,, A, ^D, ^A, E' ^D ^G ^G B, D, E' A,, ^F ^F ^A ^F' ^D D, G, F,, ^A, B, G' E F, ^G ^F, F' A, ^G,, ^A ^A, ^A, E' G, ^G, G, G ^A, ^D D, ^G ^G C E' C A' ^C, ^G' D,, F' F, ^D' A, G C' ^C' B,, G, ^F' A, ^A, B,, ^C'' ^C, G' D D G' ^A,, F G' ^A, C' ^C'' ^D C F' ^D E, ^D' C' C ^D G ^F,, B D ^G, ^D, E' ^F,, D ^G ^D' B ^G' G E' F, C ^C A G' G' A, ^G,, B, G' ^A, ^G' ^D' ^F,, G' ^D' ^C' A ^C' G' ^C D D ^D' ^F F, ^A' ^G' E A, ^G F' B, ^G' D'' D, B' D' ^D' D, ^F, G, C' ^F ^G ^A C G' G A C C' ^C C ^G, E' ^C' ^F' D F A A,, D F,, ^C'' F' ^G' D' A D B, ^A ^C' F A,, B,, G ^F' ^C'' B, A F, ^C' F' ^D D, B' D' G' A, B,, B,, C ^C A, G,, ^C' ^D' ^G, A ^F' B F A ^F E' F ^C E, G' B, ^D ^C' D' ^F' ^C'' F'' C E E ^G,, C, ^C' G,, D'' ^D' B' F' B ^G,, ^F' E' ^C' ^C' G, ^D' D' E ^G, ^C'' ^C' ^A F' ^C'' F' ^C ^G, B ^D' ^C ^G, ^A' B' ^A' \n"
     ]
    }
   ],
   "source": [
    "\n",
    "y, sr = librosa.load(DATA_PATH + audio_file_name + \".wav\")\n",
    "\n",
    "# Detect onsets\n",
    "onsets = librosa.onset.onset_detect(y=y, sr=sr, hop_length=STRIDE)\n",
    "\n",
    "# Convert onsets to time\n",
    "onset_times = librosa.frames_to_time(onsets, sr=sr, hop_length=STRIDE)\n",
    "\n",
    "# Convert onset times to sample positions\n",
    "onset_samples = librosa.time_to_samples(onset_times, sr=sr)\n",
    "\n",
    "# Sample at each onset\n",
    "pitch_onsets = [librosa.yin(y[sample:sample+STRIDE], fmin=librosa.note_to_hz('C2'), fmax=librosa.note_to_hz('C7')) for sample in onset_samples]\n",
    "\n",
    "# Convert pitch onsets to ABC notation\n",
    "abc_notation = \"\"\n",
    "for p in pitch_onsets:\n",
    "    note = note_to_ABC(librosa.hz_to_note(np.mean(p)))\n",
    "    if not(note is None) :\n",
    "        abc_notation += note + \" \"\n",
    "\n",
    "print(abc_notation)"
   ]
  }
 ],
 "metadata": {
  "kernelspec": {
   "display_name": "base",
   "language": "python",
   "name": "python3"
  },
  "language_info": {
   "codemirror_mode": {
    "name": "ipython",
    "version": 3
   },
   "file_extension": ".py",
   "mimetype": "text/x-python",
   "name": "python",
   "nbconvert_exporter": "python",
   "pygments_lexer": "ipython3",
   "version": "3.10.13"
  }
 },
 "nbformat": 4,
 "nbformat_minor": 2
}
